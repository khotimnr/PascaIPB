{
  "nbformat": 4,
  "nbformat_minor": 0,
  "metadata": {
    "colab": {
      "name": "Pemrograman Stat",
      "provenance": [],
      "collapsed_sections": [],
      "toc_visible": true,
      "include_colab_link": true
    },
    "kernelspec": {
      "name": "ir",
      "display_name": "R"
    }
  },
  "cells": [
    {
      "cell_type": "markdown",
      "metadata": {
        "id": "view-in-github",
        "colab_type": "text"
      },
      "source": [
        "<a href=\"https://colab.research.google.com/github/khotimnr/PascaIPB/blob/main/Pemrograman_Stat.ipynb\" target=\"_parent\"><img src=\"https://colab.research.google.com/assets/colab-badge.svg\" alt=\"Open In Colab\"/></a>"
      ]
    },
    {
      "cell_type": "markdown",
      "metadata": {
        "id": "3kwlLkH7Gecb"
      },
      "source": [
        "# Bangkitkan Data\n"
      ]
    },
    {
      "cell_type": "code",
      "metadata": {
        "id": "HxyM6QGMFpPl",
        "outputId": "46341a76-0a4e-4a25-ff9b-4127141ccb24",
        "colab": {
          "base_uri": "https://localhost:8080/"
        }
      },
      "source": [
        "####Membentuk variabel data Frame\n",
        "\n",
        "data.nilai=function() {\n",
        "  No <- c(1:500,9001:9500)\n",
        "  ID <- paste(\"G\",formatC(No,width=4,flag=\"0\"),sep=\"\")\n",
        "  Kelas <- array(dim=length(No))\n",
        "  for (i in 1:length(No)) {\n",
        "    if(i %% 2== 0){\n",
        "      Kelas[i]='Paralel 1'\n",
        "    }else{\n",
        "      Kelas[i]='Paralel 2'\n",
        "    }\n",
        "  }\n",
        "  set.seed(5)\n",
        "  UTS <- rnorm(length(No),70,5)\n",
        "  Indeks <- rexp(length(No),1)\n",
        "  \n",
        "  ###Membuat data Frame\n",
        "  populasi <- data.frame(No,ID,Kelas,UTS,Indeks)\n",
        "  \n",
        "  ###menghilangkan indeks > 1 menjadi missing value\n",
        "  populasi1 <- data.frame(No,ID,Kelas,UTS,Indeks)\n",
        "  populasi1$Indeks[populasi1$Indeks>=1] <-NA\n",
        "  \n",
        "  \n",
        "  ##menghitung rata2 indeks yang bukan missing value\n",
        "  mean.pop <- mean(populasi1[!is.na(populasi1$Indeks),\"UTS\"])\n",
        "  \n",
        "  ##membuat data sampel \n",
        "  myIDx = (!is.na(populasi1$Indeks) & populasi1$Kelas ==\"Paralel 1\")\n",
        "  KP1 <- populasi1[myIDx,]\n",
        "  set.seed(5)\n",
        "  sample_data <- KP1[sample(nrow(KP1), 100, replace = FALSE), ]\n",
        "  \n",
        "  ##rata-rata uts\n",
        "  mean.sampel <- mean(sample_data$UTS)\n",
        "  \n",
        "  #selang kepercayaan\n",
        "  error <- qt(0.975,df=length(sample_data$UTS)-1)*sd(sample_data$UTS)/sqrt(length(sample_data$UTS))\n",
        "  interval.bawah <- mean(sample_data$UTS)-error\n",
        "  interval.atas <- mean(sample_data$UTS)+error\n",
        "  \n",
        "  #Output\n",
        "    cat(\"\\n\")\n",
        "    cat(\"=========================================\\n\")\n",
        "    cat(\"        ILUSTRASI DATA POPULASI        \\n\")\n",
        "    cat(\"=========================================\\n\")\n",
        "    print(head(populasi))\n",
        "    cat(\"=========================================\\n\")  \n",
        "    cat(\"\\n\")\n",
        "  \n",
        "  cat(\"\\n\")\n",
        "  cat(\"=========================================\\n\")\n",
        "  cat(\"     ILUSTRASI DATA POPULASI BARU\n",
        "(Indeks>1 akan dijadikan missing value) \\n\")\n",
        "  cat(\"=========================================\\n\")\n",
        "  print(head(populasi1))\n",
        "  cat(\"=========================================\\n\")\n",
        "  cat(\"\\n\")\n",
        "  \n",
        "  cat(\"\\n\")\n",
        "  cat(\"Rata-rata UTS yang memiliki nilai indeks: \\n\")\n",
        "  cat(\"\",mean.pop,\"\")\n",
        "  cat(\"\\n\")\n",
        "  \n",
        "  cat(\"\\n\")\n",
        "  cat(\"===========================================\\n\")\n",
        "  cat(\"           ILUSTRASI DATA SAMPEL           \\n\")\n",
        "  cat(\"===========================================\\n\")\n",
        "  print(head(sample_data))\n",
        "  cat(\"===========================================\\n\")  \n",
        "  cat(\"\\n\")\n",
        "  \n",
        "  \n",
        "  cat(\"\\n\")\n",
        "  if (mean.sampel>mean.pop){\n",
        "    cat(\"Rata-rata nilai UTS sampel =\",mean.sampel,\"\\n\")\n",
        "    cat(\"Rata-rata nilai UTS populasi =\",mean.pop,\"\\n\")\n",
        "    cat(\"Nilai rata-rata UTS sampel > nilai rata-rata UTS populasi\")\n",
        "  }else{\n",
        "    cat(\"Rata-rata nilai UTS sampel =\",mean.sampel,\"\\n\")\n",
        "    cat(\"Rata-rata nilai UTS populasi =\",mean.pop,\"\\n\")\n",
        "    cat(\"Nilai rata-rata UTS sampel < nilai rata-rata UTS populasi\")\n",
        "  }\n",
        "  cat(\"\\n\")\n",
        "  \n",
        "  cat(\"\\n\")\n",
        "  cat(\"Selang kepercayaan untuk parameter nilai tengah populasi ada di antara \",interval.bawah,\" dan \",interval.atas,\" \\n\")\n",
        "  cat(\"\\n\") \n",
        "   \n",
        "}\n",
        "\n",
        "data.nilai()\n",
        "\n",
        "\n"
      ],
      "execution_count": null,
      "outputs": [
        {
          "output_type": "stream",
          "text": [
            "\n",
            "=========================================\n",
            "        ILUSTRASI DATA POPULASI        \n",
            "=========================================\n",
            "  No    ID     Kelas      UTS      Indeks\n",
            "1  1 G0001 Paralel 2 65.79572 2.244674733\n",
            "2  2 G0002 Paralel 1 76.92180 0.337867329\n",
            "3  3 G0003 Paralel 2 63.72254 0.230741721\n",
            "4  4 G0004 Paralel 1 70.35071 0.641690259\n",
            "5  5 G0005 Paralel 2 78.55720 0.005480846\n",
            "6  6 G0006 Paralel 1 66.98546 1.133511810\n",
            "=========================================\n",
            "\n",
            "\n",
            "=========================================\n",
            "     ILUSTRASI DATA POPULASI BARU\n",
            "(Indeks>1 akan dijadikan missing value) \n",
            "=========================================\n",
            "  No    ID     Kelas      UTS      Indeks\n",
            "1  1 G0001 Paralel 2 65.79572          NA\n",
            "2  2 G0002 Paralel 1 76.92180 0.337867329\n",
            "3  3 G0003 Paralel 2 63.72254 0.230741721\n",
            "4  4 G0004 Paralel 1 70.35071 0.641690259\n",
            "5  5 G0005 Paralel 2 78.55720 0.005480846\n",
            "6  6 G0006 Paralel 1 66.98546          NA\n",
            "=========================================\n",
            "\n",
            "\n",
            "Rata-rata UTS yang memiliki nilai indeks: \n",
            " 69.97398 \n",
            "\n",
            "===========================================\n",
            "           ILUSTRASI DATA SAMPEL           \n",
            "===========================================\n",
            "      No    ID     Kelas      UTS    Indeks\n",
            "980 9480 G9480 Paralel 1 71.02208 0.7516962\n",
            "554 9054 G9054 Paralel 1 81.83602 0.2318768\n",
            "612 9112 G9112 Paralel 1 78.92102 0.5986009\n",
            "602 9102 G9102 Paralel 1 74.94885 0.6506060\n",
            "886 9386 G9386 Paralel 1 65.18127 0.5340829\n",
            "632 9132 G9132 Paralel 1 68.66093 0.4268746\n",
            "===========================================\n",
            "\n",
            "\n",
            "Rata-rata nilai UTS sampel = 70.22708 \n",
            "Rata-rata nilai UTS populasi = 69.97398 \n",
            "Nilai rata-rata UTS sampel > nilai rata-rata UTS populasi\n",
            "\n",
            "Selang kepercayaan untuk parameter nilai tengah populasi ada di antara  69.27051  dan  71.18365  \n",
            "\n"
          ],
          "name": "stdout"
        }
      ]
    },
    {
      "cell_type": "code",
      "metadata": {
        "id": "etY1dFzVrLhJ",
        "outputId": "8fb73fea-2593-457b-db95-1c888590056b",
        "colab": {
          "base_uri": "https://localhost:8080/",
          "height": 112
        }
      },
      "source": [
        "rku <- function(y, x, batas) {\n",
        "  # Proses Komponen Utama\n",
        "  ku <- prcomp(x, center=TRUE, scale.=TRUE)\n",
        "  # Pembatasan\n",
        "  p <- ku$sdev\n",
        "  proporsi<-p[1]^2 / sum(p^2)\n",
        "  i = 0\n",
        "  while  ((sum(proporsi) <= batas)) {\n",
        "    i = i + 1\n",
        "    proporsi[i]<-p[i]^2 / sum(p^2)\n",
        "  }\n",
        "  # Proses Regresi KU\n",
        "  regresi.ku <- lm(y~ku$x[,1:i])\n",
        "  # Proses mencari Coefficient X dari Coefficient PCR\n",
        "  beta.Z <- as.matrix(regresi.ku$coefficients[2:length(regresi.ku$coefficients)])\n",
        "  V <- as.matrix(ku$rotation)\n",
        "  beta.X <- V %*% beta.Z\n",
        "  return(beta.X)\n",
        "}\n",
        "\n",
        "set.seed(1)\n",
        "rmvn.eigen <- function(n,mu,Sigma) {\n",
        "  d <- length(mu)\n",
        "  ev <- eigen(Sigma, symmetric=TRUE)\n",
        "  lambda <- ev$values\n",
        "  V <- ev$vectors\n",
        "  R <- V%*%diag(sqrt(lambda))%*%t(V)\n",
        "  Z <- matrix(rnorm(n*d),nrow=n,ncol=d)\n",
        "  x <- Z%*%R + matrix(mu,n,d, byrow=T)\n",
        "}\n",
        "mu <-c(0,0,0) # Nilai Mu\n",
        "# Mengatur Data dengan Korelasi 0.9 untuk 4 peubah sesuai Instruksi soal\n",
        "Sigma <- matrix(c(1,.9,.9,.9,1,.9,.9,.9,1),nrow=3,ncol=3) \n",
        "x <- rmvn.eigen(1000, mu, Sigma)\n",
        "galat <- rnorm(1000,0,1) # Nilai Galat\n",
        "y <- 1*x[1]+1*x[2]+1*x[3]+1*x[4]+galat # Nilai Y yang mengikuti y = XB\n",
        "\n",
        "rku(y,x, 0.99) "
      ],
      "execution_count": null,
      "outputs": [
        {
          "output_type": "display_data",
          "data": {
            "text/plain": [
              "     [,1]       \n",
              "[1,]  0.03410922\n",
              "[2,]  0.00782465\n",
              "[3,] -0.01191814"
            ],
            "text/latex": "A matrix: 3 × 1 of type dbl\n\\begin{tabular}{l}\n\t  0.03410922\\\\\n\t  0.00782465\\\\\n\t -0.01191814\\\\\n\\end{tabular}\n",
            "text/markdown": "\nA matrix: 3 × 1 of type dbl\n\n|  0.03410922 |\n|  0.00782465 |\n| -0.01191814 |\n\n",
            "text/html": [
              "<table>\n",
              "<caption>A matrix: 3 × 1 of type dbl</caption>\n",
              "<tbody>\n",
              "\t<tr><td> 0.03410922</td></tr>\n",
              "\t<tr><td> 0.00782465</td></tr>\n",
              "\t<tr><td>-0.01191814</td></tr>\n",
              "</tbody>\n",
              "</table>\n"
            ]
          },
          "metadata": {
            "tags": []
          }
        }
      ]
    },
    {
      "cell_type": "markdown",
      "metadata": {
        "id": "uEfJMgt7QBqI"
      },
      "source": [
        "# Regresi Komponen Utama"
      ]
    },
    {
      "cell_type": "code",
      "metadata": {
        "id": "GwEfWZ4zQMH7"
      },
      "source": [
        "RKU<-function(A){\n",
        "  if(!is.matrix(A))\n",
        "    stop(\"input harus dalam matriks!\")\n",
        "  X<-A[,-1] \n",
        "  Y <-A[,1] \n",
        "\n",
        "  X1<-scale(X) #standarisasi X\n",
        "  Y1<-scale(Y)\n",
        "  \n",
        "  kovarian <- cov(X1)\n",
        "  nilai.eigen <- eigen(kovarian)  #nilai eigen untuk komponen utama\n",
        "  k <-  sum(nilai.eigen$values>1)#jumlah vektor dengan nilai eigen > 1\n",
        "  vec.eigen <-  nilai.eigen$vectors[,1:k] # pilih vektor eigen\n",
        "  \n",
        "  W<-X%*%vec.eigen  \n",
        "  model.RKU<-lm(Y1~W)\n",
        "  ringkasan<-summary(model.RKU)\n",
        "  coef.rku<-as.matrix(model.RKU$coefficients) \n",
        "  \n",
        "  beta<-vec.eigen%*%as.matrix(coef.rku[-1])\n",
        "  xbar <- apply(X, 2, mean) # mean X\n",
        "  s <- apply(X, 2, sd) # SD X\n",
        "  coefisien.x.0 <- (beta/s)*xbar # koef dalam y = b0 + b1x1 + ... + bnxn tanpa b0\n",
        "  coefisien.x <- rbind(coef.rku[1], coefisien.x.0) # koef dalam y = b0 + b1x1 + ... + bnxn\n",
        "  \n",
        "  # Koefisien dalam X\n",
        "  coefisien.x <- rbind(coef.rku[1], coefisien.x.0) # koef dalam y = b0 + b1x1 + ... + bnxn\n",
        "  \n",
        "  list(koefisien.RKU.z=beta, koefisien.x=coefisien.x, koefisien.RKU.PC=coef.rku, matriks.skor.PC=W, akar.ciri=nilai.eigen, vektor.ciri=nilai.eigen$vectors)\n",
        "  \n",
        "  \n",
        "}\n",
        "# Test\n",
        "set.seed(5)\n",
        "data1 <- matrix(rnorm(150, mean = 5, sd = 3), ncol = 5)\n",
        "hasil <-  RKU(data1)\n",
        "\n",
        "cat(\"Matriks koefisien RKU untuk X adalah : \",hasil$koefisien.RKU.X,\"\\n\")\n",
        "\n",
        "print(\"List yang berisi vektor koefisien RKU untuk X, vektor koefisien\n",
        "RKU untuk PC, matriks skor komponen utama, dan list akar ciri-vektor  :\")\n",
        "hasil \n"
      ],
      "execution_count": null,
      "outputs": []
    },
    {
      "cell_type": "markdown",
      "metadata": {
        "id": "tn5uHyjVQkDw"
      },
      "source": [
        "# RKU with Pembangkitkan Data"
      ]
    },
    {
      "cell_type": "code",
      "metadata": {
        "id": "uizoMipYQrq_",
        "outputId": "f49dec0e-0a36-4dd9-f59a-87889592bec3",
        "colab": {
          "base_uri": "https://localhost:8080/",
          "height": 132
        }
      },
      "source": [
        "RKU<-function(A){\n",
        "  if(!is.matrix(A))\n",
        "    stop(\"input harus dalam matriks!\")\n",
        "  X<-A[,-1] \n",
        "  Y <-A[,1] \n",
        "  \n",
        "  X1<-scale(X) #standarisasi X\n",
        "  Y1<-scale(Y)\n",
        "  \n",
        "  kovarian <- cov(X1)\n",
        "  nilai.eigen <- eigen(kovarian)  #nilai eigen untuk komponen utama\n",
        "  k <-  sum(nilai.eigen$values>1)#jumlah vektor dengan nilai eigen > 1\n",
        "  vec.eigen <-  nilai.eigen$vectors[,1:k] # pilih vektor eigen\n",
        "  \n",
        "  W<-X%*%vec.eigen  \n",
        "  model.RKU<-lm(Y1~W)\n",
        "  ringkasan<-summary(model.RKU)\n",
        "  coef.rku<-as.matrix(model.RKU$coefficients) \n",
        "  \n",
        "  beta<-vec.eigen%*%as.matrix(coef.rku[-1])\n",
        "  xbar <- apply(X, 2, mean) # mean X\n",
        "  s <- apply(X, 2, sd) # SD X\n",
        "  coefisien.x.0 <- (beta/s)*xbar # koef dalam y = b0 + b1x1 + ... + bnxn tanpa b0\n",
        "  coefisien.x <- rbind(coef.rku[1], coefisien.x.0) # koef dalam y = b0 + b1x1 + ... + bnxn\n",
        "  \n",
        "  # Koefisien dalam X\n",
        "   rbind(coef.rku[1], coefisien.x.0) # koef dalam y = b0 + b1x1 + ... + bnxn\n",
        "  \n",
        "  #list(koefisien.RKU.z=beta, koefisien.x=coefisien.x, koefisien.RKU.PC=coef.rku, matriks.skor.PC=W, akar.ciri=nilai.eigen, vektor.ciri=nilai.eigen$vectors)\n",
        "\n",
        "  \n",
        "}\n",
        "\n",
        "\n",
        "set.seed(5)\n",
        "rmvn.eigen <- function(n,mu,Sigma) {\n",
        "  d <- length(mu)\n",
        "  ev <- eigen(Sigma, symmetric=TRUE)\n",
        "  lambda <- ev$values\n",
        "  V <- ev$vectors\n",
        "  R <- V%*%diag(sqrt(lambda))%*%t(V)\n",
        "  Z <- matrix(rnorm(n*d),nrow=n,ncol=d)\n",
        "  X <- Z%*%R + matrix(mu,n,d, byrow=T)\n",
        "}\n",
        "\n",
        "mu <-c(0,0,0) # Nilai Mu\n",
        "# Mengatur Data dengan Korelasi 0.9 untuk 4 peubah sesuai Instruksi soal\n",
        "Sigma <- matrix(c(1,.9,.9,.9,1,.9,.9,.9,1),nrow=3,ncol=3) \n",
        "X <- rmvn.eigen(100, mu, Sigma)\n",
        "galat <- rnorm(100,0,1) # Nilai Galat\n",
        "y <- 10+3*X[1]+5*X[2]+7*X[3]+galat # Nilai Y yang mengikuti y = XB\n",
        "y <- as.matrix(y)\n",
        "hasil <- cbind(X,y)\n",
        "RKU(hasil) \n"
      ],
      "execution_count": null,
      "outputs": [
        {
          "output_type": "display_data",
          "data": {
            "text/plain": [
              "     [,1]        \n",
              "[1,] -0.708667363\n",
              "[2,]  0.010941598\n",
              "[3,]  0.008928297\n",
              "[4,]  0.648088057"
            ],
            "text/latex": "A matrix: 4 × 1 of type dbl\n\\begin{tabular}{l}\n\t -0.708667363\\\\\n\t  0.010941598\\\\\n\t  0.008928297\\\\\n\t  0.648088057\\\\\n\\end{tabular}\n",
            "text/markdown": "\nA matrix: 4 × 1 of type dbl\n\n| -0.708667363 |\n|  0.010941598 |\n|  0.008928297 |\n|  0.648088057 |\n\n",
            "text/html": [
              "<table>\n",
              "<caption>A matrix: 4 × 1 of type dbl</caption>\n",
              "<tbody>\n",
              "\t<tr><td>-0.708667363</td></tr>\n",
              "\t<tr><td> 0.010941598</td></tr>\n",
              "\t<tr><td> 0.008928297</td></tr>\n",
              "\t<tr><td> 0.648088057</td></tr>\n",
              "</tbody>\n",
              "</table>\n"
            ]
          },
          "metadata": {
            "tags": []
          }
        }
      ]
    }
  ]
}