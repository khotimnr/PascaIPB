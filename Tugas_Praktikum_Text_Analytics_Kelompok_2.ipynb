{
  "nbformat": 4,
  "nbformat_minor": 0,
  "metadata": {
    "colab": {
      "name": "Tugas Praktikum Text Analytics - Kelompok 2",
      "provenance": [],
      "collapsed_sections": [],
      "toc_visible": true,
      "include_colab_link": true
    },
    "kernelspec": {
      "display_name": "Python 3",
      "name": "python3"
    },
    "language_info": {
      "name": "python"
    }
  },
  "cells": [
    {
      "cell_type": "markdown",
      "metadata": {
        "id": "view-in-github",
        "colab_type": "text"
      },
      "source": [
        "<a href=\"https://colab.research.google.com/github/khotimnr/PascaIPB/blob/main/Tugas_Praktikum_Text_Analytics_Kelompok_2.ipynb\" target=\"_parent\"><img src=\"https://colab.research.google.com/assets/colab-badge.svg\" alt=\"Open In Colab\"/></a>"
      ]
    },
    {
      "cell_type": "markdown",
      "metadata": {
        "id": "AGlzSpHmo434"
      },
      "source": [
        "# **PENGGEROMBOLAN DATA KONTEN ARTIKEL BERITA TEMPO TAHUN 2020**\n",
        "\n",
        "---\n",
        "Kelompok 2\n",
        "---\n",
        "Nur Khotimah (G1501201012)\n",
        "\n",
        "Fardilla Rahmawati (G14170017)\n",
        "\n",
        "\n"
      ]
    },
    {
      "cell_type": "markdown",
      "metadata": {
        "id": "Ttyyfkpnosge"
      },
      "source": [
        "## **IMPOR DATA**"
      ]
    },
    {
      "cell_type": "markdown",
      "metadata": {
        "id": "ciZP7gGJQSBU"
      },
      "source": [
        "**Import data berbentuk csv maka membutuhkan package** `pandas`"
      ]
    },
    {
      "cell_type": "code",
      "metadata": {
        "id": "yfN1GdbKnvJi"
      },
      "source": [
        "import pandas as pd"
      ],
      "execution_count": null,
      "outputs": []
    },
    {
      "cell_type": "markdown",
      "metadata": {
        "id": "T0Q07zxFQlFw"
      },
      "source": [
        "**Data di import dari file yang disimpan di dalam google drive yang mana nanti membutuhkan autorisasisehingga tahapannya adalah sebagai berikut.**"
      ]
    },
    {
      "cell_type": "code",
      "metadata": {
        "colab": {
          "base_uri": "https://localhost:8080/"
        },
        "id": "i1dY6pcJxCqA",
        "outputId": "dbdd2184-f90b-4267-cf59-292b8d07f933"
      },
      "source": [
        "from google.colab import drive\n",
        "drive.mount('/content/drive')"
      ],
      "execution_count": null,
      "outputs": [
        {
          "output_type": "stream",
          "text": [
            "Mounted at /content/drive\n"
          ],
          "name": "stdout"
        }
      ]
    },
    {
      "cell_type": "code",
      "metadata": {
        "colab": {
          "base_uri": "https://localhost:8080/"
        },
        "id": "-ELwo1Ab1AGn",
        "outputId": "8ccde1ab-3a7e-4a75-92bd-4e36dd94d23e"
      },
      "source": [
        "drive.mount(\"/content/drive\", force_remount=True)"
      ],
      "execution_count": null,
      "outputs": [
        {
          "output_type": "stream",
          "text": [
            "Mounted at /content/drive\n"
          ],
          "name": "stdout"
        }
      ]
    },
    {
      "cell_type": "code",
      "metadata": {
        "colab": {
          "base_uri": "https://localhost:8080/"
        },
        "id": "gbIV6koVR0kT",
        "outputId": "7adec368-9418-4a3b-9446-99c3451fc16a"
      },
      "source": [
        "data = pd.read_csv (r'/content/drive/MyDrive/tempo_tugas.csv')\n",
        "print(data)\n",
        "df = pd.DataFrame(data, columns= ['content'])\n",
        "print (df)"
      ],
      "execution_count": null,
      "outputs": [
        {
          "output_type": "stream",
          "text": [
            "       Unnamed: 0                                            content\n",
            "0               3  ,  - Gilead Sciences Inc mempublikasikan hasil...\n",
            "1               4  ,  - Seorang wali kota di Peru pura-pura jadi ...\n",
            "2               8  ,  - Kementerian Komunikasi dan Informatika (K...\n",
            "3              14  ,  - Plt Gubernur Kepulauan Riau (Kepri) Isdia...\n",
            "4              21   - Menteri Perdagangan (Mendag) Agus Suparmant...\n",
            "...           ...                                                ...\n",
            "13401      173232   Dinas Kesehatan atau Dinkes DKI Jakarta menya...\n",
            "13402      173258  ,  -Untuk mengantisipasi penyebaran , Dinas Ke...\n",
            "13403      173279  ,  - Gedung BRI II di kawasan Bendungan Hilir,...\n",
            "13404      173287  ,  - Malaysia mengkonfirmasi tiga kasus pertam...\n",
            "13405      173562  ,  - Cina membentuk tim riset nasional yang te...\n",
            "\n",
            "[13406 rows x 2 columns]\n",
            "                                                 content\n",
            "0      ,  - Gilead Sciences Inc mempublikasikan hasil...\n",
            "1      ,  - Seorang wali kota di Peru pura-pura jadi ...\n",
            "2      ,  - Kementerian Komunikasi dan Informatika (K...\n",
            "3      ,  - Plt Gubernur Kepulauan Riau (Kepri) Isdia...\n",
            "4       - Menteri Perdagangan (Mendag) Agus Suparmant...\n",
            "...                                                  ...\n",
            "13401   Dinas Kesehatan atau Dinkes DKI Jakarta menya...\n",
            "13402  ,  -Untuk mengantisipasi penyebaran , Dinas Ke...\n",
            "13403  ,  - Gedung BRI II di kawasan Bendungan Hilir,...\n",
            "13404  ,  - Malaysia mengkonfirmasi tiga kasus pertam...\n",
            "13405  ,  - Cina membentuk tim riset nasional yang te...\n",
            "\n",
            "[13406 rows x 1 columns]\n"
          ],
          "name": "stdout"
        }
      ]
    },
    {
      "cell_type": "markdown",
      "metadata": {
        "id": "LTlyfC3FRNLV"
      },
      "source": [
        "**Untuk melihat 5 baris pertama dan 5 baris terakhir pada data.**"
      ]
    },
    {
      "cell_type": "code",
      "metadata": {
        "colab": {
          "base_uri": "https://localhost:8080/"
        },
        "id": "8bBY15XE2Lz2",
        "outputId": "8c39f4bd-dbcc-485e-8b68-8d216ae91efb"
      },
      "source": [
        "df.head"
      ],
      "execution_count": null,
      "outputs": [
        {
          "output_type": "execute_result",
          "data": {
            "text/plain": [
              "<bound method NDFrame.head of                                                  content\n",
              "0      ,  - Gilead Sciences Inc mempublikasikan hasil...\n",
              "1      ,  - Seorang wali kota di Peru pura-pura jadi ...\n",
              "2      ,  - Kementerian Komunikasi dan Informatika (K...\n",
              "3      ,  - Plt Gubernur Kepulauan Riau (Kepri) Isdia...\n",
              "4       - Menteri Perdagangan (Mendag) Agus Suparmant...\n",
              "...                                                  ...\n",
              "13401   Dinas Kesehatan atau Dinkes DKI Jakarta menya...\n",
              "13402  ,  -Untuk mengantisipasi penyebaran , Dinas Ke...\n",
              "13403  ,  - Gedung BRI II di kawasan Bendungan Hilir,...\n",
              "13404  ,  - Malaysia mengkonfirmasi tiga kasus pertam...\n",
              "13405  ,  - Cina membentuk tim riset nasional yang te...\n",
              "\n",
              "[13406 rows x 1 columns]>"
            ]
          },
          "metadata": {
            "tags": []
          },
          "execution_count": 6
        }
      ]
    },
    {
      "cell_type": "markdown",
      "metadata": {
        "id": "YDP90Sc1RuTx"
      },
      "source": [
        "**Untuk melihat dimensi data atau banyaknya baris dan kolom pada data**"
      ]
    },
    {
      "cell_type": "code",
      "metadata": {
        "colab": {
          "base_uri": "https://localhost:8080/"
        },
        "id": "r5yIcTnJ3Z-E",
        "outputId": "28262256-2cbd-4090-a83a-0f989cd54b3d"
      },
      "source": [
        "df.shape"
      ],
      "execution_count": null,
      "outputs": [
        {
          "output_type": "execute_result",
          "data": {
            "text/plain": [
              "(13406, 1)"
            ]
          },
          "metadata": {
            "tags": []
          },
          "execution_count": 7
        }
      ]
    },
    {
      "cell_type": "markdown",
      "metadata": {
        "id": "yC6c51Y8R2mu"
      },
      "source": [
        "**Untuk melihat 5 baris pertama dari data dengan hanya menampilkan kolom content**"
      ]
    },
    {
      "cell_type": "code",
      "metadata": {
        "colab": {
          "base_uri": "https://localhost:8080/"
        },
        "id": "URtY_oiq3hNg",
        "outputId": "4352d11e-547f-406c-b0e2-cb4bca59d55e"
      },
      "source": [
        "content = df[\"content\"]\n",
        "content.head()"
      ],
      "execution_count": null,
      "outputs": [
        {
          "output_type": "execute_result",
          "data": {
            "text/plain": [
              "0    ,  - Gilead Sciences Inc mempublikasikan hasil...\n",
              "1    ,  - Seorang wali kota di Peru pura-pura jadi ...\n",
              "2    ,  - Kementerian Komunikasi dan Informatika (K...\n",
              "3    ,  - Plt Gubernur Kepulauan Riau (Kepri) Isdia...\n",
              "4     - Menteri Perdagangan (Mendag) Agus Suparmant...\n",
              "Name: content, dtype: object"
            ]
          },
          "metadata": {
            "tags": []
          },
          "execution_count": 8
        }
      ]
    },
    {
      "cell_type": "markdown",
      "metadata": {
        "id": "a7drp3JESD3F"
      },
      "source": [
        "**Ingin dilakukan pengecekan apakah terdapat NA pada data.**"
      ]
    },
    {
      "cell_type": "code",
      "metadata": {
        "colab": {
          "base_uri": "https://localhost:8080/"
        },
        "id": "8kiqhcbB3yb6",
        "outputId": "4f43cc8a-a3d2-4586-8f33-917cc76c3936"
      },
      "source": [
        "print(\"Jumlah amatan NaN adalah\",content.isnull().sum())\n",
        "print(\"Contoh amatan yang NAN\")\n",
        "content.loc[content.isnull()].head()"
      ],
      "execution_count": null,
      "outputs": [
        {
          "output_type": "stream",
          "text": [
            "Jumlah amatan NaN adalah 0\n",
            "Contoh amatan yang NAN\n"
          ],
          "name": "stdout"
        },
        {
          "output_type": "execute_result",
          "data": {
            "text/plain": [
              "Series([], Name: content, dtype: object)"
            ]
          },
          "metadata": {
            "tags": []
          },
          "execution_count": 9
        }
      ]
    },
    {
      "cell_type": "markdown",
      "metadata": {
        "id": "cFsSPWDzIg3A"
      },
      "source": [
        "Dapat dilihat bahwa tidak ada baris data yang mengandung NA."
      ]
    },
    {
      "cell_type": "markdown",
      "metadata": {
        "id": "9jFkCDel4BAn"
      },
      "source": [
        "## **TEXT PROCESSING**"
      ]
    },
    {
      "cell_type": "markdown",
      "metadata": {
        "id": "Sok5eA5f4KDN"
      },
      "source": [
        "### **1. Noise Removal**\n",
        "\n",
        "\n"
      ]
    },
    {
      "cell_type": "markdown",
      "metadata": {
        "id": "9vdg-LOGSO28"
      },
      "source": [
        "**Tahapan ini dilakukan untuk membuang karakter-karakter yang tidak memiliki makna seperti ‘ ,’ dan tanda baca.**"
      ]
    },
    {
      "cell_type": "code",
      "metadata": {
        "id": "t4dGvdKe3yWL"
      },
      "source": [
        "import string\n",
        "def noise_removal(words):\n",
        "    words = words.translate(str.maketrans('', '', string.punctuation + string.digits))\n",
        "    words = words.strip()\n",
        "    return words"
      ],
      "execution_count": null,
      "outputs": []
    },
    {
      "cell_type": "code",
      "metadata": {
        "id": "8KsAjPIF3ySY"
      },
      "source": [
        "content_clean = content.str.lower()\n",
        "content_clean = content_clean.apply(noise_removal)"
      ],
      "execution_count": null,
      "outputs": []
    },
    {
      "cell_type": "code",
      "metadata": {
        "colab": {
          "base_uri": "https://localhost:8080/"
        },
        "id": "Xsn0FBIrptXQ",
        "outputId": "7969f292-029c-485d-b6ee-c6e89a80ffb5"
      },
      "source": [
        "content_clean.head()"
      ],
      "execution_count": null,
      "outputs": [
        {
          "output_type": "execute_result",
          "data": {
            "text/plain": [
              "0    gilead sciences inc mempublikasikan hasil uji ...\n",
              "1    seorang wali kota di peru purapura jadi korban...\n",
              "2    kementerian komunikasi dan informatika kominfo...\n",
              "3    plt gubernur kepulauan riau kepri isdianto yak...\n",
              "4    menteri perdagangan mendag agus suparmanto men...\n",
              "Name: content, dtype: object"
            ]
          },
          "metadata": {
            "tags": []
          },
          "execution_count": 12
        }
      ]
    },
    {
      "cell_type": "markdown",
      "metadata": {
        "id": "mzONf1tu4nx4"
      },
      "source": [
        "### **2. Tokenization**"
      ]
    },
    {
      "cell_type": "markdown",
      "metadata": {
        "id": "fX8zjJAaScox"
      },
      "source": [
        "**Tahapan ini dilakukan untuk mngambil elemen terkecil dari dokumen, pada analisis ini adalah kata.**"
      ]
    },
    {
      "cell_type": "code",
      "metadata": {
        "colab": {
          "base_uri": "https://localhost:8080/"
        },
        "id": "G7FWomWS5tOL",
        "outputId": "308be901-6446-4e2e-c5bd-1356872b9a50"
      },
      "source": [
        "import nltk\n",
        "nltk.download('punkt')"
      ],
      "execution_count": null,
      "outputs": [
        {
          "output_type": "stream",
          "text": [
            "[nltk_data] Downloading package punkt to /root/nltk_data...\n",
            "[nltk_data]   Unzipping tokenizers/punkt.zip.\n"
          ],
          "name": "stdout"
        },
        {
          "output_type": "execute_result",
          "data": {
            "text/plain": [
              "True"
            ]
          },
          "metadata": {
            "tags": []
          },
          "execution_count": 13
        }
      ]
    },
    {
      "cell_type": "code",
      "metadata": {
        "id": "R1ODP4wy3yIb"
      },
      "source": [
        "from nltk.tokenize import word_tokenize \n",
        "def tokenize_fun(words):\n",
        "    return word_tokenize(words)"
      ],
      "execution_count": null,
      "outputs": []
    },
    {
      "cell_type": "code",
      "metadata": {
        "colab": {
          "base_uri": "https://localhost:8080/"
        },
        "id": "RGjpL3u5SdgY",
        "outputId": "8303f3f0-211f-45f2-b050-420df65fbc63"
      },
      "source": [
        "content_clean = content_clean.apply(tokenize_fun)\n",
        "content_clean.head()"
      ],
      "execution_count": null,
      "outputs": [
        {
          "output_type": "execute_result",
          "data": {
            "text/plain": [
              "0    [gilead, sciences, inc, mempublikasikan, hasil...\n",
              "1    [seorang, wali, kota, di, peru, purapura, jadi...\n",
              "2    [kementerian, komunikasi, dan, informatika, ko...\n",
              "3    [plt, gubernur, kepulauan, riau, kepri, isdian...\n",
              "4    [menteri, perdagangan, mendag, agus, suparmant...\n",
              "Name: content, dtype: object"
            ]
          },
          "metadata": {
            "tags": []
          },
          "execution_count": 15
        }
      ]
    },
    {
      "cell_type": "markdown",
      "metadata": {
        "id": "j-Ng7L5A55rN"
      },
      "source": [
        "### **3. Normalization**"
      ]
    },
    {
      "cell_type": "markdown",
      "metadata": {
        "id": "vQ4T2VbuSkZk"
      },
      "source": [
        "**Tahapan ini dilakukan untuk menyamakan bentuk dan pembakuan kata yang tidak baku menjadi baku.**"
      ]
    },
    {
      "cell_type": "code",
      "metadata": {
        "colab": {
          "base_uri": "https://localhost:8080/",
          "height": 197
        },
        "id": "xmd_f-cQ46wh",
        "outputId": "f12817fc-ce1b-42e1-cd54-3a5fdbc407d0"
      },
      "source": [
        "indo_slang_words = pd.read_csv(\"https://raw.githubusercontent.com/nasalsabila/kamus-alay/master/colloquial-indonesian-lexicon.csv\")\n",
        "indo_slang_words.head()"
      ],
      "execution_count": null,
      "outputs": [
        {
          "output_type": "execute_result",
          "data": {
            "text/html": [
              "<div>\n",
              "<style scoped>\n",
              "    .dataframe tbody tr th:only-of-type {\n",
              "        vertical-align: middle;\n",
              "    }\n",
              "\n",
              "    .dataframe tbody tr th {\n",
              "        vertical-align: top;\n",
              "    }\n",
              "\n",
              "    .dataframe thead th {\n",
              "        text-align: right;\n",
              "    }\n",
              "</style>\n",
              "<table border=\"1\" class=\"dataframe\">\n",
              "  <thead>\n",
              "    <tr style=\"text-align: right;\">\n",
              "      <th></th>\n",
              "      <th>slang</th>\n",
              "      <th>formal</th>\n",
              "      <th>In-dictionary</th>\n",
              "      <th>context</th>\n",
              "      <th>category1</th>\n",
              "      <th>category2</th>\n",
              "      <th>category3</th>\n",
              "    </tr>\n",
              "  </thead>\n",
              "  <tbody>\n",
              "    <tr>\n",
              "      <th>0</th>\n",
              "      <td>woww</td>\n",
              "      <td>wow</td>\n",
              "      <td>1</td>\n",
              "      <td>wow</td>\n",
              "      <td>elongasi</td>\n",
              "      <td>0</td>\n",
              "      <td>0</td>\n",
              "    </tr>\n",
              "    <tr>\n",
              "      <th>1</th>\n",
              "      <td>aminn</td>\n",
              "      <td>amin</td>\n",
              "      <td>1</td>\n",
              "      <td>Selamat ulang tahun kakak tulus semoga panjang...</td>\n",
              "      <td>elongasi</td>\n",
              "      <td>0</td>\n",
              "      <td>0</td>\n",
              "    </tr>\n",
              "    <tr>\n",
              "      <th>2</th>\n",
              "      <td>met</td>\n",
              "      <td>selamat</td>\n",
              "      <td>1</td>\n",
              "      <td>Met hari netaas kak!? Wish you all the best @t...</td>\n",
              "      <td>abreviasi</td>\n",
              "      <td>0</td>\n",
              "      <td>0</td>\n",
              "    </tr>\n",
              "    <tr>\n",
              "      <th>3</th>\n",
              "      <td>netaas</td>\n",
              "      <td>menetas</td>\n",
              "      <td>1</td>\n",
              "      <td>Met hari netaas kak!? Wish you all the best @t...</td>\n",
              "      <td>afiksasi</td>\n",
              "      <td>elongasi</td>\n",
              "      <td>0</td>\n",
              "    </tr>\n",
              "    <tr>\n",
              "      <th>4</th>\n",
              "      <td>keberpa</td>\n",
              "      <td>keberapa</td>\n",
              "      <td>0</td>\n",
              "      <td>Birthday yg keberpa kak?</td>\n",
              "      <td>abreviasi</td>\n",
              "      <td>0</td>\n",
              "      <td>0</td>\n",
              "    </tr>\n",
              "  </tbody>\n",
              "</table>\n",
              "</div>"
            ],
            "text/plain": [
              "     slang    formal  In-dictionary  ...  category1 category2 category3\n",
              "0     woww       wow              1  ...   elongasi         0         0\n",
              "1    aminn      amin              1  ...   elongasi         0         0\n",
              "2      met   selamat              1  ...  abreviasi         0         0\n",
              "3   netaas   menetas              1  ...   afiksasi  elongasi         0\n",
              "4  keberpa  keberapa              0  ...  abreviasi         0         0\n",
              "\n",
              "[5 rows x 7 columns]"
            ]
          },
          "metadata": {
            "tags": []
          },
          "execution_count": 16
        }
      ]
    },
    {
      "cell_type": "code",
      "metadata": {
        "colab": {
          "base_uri": "https://localhost:8080/",
          "height": 197
        },
        "id": "CYc6AJ-246uN",
        "outputId": "562d063d-0595-4b7a-901f-bff84a8f6d5b"
      },
      "source": [
        "new_entry = pd.DataFrame(data={\"slang\":[\"bokis\"],\"formal\":[\"bohong\"],\"In-dictionary\":[\" \"],\"context\":[\" \"],\n",
        "                          \"category1\":[\" \"],\"category2\":[\" \"],\"category3\":[\" \"]})\n",
        "new_indo_slang_words = pd.concat([indo_slang_words,new_entry])\n",
        "new_indo_slang_words.tail()"
      ],
      "execution_count": null,
      "outputs": [
        {
          "output_type": "execute_result",
          "data": {
            "text/html": [
              "<div>\n",
              "<style scoped>\n",
              "    .dataframe tbody tr th:only-of-type {\n",
              "        vertical-align: middle;\n",
              "    }\n",
              "\n",
              "    .dataframe tbody tr th {\n",
              "        vertical-align: top;\n",
              "    }\n",
              "\n",
              "    .dataframe thead th {\n",
              "        text-align: right;\n",
              "    }\n",
              "</style>\n",
              "<table border=\"1\" class=\"dataframe\">\n",
              "  <thead>\n",
              "    <tr style=\"text-align: right;\">\n",
              "      <th></th>\n",
              "      <th>slang</th>\n",
              "      <th>formal</th>\n",
              "      <th>In-dictionary</th>\n",
              "      <th>context</th>\n",
              "      <th>category1</th>\n",
              "      <th>category2</th>\n",
              "      <th>category3</th>\n",
              "    </tr>\n",
              "  </thead>\n",
              "  <tbody>\n",
              "    <tr>\n",
              "      <th>15002</th>\n",
              "      <td>gtau</td>\n",
              "      <td>enggak tau</td>\n",
              "      <td>0</td>\n",
              "      <td>Stidaknya mrka may berkarya Dan berusaha yg tr...</td>\n",
              "      <td>akronim</td>\n",
              "      <td>abreviasi</td>\n",
              "      <td>0</td>\n",
              "    </tr>\n",
              "    <tr>\n",
              "      <th>15003</th>\n",
              "      <td>gatau</td>\n",
              "      <td>enggak tau</td>\n",
              "      <td>0</td>\n",
              "      <td>Ih gatau malu</td>\n",
              "      <td>akronim</td>\n",
              "      <td>0</td>\n",
              "      <td>0</td>\n",
              "    </tr>\n",
              "    <tr>\n",
              "      <th>15004</th>\n",
              "      <td>fans2</td>\n",
              "      <td>fan-fan</td>\n",
              "      <td>0</td>\n",
              "      <td>Jkt48 adalah tempat di mana sesama fans saling...</td>\n",
              "      <td>reduplikasi</td>\n",
              "      <td>naturalisasi</td>\n",
              "      <td>0</td>\n",
              "    </tr>\n",
              "    <tr>\n",
              "      <th>15005</th>\n",
              "      <td>gaharus</td>\n",
              "      <td>enggak harus</td>\n",
              "      <td>0</td>\n",
              "      <td>belajar tuh bisa dimana aja gaharus belajar di...</td>\n",
              "      <td>akronim</td>\n",
              "      <td>0</td>\n",
              "      <td>0</td>\n",
              "    </tr>\n",
              "    <tr>\n",
              "      <th>0</th>\n",
              "      <td>bokis</td>\n",
              "      <td>bohong</td>\n",
              "      <td></td>\n",
              "      <td></td>\n",
              "      <td></td>\n",
              "      <td></td>\n",
              "      <td></td>\n",
              "    </tr>\n",
              "  </tbody>\n",
              "</table>\n",
              "</div>"
            ],
            "text/plain": [
              "         slang        formal In-dictionary  ...    category1     category2 category3\n",
              "15002     gtau    enggak tau             0  ...      akronim     abreviasi         0\n",
              "15003    gatau    enggak tau             0  ...      akronim             0         0\n",
              "15004    fans2       fan-fan             0  ...  reduplikasi  naturalisasi         0\n",
              "15005  gaharus  enggak harus             0  ...      akronim             0         0\n",
              "0        bokis        bohong                ...                                     \n",
              "\n",
              "[5 rows x 7 columns]"
            ]
          },
          "metadata": {
            "tags": []
          },
          "execution_count": 17
        }
      ]
    },
    {
      "cell_type": "code",
      "metadata": {
        "id": "5CPoMsiE46rG"
      },
      "source": [
        "def replace_slang_word(words):\n",
        "    for index in  range(0,len(words)-1):\n",
        "        index_slang = indo_slang_words.slang==words[index]\n",
        "        formal = list(set(indo_slang_words[index_slang].formal))\n",
        "        if len(formal)==1:\n",
        "            words[index]=formal[0]\n",
        "    return words"
      ],
      "execution_count": null,
      "outputs": []
    },
    {
      "cell_type": "code",
      "metadata": {
        "id": "uw0SIyIV46ob"
      },
      "source": [
        "content_clean = content_clean.apply(replace_slang_word)"
      ],
      "execution_count": null,
      "outputs": []
    },
    {
      "cell_type": "code",
      "metadata": {
        "colab": {
          "base_uri": "https://localhost:8080/"
        },
        "id": "lH1y-OHtCKnV",
        "outputId": "6c2ca548-ad53-4fb0-9ab4-9e023da89d21"
      },
      "source": [
        "content_clean.head()"
      ],
      "execution_count": null,
      "outputs": [
        {
          "output_type": "execute_result",
          "data": {
            "text/plain": [
              "0    [gilead, sciences, inc, mempublikasikan, hasil...\n",
              "1    [seorang, wali, kota, di, peru, purapura, jadi...\n",
              "2    [kementerian, komunikasi, dan, informatika, ko...\n",
              "3    [plt, gubernur, kepulauan, riau, kepri, isdian...\n",
              "4    [menteri, perdagangan, mendag, agus, suparmant...\n",
              "Name: content, dtype: object"
            ]
          },
          "metadata": {
            "tags": []
          },
          "execution_count": 21
        }
      ]
    },
    {
      "cell_type": "markdown",
      "metadata": {
        "id": "ngqRXo4S7cE4"
      },
      "source": [
        "### **4.  Menghapus Stopwords**"
      ]
    },
    {
      "cell_type": "markdown",
      "metadata": {
        "id": "SUKhvMGDSwT8"
      },
      "source": [
        "**Tahapan ini dilakukan untuk membuang kata umum (atau kata khusus) seperti dari, ke, pada, yang, dst.**"
      ]
    },
    {
      "cell_type": "code",
      "metadata": {
        "colab": {
          "base_uri": "https://localhost:8080/"
        },
        "id": "_b1c3Ct-CXRy",
        "outputId": "3f5fa575-8245-4cf7-afe6-d20a78517784"
      },
      "source": [
        "import nltk\n",
        "nltk.download('stopwords')"
      ],
      "execution_count": null,
      "outputs": [
        {
          "output_type": "stream",
          "text": [
            "[nltk_data] Downloading package stopwords to /root/nltk_data...\n",
            "[nltk_data]   Unzipping corpora/stopwords.zip.\n"
          ],
          "name": "stdout"
        },
        {
          "output_type": "execute_result",
          "data": {
            "text/plain": [
              "True"
            ]
          },
          "metadata": {
            "tags": []
          },
          "execution_count": 22
        }
      ]
    },
    {
      "cell_type": "code",
      "metadata": {
        "id": "q_gkfTdp7buG"
      },
      "source": [
        "from nltk.corpus import stopwords\n",
        "indo_stopwords = stopwords.words('indonesian')"
      ],
      "execution_count": null,
      "outputs": []
    },
    {
      "cell_type": "code",
      "metadata": {
        "id": "TavF40w97bqf"
      },
      "source": [
        "# menambhakan stopwords bahasa indonesia\n",
        "indo_stopwords.append(\"nya\")"
      ],
      "execution_count": null,
      "outputs": []
    },
    {
      "cell_type": "code",
      "metadata": {
        "id": "GOP43TvN7bYT"
      },
      "source": [
        "#fungsi menghapus stopword\n",
        "def stopwords_removal(words):\n",
        "    return [word for word in words if word not in indo_stopwords]"
      ],
      "execution_count": null,
      "outputs": []
    },
    {
      "cell_type": "code",
      "metadata": {
        "colab": {
          "base_uri": "https://localhost:8080/"
        },
        "id": "rBMDzSOOCfh2",
        "outputId": "b0db2756-26f5-422d-bd8b-41be995527be"
      },
      "source": [
        "content_clean.head()"
      ],
      "execution_count": null,
      "outputs": [
        {
          "output_type": "execute_result",
          "data": {
            "text/plain": [
              "0    [gilead, sciences, inc, mempublikasikan, hasil...\n",
              "1    [seorang, wali, kota, di, peru, purapura, jadi...\n",
              "2    [kementerian, komunikasi, dan, informatika, ko...\n",
              "3    [plt, gubernur, kepulauan, riau, kepri, isdian...\n",
              "4    [menteri, perdagangan, mendag, agus, suparmant...\n",
              "Name: content, dtype: object"
            ]
          },
          "metadata": {
            "tags": []
          },
          "execution_count": 26
        }
      ]
    },
    {
      "cell_type": "code",
      "metadata": {
        "id": "H1X-UUFi46l6"
      },
      "source": [
        "content_clean2 = content_clean.apply(stopwords_removal)"
      ],
      "execution_count": null,
      "outputs": []
    },
    {
      "cell_type": "code",
      "metadata": {
        "colab": {
          "base_uri": "https://localhost:8080/"
        },
        "id": "vFSpUI4nS7B2",
        "outputId": "c0c981c0-6efc-4777-a524-fdd3bfa98fae"
      },
      "source": [
        "content_clean2.head()"
      ],
      "execution_count": null,
      "outputs": [
        {
          "output_type": "execute_result",
          "data": {
            "text/plain": [
              "0    [gilead, sciences, inc, mempublikasikan, hasil...\n",
              "1    [wali, kota, peru, purapura, korban, meninggal...\n",
              "2    [kementerian, komunikasi, informatika, kominfo...\n",
              "3    [plt, gubernur, kepulauan, riau, kepri, isdian...\n",
              "4    [menteri, perdagangan, mendag, agus, suparmant...\n",
              "Name: content, dtype: object"
            ]
          },
          "metadata": {
            "tags": []
          },
          "execution_count": 28
        }
      ]
    },
    {
      "cell_type": "markdown",
      "metadata": {
        "id": "sJ-rqo1v8Ape"
      },
      "source": [
        "### **5. Stemming**"
      ]
    },
    {
      "cell_type": "markdown",
      "metadata": {
        "id": "hnvQXIbMTATs"
      },
      "source": [
        "**Tahapan ini dilakukan untuk membuang imbuhan (seperti prefiks dan sufiks).**"
      ]
    },
    {
      "cell_type": "code",
      "metadata": {
        "colab": {
          "base_uri": "https://localhost:8080/"
        },
        "id": "n9DYBZbPDAgr",
        "outputId": "c73255c7-64e5-4767-933c-ebb09a716c78"
      },
      "source": [
        "!pip install Sastrawi"
      ],
      "execution_count": null,
      "outputs": [
        {
          "output_type": "stream",
          "text": [
            "Collecting Sastrawi\n",
            "\u001b[?25l  Downloading https://files.pythonhosted.org/packages/6f/4b/bab676953da3103003730b8fcdfadbdd20f333d4add10af949dd5c51e6ed/Sastrawi-1.0.1-py2.py3-none-any.whl (209kB)\n",
            "\u001b[K     |████████████████████████████████| 215kB 3.9MB/s \n",
            "\u001b[?25hInstalling collected packages: Sastrawi\n",
            "Successfully installed Sastrawi-1.0.1\n"
          ],
          "name": "stdout"
        }
      ]
    },
    {
      "cell_type": "code",
      "metadata": {
        "id": "RL79ZouU7_od"
      },
      "source": [
        "from Sastrawi.Stemmer.StemmerFactory import StemmerFactory\n",
        "# create stemmer\n",
        "factory = StemmerFactory()\n",
        "stemmer = factory.create_stemmer()"
      ],
      "execution_count": null,
      "outputs": []
    },
    {
      "cell_type": "code",
      "metadata": {
        "id": "HADC-xlp46jL"
      },
      "source": [
        "def stemmer_func(word):\n",
        "    return stemmer.stem(word)"
      ],
      "execution_count": null,
      "outputs": []
    },
    {
      "cell_type": "code",
      "metadata": {
        "id": "y8MO-qoti1iK"
      },
      "source": [
        "word_dict = {}\n",
        "\n",
        "for document in content_clean2:\n",
        "    for word in document:\n",
        "        if word not in word_dict:\n",
        "            word_dict[word] = ' '\n",
        "\n",
        "for word in word_dict:\n",
        "    word_dict[word] = stemmer_func(word)"
      ],
      "execution_count": null,
      "outputs": []
    },
    {
      "cell_type": "code",
      "metadata": {
        "id": "AVJCD4Lb8NUO"
      },
      "source": [
        "def get_stemmer_word(document):\n",
        "    return [word_dict[word] for word in document]"
      ],
      "execution_count": null,
      "outputs": []
    },
    {
      "cell_type": "code",
      "metadata": {
        "id": "N4_K6jZo8NOE"
      },
      "source": [
        "content_clean3 = content_clean2.apply(get_stemmer_word)"
      ],
      "execution_count": null,
      "outputs": []
    },
    {
      "cell_type": "code",
      "metadata": {
        "colab": {
          "base_uri": "https://localhost:8080/"
        },
        "id": "jZtmEtm_SJx8",
        "outputId": "f33ab7fe-5080-4212-e8fb-5e7d4a516366"
      },
      "source": [
        "content_clean3.head()"
      ],
      "execution_count": null,
      "outputs": [
        {
          "output_type": "execute_result",
          "data": {
            "text/plain": [
              "0    [gilead, sciences, inc, publikasi, hasil, uji,...\n",
              "1    [wali, kota, peru, purapura, korban, tinggal, ...\n",
              "2    [menteri, komunikasi, informatika, kominfo, gu...\n",
              "3    [plt, gubernur, pulau, riau, kepri, isdianto, ...\n",
              "4    [menteri, dagang, mendag, agus, suparmanto, bu...\n",
              "Name: content, dtype: object"
            ]
          },
          "metadata": {
            "tags": []
          },
          "execution_count": 35
        }
      ]
    },
    {
      "cell_type": "markdown",
      "metadata": {
        "id": "GDe9k5IY8nh2"
      },
      "source": [
        "### **6. Convert to Text**"
      ]
    },
    {
      "cell_type": "markdown",
      "metadata": {
        "id": "QNnxFYN6TFYv"
      },
      "source": [
        "**Tahapan ini dilakukan untuk Menyatukan token-token (kata) menjadi satu kalimat.**"
      ]
    },
    {
      "cell_type": "code",
      "metadata": {
        "id": "3M26s1Gk8NKn"
      },
      "source": [
        "def list_to_text(token):\n",
        "    text = \" \"\n",
        "    return text.join(token)"
      ],
      "execution_count": null,
      "outputs": []
    },
    {
      "cell_type": "code",
      "metadata": {
        "colab": {
          "base_uri": "https://localhost:8080/"
        },
        "id": "LVge4QY48rcT",
        "outputId": "d4d20e72-3d62-4743-ad49-8da7aa4ab5d9"
      },
      "source": [
        "content_clean_fin = content_clean3.apply(list_to_text)\n",
        "content_clean_fin.head()"
      ],
      "execution_count": null,
      "outputs": [
        {
          "output_type": "execute_result",
          "data": {
            "text/plain": [
              "0    gilead sciences inc publikasi hasil uji baru g...\n",
              "1    wali kota peru purapura korban tinggal covid b...\n",
              "2    menteri komunikasi informatika kominfo guna ti...\n",
              "3    plt gubernur pulau riau kepri isdianto daerah ...\n",
              "4    menteri dagang mendag agus suparmanto buka mal...\n",
              "Name: content, dtype: object"
            ]
          },
          "metadata": {
            "tags": []
          },
          "execution_count": 37
        }
      ]
    },
    {
      "cell_type": "markdown",
      "metadata": {
        "id": "40WqGbFT9B6E"
      },
      "source": [
        "### **Menampilkan WordCloud**"
      ]
    },
    {
      "cell_type": "code",
      "metadata": {
        "id": "wk9YUj8Z8rZj"
      },
      "source": [
        "from wordcloud import WordCloud\n",
        "import matplotlib.pyplot as plt"
      ],
      "execution_count": null,
      "outputs": []
    },
    {
      "cell_type": "code",
      "metadata": {
        "id": "5twHucWW8rXb"
      },
      "source": [
        "content_text = content_clean_fin.to_string()"
      ],
      "execution_count": null,
      "outputs": []
    },
    {
      "cell_type": "code",
      "metadata": {
        "colab": {
          "base_uri": "https://localhost:8080/"
        },
        "id": "lK2jNqDO8rUQ",
        "outputId": "e85b1563-1208-4623-eb4c-07fbf327aebd"
      },
      "source": [
        "wordcloud = WordCloud(background_color=\"white\")\n",
        "wordcloud.generate(content_text)"
      ],
      "execution_count": null,
      "outputs": [
        {
          "output_type": "execute_result",
          "data": {
            "text/plain": [
              "<wordcloud.wordcloud.WordCloud at 0x7f5b8c619ad0>"
            ]
          },
          "metadata": {
            "tags": []
          },
          "execution_count": 40
        }
      ]
    },
    {
      "cell_type": "code",
      "metadata": {
        "colab": {
          "base_uri": "https://localhost:8080/",
          "height": 197
        },
        "id": "hSnv_HHhYpuj",
        "outputId": "2bc4d02a-07c1-4fc6-a93a-f07aca1aaf35"
      },
      "source": [
        "# Display the generated image:\n",
        "plt.imshow(wordcloud, interpolation='bilinear')\n",
        "plt.axis(\"off\")\n",
        "plt.show()"
      ],
      "execution_count": null,
      "outputs": [
        {
          "output_type": "display_data",
          "data": {
            "image/png": "[encoded data removed]",
            "text/plain": [
              "<Figure size 432x288 with 1 Axes>"
            ]
          },
          "metadata": {
            "tags": []
          }
        }
      ]
    },
    {
      "cell_type": "code",
      "metadata": {
        "colab": {
          "base_uri": "https://localhost:8080/",
          "height": 197
        },
        "id": "y8khmebT8rRs",
        "outputId": "2eaf5487-f2ff-4aa4-b9f4-84d7e8d4b474"
      },
      "source": [
        "# Display the generated image:\n",
        "plt.imshow(wordcloud, interpolation='bilinear')\n",
        "plt.axis(\"off\")\n",
        "plt.show()"
      ],
      "execution_count": null,
      "outputs": [
        {
          "output_type": "display_data",
          "data": {
            "image/png": "[encoded data removed]",
            "text/plain": [
              "<Figure size 432x288 with 1 Axes>"
            ]
          },
          "metadata": {
            "tags": []
          }
        }
      ]
    },
    {
      "cell_type": "markdown",
      "metadata": {
        "id": "ivKrYQQfTWtv"
      },
      "source": [
        "Berdasarkan wordcloud diatas kata 'tempoco' bisa kita anggap sebagai stopwords karena data kita adalah data yang berasal dari berita tempo sehingga kata 'tempoco' pasti ada di dalam content, sehingga kurang bermakna dalam kasus ini.\n",
        "\n",
        "Sebagai catatan, bentuk wordcloud tidaklah unik sehingga jika dilakukan running dengan syntax yg sama akan membentuk wordcloud yang berbeda akan tetapi dengan makna yang sama."
      ]
    },
    {
      "cell_type": "markdown",
      "metadata": {
        "id": "x8L1i_2lGimb"
      },
      "source": [
        "### **Menghapus Kata 'tempoco'**"
      ]
    },
    {
      "cell_type": "code",
      "metadata": {
        "id": "hlzoiBz2G0z5"
      },
      "source": [
        "def remove_certain_word(words,text):\n",
        "    return [word for word in words if word not in text]"
      ],
      "execution_count": null,
      "outputs": []
    },
    {
      "cell_type": "code",
      "metadata": {
        "id": "ZO-eLVhnGlNj"
      },
      "source": [
        "content_clean3 = content_clean3.apply(lambda x: remove_certain_word(x,\"tempoco\"))\n",
        "content_clean_fin = content_clean3.apply(list_to_text)"
      ],
      "execution_count": null,
      "outputs": []
    },
    {
      "cell_type": "code",
      "metadata": {
        "colab": {
          "base_uri": "https://localhost:8080/"
        },
        "id": "jSnxphebHAk7",
        "outputId": "2538b76c-1056-4781-f063-22c5172ae56a"
      },
      "source": [
        "content_clean_fin[content_clean_fin.str.contains(\"tempoco\")]"
      ],
      "execution_count": null,
      "outputs": [
        {
          "output_type": "execute_result",
          "data": {
            "text/plain": [
              "818     wabah virus corona covid indonesia khawatir se...\n",
              "1925    tempocotangerang pt angkasa pura ii persero ka...\n",
              "Name: content, dtype: object"
            ]
          },
          "metadata": {
            "tags": []
          },
          "execution_count": 44
        }
      ]
    },
    {
      "cell_type": "code",
      "metadata": {
        "colab": {
          "base_uri": "https://localhost:8080/"
        },
        "id": "-9uMXkaRHZP9",
        "outputId": "76108454-e9e5-47e2-c5fc-bf30d5c3f0bf"
      },
      "source": [
        "content_clean_fin.head"
      ],
      "execution_count": null,
      "outputs": [
        {
          "output_type": "execute_result",
          "data": {
            "text/plain": [
              "<bound method NDFrame.head of 0        gilead sciences inc publikasi hasil uji baru g...\n",
              "1        wali kota peru purapura korban tinggal covid b...\n",
              "2        menteri komunikasi informatika kominfo guna ti...\n",
              "3        plt gubernur pulau riau kepri isdianto daerah ...\n",
              "4        menteri dagang mendag agus suparmanto buka mal...\n",
              "                               ...                        \n",
              "13401    dinas sehat dinkes dki jakarta obat khusus vak...\n",
              "13402    antisipasi sebar dinas sehat dki jakarta imbau...\n",
              "13403    gedung bri ii kawasan bendung hilir jakarta pu...\n",
              "13404    malaysia konfirmasi   sehat malaysia   ahmad o...\n",
              "13405    cina bentuk tim riset nasional ahli cegah kend...\n",
              "Name: content, Length: 13406, dtype: object>"
            ]
          },
          "metadata": {
            "tags": []
          },
          "execution_count": 45
        }
      ]
    },
    {
      "cell_type": "markdown",
      "metadata": {
        "id": "sS70Uyft9gGb"
      },
      "source": [
        "## **TF IDF**"
      ]
    },
    {
      "cell_type": "code",
      "metadata": {
        "id": "9rhhKH5z9ker"
      },
      "source": [
        "from sklearn.feature_extraction.text import TfidfVectorizer"
      ],
      "execution_count": null,
      "outputs": []
    },
    {
      "cell_type": "code",
      "metadata": {
        "colab": {
          "base_uri": "https://localhost:8080/"
        },
        "id": "dzn2uhi8Hiu3",
        "outputId": "bb16bbd6-5c9e-462c-f1fe-263c27ac5d70"
      },
      "source": [
        "tf_idf_vectorizer = TfidfVectorizer()\n",
        "tf_idf_result = tf_idf_vectorizer.fit_transform(content_clean_fin)\n",
        "tf_idf_result_df = pd.DataFrame(tf_idf_result.toarray(),columns=tf_idf_vectorizer.get_feature_names())\n",
        "tf_idf_result_df.sum(axis=0).T.sort_values(ascending=False)"
      ],
      "execution_count": null,
      "outputs": [
        {
          "output_type": "execute_result",
          "data": {
            "text/plain": [
              "virus               458.113200\n",
              "orang               451.869832\n",
              "pasien              409.511663\n",
              "corona              395.122638\n",
              "covid               384.814145\n",
              "                       ...    \n",
              "pesannamun            0.025197\n",
              "paledangsebanyak      0.025197\n",
              "kaiid                 0.025197\n",
              "keretaapikita         0.025197\n",
              "cskaiid               0.025197\n",
              "Length: 25622, dtype: float64"
            ]
          },
          "metadata": {
            "tags": []
          },
          "execution_count": 47
        }
      ]
    },
    {
      "cell_type": "markdown",
      "metadata": {
        "id": "wCPNcfICCo_E"
      },
      "source": [
        "**N-GRAM**"
      ]
    },
    {
      "cell_type": "markdown",
      "metadata": {
        "id": "5nd6ZEs19Buf"
      },
      "source": [
        "**N-gram adalah potongan N-karakter yang diambil dari suatu string.**"
      ]
    },
    {
      "cell_type": "code",
      "metadata": {
        "id": "_GYPFB-I8pVp"
      },
      "source": [
        "import pandas as pd\n",
        "import numpy as np\n",
        "import re\n",
        "import matplotlib.pyplot as plt"
      ],
      "execution_count": null,
      "outputs": []
    },
    {
      "cell_type": "markdown",
      "metadata": {
        "id": "IObHJYX2-gLK"
      },
      "source": [
        "**Mengurutkan token TF IDF berdasarkan yang paling besar.**"
      ]
    },
    {
      "cell_type": "code",
      "metadata": {
        "colab": {
          "base_uri": "https://localhost:8080/"
        },
        "id": "wnOTq98npzvF",
        "outputId": "3bf4ca44-c703-444b-db25-c7fc278ece4b"
      },
      "source": [
        "tf_idf_result_df.sum(axis=0).T.sort_values(ascending=False)"
      ],
      "execution_count": null,
      "outputs": [
        {
          "output_type": "execute_result",
          "data": {
            "text/plain": [
              "virus               458.113200\n",
              "orang               451.869832\n",
              "pasien              409.511663\n",
              "corona              395.122638\n",
              "covid               384.814145\n",
              "                       ...    \n",
              "pesannamun            0.025197\n",
              "paledangsebanyak      0.025197\n",
              "kaiid                 0.025197\n",
              "keretaapikita         0.025197\n",
              "cskaiid               0.025197\n",
              "Length: 25622, dtype: float64"
            ]
          },
          "metadata": {
            "tags": []
          },
          "execution_count": 49
        }
      ]
    },
    {
      "cell_type": "markdown",
      "metadata": {
        "id": "xo2Oh8cC-jdF"
      },
      "source": [
        "**Membuat dataframe dfngram dari hasil TF IDF.**"
      ]
    },
    {
      "cell_type": "code",
      "metadata": {
        "id": "BKFXrSVk9TZo"
      },
      "source": [
        "dfngram = pd.DataFrame(tf_idf_result_df)"
      ],
      "execution_count": null,
      "outputs": []
    },
    {
      "cell_type": "code",
      "metadata": {
        "colab": {
          "base_uri": "https://localhost:8080/",
          "height": 246
        },
        "id": "ZuJdgw0J9s84",
        "outputId": "43bf0cae-3de6-49a8-d770-3b5dd8b68e69"
      },
      "source": [
        "tf_idf_result_df.head()"
      ],
      "execution_count": null,
      "outputs": [
        {
          "output_type": "execute_result",
          "data": {
            "text/html": [
              "<div>\n",
              "<style scoped>\n",
              "    .dataframe tbody tr th:only-of-type {\n",
              "        vertical-align: middle;\n",
              "    }\n",
              "\n",
              "    .dataframe tbody tr th {\n",
              "        vertical-align: top;\n",
              "    }\n",
              "\n",
              "    .dataframe thead th {\n",
              "        text-align: right;\n",
              "    }\n",
              "</style>\n",
              "<table border=\"1\" class=\"dataframe\">\n",
              "  <thead>\n",
              "    <tr style=\"text-align: right;\">\n",
              "      <th></th>\n",
              "      <th>aacomtr</th>\n",
              "      <th>aacomtrdalam</th>\n",
              "      <th>aacomtrpbb</th>\n",
              "      <th>aaditya</th>\n",
              "      <th>aakar</th>\n",
              "      <th>aakarabyasa</th>\n",
              "      <th>aam</th>\n",
              "      <th>aan</th>\n",
              "      <th>aao</th>\n",
              "      <th>aaron</th>\n",
              "      <th>ababa</th>\n",
              "      <th>abad</th>\n",
              "      <th>abadi</th>\n",
              "      <th>abai</th>\n",
              "      <th>abang</th>\n",
              "      <th>abar</th>\n",
              "      <th>abbas</th>\n",
              "      <th>abbott</th>\n",
              "      <th>abc</th>\n",
              "      <th>abdelaziz</th>\n",
              "      <th>abdellatif</th>\n",
              "      <th>abdi</th>\n",
              "      <th>abdillah</th>\n",
              "      <th>abdul</th>\n",
              "      <th>abdulaziz</th>\n",
              "      <th>abduldata</th>\n",
              "      <th>abdulkadir</th>\n",
              "      <th>abdullah</th>\n",
              "      <th>abdullatif</th>\n",
              "      <th>abdulmadjid</th>\n",
              "      <th>abdulwahab</th>\n",
              "      <th>abdurahman</th>\n",
              "      <th>abdurrahman</th>\n",
              "      <th>abe</th>\n",
              "      <th>aberdeenshire</th>\n",
              "      <th>abi</th>\n",
              "      <th>abidin</th>\n",
              "      <th>abigail</th>\n",
              "      <th>abipraya</th>\n",
              "      <th>abk</th>\n",
              "      <th>...</th>\n",
              "      <th>zikir</th>\n",
              "      <th>zimbabwe</th>\n",
              "      <th>zinc</th>\n",
              "      <th>zipse</th>\n",
              "      <th>zita</th>\n",
              "      <th>zlatan</th>\n",
              "      <th>zlatko</th>\n",
              "      <th>zock</th>\n",
              "      <th>zoe</th>\n",
              "      <th>zoelkifli</th>\n",
              "      <th>zohri</th>\n",
              "      <th>zombi</th>\n",
              "      <th>zombiada</th>\n",
              "      <th>zombie</th>\n",
              "      <th>zona</th>\n",
              "      <th>zonapada</th>\n",
              "      <th>zonapertama</th>\n",
              "      <th>zonazona</th>\n",
              "      <th>zone</th>\n",
              "      <th>zoologi</th>\n",
              "      <th>zoom</th>\n",
              "      <th>zoomov</th>\n",
              "      <th>zoomsaat</th>\n",
              "      <th>zoonosis</th>\n",
              "      <th>zoonotik</th>\n",
              "      <th>zorabots</th>\n",
              "      <th>zorreguieta</th>\n",
              "      <th>zssedangkan</th>\n",
              "      <th>zuckerberg</th>\n",
              "      <th>zuhur</th>\n",
              "      <th>zulfikar</th>\n",
              "      <th>zulfikri</th>\n",
              "      <th>zulkarnaen</th>\n",
              "      <th>zulkieflimansyah</th>\n",
              "      <th>zulkifli</th>\n",
              "      <th>zumba</th>\n",
              "      <th>zurbuchen</th>\n",
              "      <th>zurich</th>\n",
              "      <th>zweli</th>\n",
              "      <th>zynga</th>\n",
              "    </tr>\n",
              "  </thead>\n",
              "  <tbody>\n",
              "    <tr>\n",
              "      <th>0</th>\n",
              "      <td>0.0</td>\n",
              "      <td>0.0</td>\n",
              "      <td>0.0</td>\n",
              "      <td>0.0</td>\n",
              "      <td>0.0</td>\n",
              "      <td>0.0</td>\n",
              "      <td>0.0</td>\n",
              "      <td>0.0</td>\n",
              "      <td>0.0</td>\n",
              "      <td>0.0</td>\n",
              "      <td>0.0</td>\n",
              "      <td>0.0</td>\n",
              "      <td>0.0</td>\n",
              "      <td>0.0</td>\n",
              "      <td>0.0</td>\n",
              "      <td>0.0</td>\n",
              "      <td>0.0</td>\n",
              "      <td>0.0</td>\n",
              "      <td>0.0</td>\n",
              "      <td>0.0</td>\n",
              "      <td>0.0</td>\n",
              "      <td>0.0</td>\n",
              "      <td>0.0</td>\n",
              "      <td>0.0</td>\n",
              "      <td>0.0</td>\n",
              "      <td>0.0</td>\n",
              "      <td>0.0</td>\n",
              "      <td>0.0</td>\n",
              "      <td>0.0</td>\n",
              "      <td>0.0</td>\n",
              "      <td>0.0</td>\n",
              "      <td>0.0</td>\n",
              "      <td>0.0</td>\n",
              "      <td>0.0</td>\n",
              "      <td>0.0</td>\n",
              "      <td>0.0</td>\n",
              "      <td>0.0</td>\n",
              "      <td>0.0</td>\n",
              "      <td>0.0</td>\n",
              "      <td>0.0</td>\n",
              "      <td>...</td>\n",
              "      <td>0.0</td>\n",
              "      <td>0.0</td>\n",
              "      <td>0.0</td>\n",
              "      <td>0.0</td>\n",
              "      <td>0.0</td>\n",
              "      <td>0.0</td>\n",
              "      <td>0.0</td>\n",
              "      <td>0.0</td>\n",
              "      <td>0.0</td>\n",
              "      <td>0.0</td>\n",
              "      <td>0.0</td>\n",
              "      <td>0.0</td>\n",
              "      <td>0.0</td>\n",
              "      <td>0.0</td>\n",
              "      <td>0.0</td>\n",
              "      <td>0.0</td>\n",
              "      <td>0.0</td>\n",
              "      <td>0.0</td>\n",
              "      <td>0.0</td>\n",
              "      <td>0.0</td>\n",
              "      <td>0.0</td>\n",
              "      <td>0.0</td>\n",
              "      <td>0.0</td>\n",
              "      <td>0.0</td>\n",
              "      <td>0.0</td>\n",
              "      <td>0.0</td>\n",
              "      <td>0.0</td>\n",
              "      <td>0.0</td>\n",
              "      <td>0.0</td>\n",
              "      <td>0.0</td>\n",
              "      <td>0.0</td>\n",
              "      <td>0.0</td>\n",
              "      <td>0.0</td>\n",
              "      <td>0.0</td>\n",
              "      <td>0.0</td>\n",
              "      <td>0.0</td>\n",
              "      <td>0.0</td>\n",
              "      <td>0.0</td>\n",
              "      <td>0.0</td>\n",
              "      <td>0.0</td>\n",
              "    </tr>\n",
              "    <tr>\n",
              "      <th>1</th>\n",
              "      <td>0.0</td>\n",
              "      <td>0.0</td>\n",
              "      <td>0.0</td>\n",
              "      <td>0.0</td>\n",
              "      <td>0.0</td>\n",
              "      <td>0.0</td>\n",
              "      <td>0.0</td>\n",
              "      <td>0.0</td>\n",
              "      <td>0.0</td>\n",
              "      <td>0.0</td>\n",
              "      <td>0.0</td>\n",
              "      <td>0.0</td>\n",
              "      <td>0.0</td>\n",
              "      <td>0.0</td>\n",
              "      <td>0.0</td>\n",
              "      <td>0.0</td>\n",
              "      <td>0.0</td>\n",
              "      <td>0.0</td>\n",
              "      <td>0.0</td>\n",
              "      <td>0.0</td>\n",
              "      <td>0.0</td>\n",
              "      <td>0.0</td>\n",
              "      <td>0.0</td>\n",
              "      <td>0.0</td>\n",
              "      <td>0.0</td>\n",
              "      <td>0.0</td>\n",
              "      <td>0.0</td>\n",
              "      <td>0.0</td>\n",
              "      <td>0.0</td>\n",
              "      <td>0.0</td>\n",
              "      <td>0.0</td>\n",
              "      <td>0.0</td>\n",
              "      <td>0.0</td>\n",
              "      <td>0.0</td>\n",
              "      <td>0.0</td>\n",
              "      <td>0.0</td>\n",
              "      <td>0.0</td>\n",
              "      <td>0.0</td>\n",
              "      <td>0.0</td>\n",
              "      <td>0.0</td>\n",
              "      <td>...</td>\n",
              "      <td>0.0</td>\n",
              "      <td>0.0</td>\n",
              "      <td>0.0</td>\n",
              "      <td>0.0</td>\n",
              "      <td>0.0</td>\n",
              "      <td>0.0</td>\n",
              "      <td>0.0</td>\n",
              "      <td>0.0</td>\n",
              "      <td>0.0</td>\n",
              "      <td>0.0</td>\n",
              "      <td>0.0</td>\n",
              "      <td>0.0</td>\n",
              "      <td>0.0</td>\n",
              "      <td>0.0</td>\n",
              "      <td>0.0</td>\n",
              "      <td>0.0</td>\n",
              "      <td>0.0</td>\n",
              "      <td>0.0</td>\n",
              "      <td>0.0</td>\n",
              "      <td>0.0</td>\n",
              "      <td>0.0</td>\n",
              "      <td>0.0</td>\n",
              "      <td>0.0</td>\n",
              "      <td>0.0</td>\n",
              "      <td>0.0</td>\n",
              "      <td>0.0</td>\n",
              "      <td>0.0</td>\n",
              "      <td>0.0</td>\n",
              "      <td>0.0</td>\n",
              "      <td>0.0</td>\n",
              "      <td>0.0</td>\n",
              "      <td>0.0</td>\n",
              "      <td>0.0</td>\n",
              "      <td>0.0</td>\n",
              "      <td>0.0</td>\n",
              "      <td>0.0</td>\n",
              "      <td>0.0</td>\n",
              "      <td>0.0</td>\n",
              "      <td>0.0</td>\n",
              "      <td>0.0</td>\n",
              "    </tr>\n",
              "    <tr>\n",
              "      <th>2</th>\n",
              "      <td>0.0</td>\n",
              "      <td>0.0</td>\n",
              "      <td>0.0</td>\n",
              "      <td>0.0</td>\n",
              "      <td>0.0</td>\n",
              "      <td>0.0</td>\n",
              "      <td>0.0</td>\n",
              "      <td>0.0</td>\n",
              "      <td>0.0</td>\n",
              "      <td>0.0</td>\n",
              "      <td>0.0</td>\n",
              "      <td>0.0</td>\n",
              "      <td>0.0</td>\n",
              "      <td>0.0</td>\n",
              "      <td>0.0</td>\n",
              "      <td>0.0</td>\n",
              "      <td>0.0</td>\n",
              "      <td>0.0</td>\n",
              "      <td>0.0</td>\n",
              "      <td>0.0</td>\n",
              "      <td>0.0</td>\n",
              "      <td>0.0</td>\n",
              "      <td>0.0</td>\n",
              "      <td>0.0</td>\n",
              "      <td>0.0</td>\n",
              "      <td>0.0</td>\n",
              "      <td>0.0</td>\n",
              "      <td>0.0</td>\n",
              "      <td>0.0</td>\n",
              "      <td>0.0</td>\n",
              "      <td>0.0</td>\n",
              "      <td>0.0</td>\n",
              "      <td>0.0</td>\n",
              "      <td>0.0</td>\n",
              "      <td>0.0</td>\n",
              "      <td>0.0</td>\n",
              "      <td>0.0</td>\n",
              "      <td>0.0</td>\n",
              "      <td>0.0</td>\n",
              "      <td>0.0</td>\n",
              "      <td>...</td>\n",
              "      <td>0.0</td>\n",
              "      <td>0.0</td>\n",
              "      <td>0.0</td>\n",
              "      <td>0.0</td>\n",
              "      <td>0.0</td>\n",
              "      <td>0.0</td>\n",
              "      <td>0.0</td>\n",
              "      <td>0.0</td>\n",
              "      <td>0.0</td>\n",
              "      <td>0.0</td>\n",
              "      <td>0.0</td>\n",
              "      <td>0.0</td>\n",
              "      <td>0.0</td>\n",
              "      <td>0.0</td>\n",
              "      <td>0.0</td>\n",
              "      <td>0.0</td>\n",
              "      <td>0.0</td>\n",
              "      <td>0.0</td>\n",
              "      <td>0.0</td>\n",
              "      <td>0.0</td>\n",
              "      <td>0.0</td>\n",
              "      <td>0.0</td>\n",
              "      <td>0.0</td>\n",
              "      <td>0.0</td>\n",
              "      <td>0.0</td>\n",
              "      <td>0.0</td>\n",
              "      <td>0.0</td>\n",
              "      <td>0.0</td>\n",
              "      <td>0.0</td>\n",
              "      <td>0.0</td>\n",
              "      <td>0.0</td>\n",
              "      <td>0.0</td>\n",
              "      <td>0.0</td>\n",
              "      <td>0.0</td>\n",
              "      <td>0.0</td>\n",
              "      <td>0.0</td>\n",
              "      <td>0.0</td>\n",
              "      <td>0.0</td>\n",
              "      <td>0.0</td>\n",
              "      <td>0.0</td>\n",
              "    </tr>\n",
              "    <tr>\n",
              "      <th>3</th>\n",
              "      <td>0.0</td>\n",
              "      <td>0.0</td>\n",
              "      <td>0.0</td>\n",
              "      <td>0.0</td>\n",
              "      <td>0.0</td>\n",
              "      <td>0.0</td>\n",
              "      <td>0.0</td>\n",
              "      <td>0.0</td>\n",
              "      <td>0.0</td>\n",
              "      <td>0.0</td>\n",
              "      <td>0.0</td>\n",
              "      <td>0.0</td>\n",
              "      <td>0.0</td>\n",
              "      <td>0.0</td>\n",
              "      <td>0.0</td>\n",
              "      <td>0.0</td>\n",
              "      <td>0.0</td>\n",
              "      <td>0.0</td>\n",
              "      <td>0.0</td>\n",
              "      <td>0.0</td>\n",
              "      <td>0.0</td>\n",
              "      <td>0.0</td>\n",
              "      <td>0.0</td>\n",
              "      <td>0.0</td>\n",
              "      <td>0.0</td>\n",
              "      <td>0.0</td>\n",
              "      <td>0.0</td>\n",
              "      <td>0.0</td>\n",
              "      <td>0.0</td>\n",
              "      <td>0.0</td>\n",
              "      <td>0.0</td>\n",
              "      <td>0.0</td>\n",
              "      <td>0.0</td>\n",
              "      <td>0.0</td>\n",
              "      <td>0.0</td>\n",
              "      <td>0.0</td>\n",
              "      <td>0.0</td>\n",
              "      <td>0.0</td>\n",
              "      <td>0.0</td>\n",
              "      <td>0.0</td>\n",
              "      <td>...</td>\n",
              "      <td>0.0</td>\n",
              "      <td>0.0</td>\n",
              "      <td>0.0</td>\n",
              "      <td>0.0</td>\n",
              "      <td>0.0</td>\n",
              "      <td>0.0</td>\n",
              "      <td>0.0</td>\n",
              "      <td>0.0</td>\n",
              "      <td>0.0</td>\n",
              "      <td>0.0</td>\n",
              "      <td>0.0</td>\n",
              "      <td>0.0</td>\n",
              "      <td>0.0</td>\n",
              "      <td>0.0</td>\n",
              "      <td>0.0</td>\n",
              "      <td>0.0</td>\n",
              "      <td>0.0</td>\n",
              "      <td>0.0</td>\n",
              "      <td>0.0</td>\n",
              "      <td>0.0</td>\n",
              "      <td>0.0</td>\n",
              "      <td>0.0</td>\n",
              "      <td>0.0</td>\n",
              "      <td>0.0</td>\n",
              "      <td>0.0</td>\n",
              "      <td>0.0</td>\n",
              "      <td>0.0</td>\n",
              "      <td>0.0</td>\n",
              "      <td>0.0</td>\n",
              "      <td>0.0</td>\n",
              "      <td>0.0</td>\n",
              "      <td>0.0</td>\n",
              "      <td>0.0</td>\n",
              "      <td>0.0</td>\n",
              "      <td>0.0</td>\n",
              "      <td>0.0</td>\n",
              "      <td>0.0</td>\n",
              "      <td>0.0</td>\n",
              "      <td>0.0</td>\n",
              "      <td>0.0</td>\n",
              "    </tr>\n",
              "    <tr>\n",
              "      <th>4</th>\n",
              "      <td>0.0</td>\n",
              "      <td>0.0</td>\n",
              "      <td>0.0</td>\n",
              "      <td>0.0</td>\n",
              "      <td>0.0</td>\n",
              "      <td>0.0</td>\n",
              "      <td>0.0</td>\n",
              "      <td>0.0</td>\n",
              "      <td>0.0</td>\n",
              "      <td>0.0</td>\n",
              "      <td>0.0</td>\n",
              "      <td>0.0</td>\n",
              "      <td>0.0</td>\n",
              "      <td>0.0</td>\n",
              "      <td>0.0</td>\n",
              "      <td>0.0</td>\n",
              "      <td>0.0</td>\n",
              "      <td>0.0</td>\n",
              "      <td>0.0</td>\n",
              "      <td>0.0</td>\n",
              "      <td>0.0</td>\n",
              "      <td>0.0</td>\n",
              "      <td>0.0</td>\n",
              "      <td>0.0</td>\n",
              "      <td>0.0</td>\n",
              "      <td>0.0</td>\n",
              "      <td>0.0</td>\n",
              "      <td>0.0</td>\n",
              "      <td>0.0</td>\n",
              "      <td>0.0</td>\n",
              "      <td>0.0</td>\n",
              "      <td>0.0</td>\n",
              "      <td>0.0</td>\n",
              "      <td>0.0</td>\n",
              "      <td>0.0</td>\n",
              "      <td>0.0</td>\n",
              "      <td>0.0</td>\n",
              "      <td>0.0</td>\n",
              "      <td>0.0</td>\n",
              "      <td>0.0</td>\n",
              "      <td>...</td>\n",
              "      <td>0.0</td>\n",
              "      <td>0.0</td>\n",
              "      <td>0.0</td>\n",
              "      <td>0.0</td>\n",
              "      <td>0.0</td>\n",
              "      <td>0.0</td>\n",
              "      <td>0.0</td>\n",
              "      <td>0.0</td>\n",
              "      <td>0.0</td>\n",
              "      <td>0.0</td>\n",
              "      <td>0.0</td>\n",
              "      <td>0.0</td>\n",
              "      <td>0.0</td>\n",
              "      <td>0.0</td>\n",
              "      <td>0.0</td>\n",
              "      <td>0.0</td>\n",
              "      <td>0.0</td>\n",
              "      <td>0.0</td>\n",
              "      <td>0.0</td>\n",
              "      <td>0.0</td>\n",
              "      <td>0.0</td>\n",
              "      <td>0.0</td>\n",
              "      <td>0.0</td>\n",
              "      <td>0.0</td>\n",
              "      <td>0.0</td>\n",
              "      <td>0.0</td>\n",
              "      <td>0.0</td>\n",
              "      <td>0.0</td>\n",
              "      <td>0.0</td>\n",
              "      <td>0.0</td>\n",
              "      <td>0.0</td>\n",
              "      <td>0.0</td>\n",
              "      <td>0.0</td>\n",
              "      <td>0.0</td>\n",
              "      <td>0.0</td>\n",
              "      <td>0.0</td>\n",
              "      <td>0.0</td>\n",
              "      <td>0.0</td>\n",
              "      <td>0.0</td>\n",
              "      <td>0.0</td>\n",
              "    </tr>\n",
              "  </tbody>\n",
              "</table>\n",
              "<p>5 rows × 25622 columns</p>\n",
              "</div>"
            ],
            "text/plain": [
              "   aacomtr  aacomtrdalam  aacomtrpbb  aaditya  ...  zurbuchen  zurich  zweli  zynga\n",
              "0      0.0           0.0         0.0      0.0  ...        0.0     0.0    0.0    0.0\n",
              "1      0.0           0.0         0.0      0.0  ...        0.0     0.0    0.0    0.0\n",
              "2      0.0           0.0         0.0      0.0  ...        0.0     0.0    0.0    0.0\n",
              "3      0.0           0.0         0.0      0.0  ...        0.0     0.0    0.0    0.0\n",
              "4      0.0           0.0         0.0      0.0  ...        0.0     0.0    0.0    0.0\n",
              "\n",
              "[5 rows x 25622 columns]"
            ]
          },
          "metadata": {
            "tags": []
          },
          "execution_count": 65
        }
      ]
    },
    {
      "cell_type": "code",
      "metadata": {
        "colab": {
          "base_uri": "https://localhost:8080/",
          "height": 246
        },
        "id": "VjyMZjrB8QBs",
        "outputId": "00f4d7ef-3606-4da2-e69f-5ded0d318240"
      },
      "source": [
        "dfngram.head()"
      ],
      "execution_count": null,
      "outputs": [
        {
          "output_type": "execute_result",
          "data": {
            "text/html": [
              "<div>\n",
              "<style scoped>\n",
              "    .dataframe tbody tr th:only-of-type {\n",
              "        vertical-align: middle;\n",
              "    }\n",
              "\n",
              "    .dataframe tbody tr th {\n",
              "        vertical-align: top;\n",
              "    }\n",
              "\n",
              "    .dataframe thead th {\n",
              "        text-align: right;\n",
              "    }\n",
              "</style>\n",
              "<table border=\"1\" class=\"dataframe\">\n",
              "  <thead>\n",
              "    <tr style=\"text-align: right;\">\n",
              "      <th></th>\n",
              "      <th>aacomtr</th>\n",
              "      <th>aacomtrdalam</th>\n",
              "      <th>aacomtrpbb</th>\n",
              "      <th>aaditya</th>\n",
              "      <th>aakar</th>\n",
              "      <th>aakarabyasa</th>\n",
              "      <th>aam</th>\n",
              "      <th>aan</th>\n",
              "      <th>aao</th>\n",
              "      <th>aaron</th>\n",
              "      <th>ababa</th>\n",
              "      <th>abad</th>\n",
              "      <th>abadi</th>\n",
              "      <th>abai</th>\n",
              "      <th>abang</th>\n",
              "      <th>abar</th>\n",
              "      <th>abbas</th>\n",
              "      <th>abbott</th>\n",
              "      <th>abc</th>\n",
              "      <th>abdelaziz</th>\n",
              "      <th>abdellatif</th>\n",
              "      <th>abdi</th>\n",
              "      <th>abdillah</th>\n",
              "      <th>abdul</th>\n",
              "      <th>abdulaziz</th>\n",
              "      <th>abduldata</th>\n",
              "      <th>abdulkadir</th>\n",
              "      <th>abdullah</th>\n",
              "      <th>abdullatif</th>\n",
              "      <th>abdulmadjid</th>\n",
              "      <th>abdulwahab</th>\n",
              "      <th>abdurahman</th>\n",
              "      <th>abdurrahman</th>\n",
              "      <th>abe</th>\n",
              "      <th>aberdeenshire</th>\n",
              "      <th>abi</th>\n",
              "      <th>abidin</th>\n",
              "      <th>abigail</th>\n",
              "      <th>abipraya</th>\n",
              "      <th>abk</th>\n",
              "      <th>...</th>\n",
              "      <th>zikir</th>\n",
              "      <th>zimbabwe</th>\n",
              "      <th>zinc</th>\n",
              "      <th>zipse</th>\n",
              "      <th>zita</th>\n",
              "      <th>zlatan</th>\n",
              "      <th>zlatko</th>\n",
              "      <th>zock</th>\n",
              "      <th>zoe</th>\n",
              "      <th>zoelkifli</th>\n",
              "      <th>zohri</th>\n",
              "      <th>zombi</th>\n",
              "      <th>zombiada</th>\n",
              "      <th>zombie</th>\n",
              "      <th>zona</th>\n",
              "      <th>zonapada</th>\n",
              "      <th>zonapertama</th>\n",
              "      <th>zonazona</th>\n",
              "      <th>zone</th>\n",
              "      <th>zoologi</th>\n",
              "      <th>zoom</th>\n",
              "      <th>zoomov</th>\n",
              "      <th>zoomsaat</th>\n",
              "      <th>zoonosis</th>\n",
              "      <th>zoonotik</th>\n",
              "      <th>zorabots</th>\n",
              "      <th>zorreguieta</th>\n",
              "      <th>zssedangkan</th>\n",
              "      <th>zuckerberg</th>\n",
              "      <th>zuhur</th>\n",
              "      <th>zulfikar</th>\n",
              "      <th>zulfikri</th>\n",
              "      <th>zulkarnaen</th>\n",
              "      <th>zulkieflimansyah</th>\n",
              "      <th>zulkifli</th>\n",
              "      <th>zumba</th>\n",
              "      <th>zurbuchen</th>\n",
              "      <th>zurich</th>\n",
              "      <th>zweli</th>\n",
              "      <th>zynga</th>\n",
              "    </tr>\n",
              "  </thead>\n",
              "  <tbody>\n",
              "    <tr>\n",
              "      <th>0</th>\n",
              "      <td>0.0</td>\n",
              "      <td>0.0</td>\n",
              "      <td>0.0</td>\n",
              "      <td>0.0</td>\n",
              "      <td>0.0</td>\n",
              "      <td>0.0</td>\n",
              "      <td>0.0</td>\n",
              "      <td>0.0</td>\n",
              "      <td>0.0</td>\n",
              "      <td>0.0</td>\n",
              "      <td>0.0</td>\n",
              "      <td>0.0</td>\n",
              "      <td>0.0</td>\n",
              "      <td>0.0</td>\n",
              "      <td>0.0</td>\n",
              "      <td>0.0</td>\n",
              "      <td>0.0</td>\n",
              "      <td>0.0</td>\n",
              "      <td>0.0</td>\n",
              "      <td>0.0</td>\n",
              "      <td>0.0</td>\n",
              "      <td>0.0</td>\n",
              "      <td>0.0</td>\n",
              "      <td>0.0</td>\n",
              "      <td>0.0</td>\n",
              "      <td>0.0</td>\n",
              "      <td>0.0</td>\n",
              "      <td>0.0</td>\n",
              "      <td>0.0</td>\n",
              "      <td>0.0</td>\n",
              "      <td>0.0</td>\n",
              "      <td>0.0</td>\n",
              "      <td>0.0</td>\n",
              "      <td>0.0</td>\n",
              "      <td>0.0</td>\n",
              "      <td>0.0</td>\n",
              "      <td>0.0</td>\n",
              "      <td>0.0</td>\n",
              "      <td>0.0</td>\n",
              "      <td>0.0</td>\n",
              "      <td>...</td>\n",
              "      <td>0.0</td>\n",
              "      <td>0.0</td>\n",
              "      <td>0.0</td>\n",
              "      <td>0.0</td>\n",
              "      <td>0.0</td>\n",
              "      <td>0.0</td>\n",
              "      <td>0.0</td>\n",
              "      <td>0.0</td>\n",
              "      <td>0.0</td>\n",
              "      <td>0.0</td>\n",
              "      <td>0.0</td>\n",
              "      <td>0.0</td>\n",
              "      <td>0.0</td>\n",
              "      <td>0.0</td>\n",
              "      <td>0.0</td>\n",
              "      <td>0.0</td>\n",
              "      <td>0.0</td>\n",
              "      <td>0.0</td>\n",
              "      <td>0.0</td>\n",
              "      <td>0.0</td>\n",
              "      <td>0.0</td>\n",
              "      <td>0.0</td>\n",
              "      <td>0.0</td>\n",
              "      <td>0.0</td>\n",
              "      <td>0.0</td>\n",
              "      <td>0.0</td>\n",
              "      <td>0.0</td>\n",
              "      <td>0.0</td>\n",
              "      <td>0.0</td>\n",
              "      <td>0.0</td>\n",
              "      <td>0.0</td>\n",
              "      <td>0.0</td>\n",
              "      <td>0.0</td>\n",
              "      <td>0.0</td>\n",
              "      <td>0.0</td>\n",
              "      <td>0.0</td>\n",
              "      <td>0.0</td>\n",
              "      <td>0.0</td>\n",
              "      <td>0.0</td>\n",
              "      <td>0.0</td>\n",
              "    </tr>\n",
              "    <tr>\n",
              "      <th>1</th>\n",
              "      <td>0.0</td>\n",
              "      <td>0.0</td>\n",
              "      <td>0.0</td>\n",
              "      <td>0.0</td>\n",
              "      <td>0.0</td>\n",
              "      <td>0.0</td>\n",
              "      <td>0.0</td>\n",
              "      <td>0.0</td>\n",
              "      <td>0.0</td>\n",
              "      <td>0.0</td>\n",
              "      <td>0.0</td>\n",
              "      <td>0.0</td>\n",
              "      <td>0.0</td>\n",
              "      <td>0.0</td>\n",
              "      <td>0.0</td>\n",
              "      <td>0.0</td>\n",
              "      <td>0.0</td>\n",
              "      <td>0.0</td>\n",
              "      <td>0.0</td>\n",
              "      <td>0.0</td>\n",
              "      <td>0.0</td>\n",
              "      <td>0.0</td>\n",
              "      <td>0.0</td>\n",
              "      <td>0.0</td>\n",
              "      <td>0.0</td>\n",
              "      <td>0.0</td>\n",
              "      <td>0.0</td>\n",
              "      <td>0.0</td>\n",
              "      <td>0.0</td>\n",
              "      <td>0.0</td>\n",
              "      <td>0.0</td>\n",
              "      <td>0.0</td>\n",
              "      <td>0.0</td>\n",
              "      <td>0.0</td>\n",
              "      <td>0.0</td>\n",
              "      <td>0.0</td>\n",
              "      <td>0.0</td>\n",
              "      <td>0.0</td>\n",
              "      <td>0.0</td>\n",
              "      <td>0.0</td>\n",
              "      <td>...</td>\n",
              "      <td>0.0</td>\n",
              "      <td>0.0</td>\n",
              "      <td>0.0</td>\n",
              "      <td>0.0</td>\n",
              "      <td>0.0</td>\n",
              "      <td>0.0</td>\n",
              "      <td>0.0</td>\n",
              "      <td>0.0</td>\n",
              "      <td>0.0</td>\n",
              "      <td>0.0</td>\n",
              "      <td>0.0</td>\n",
              "      <td>0.0</td>\n",
              "      <td>0.0</td>\n",
              "      <td>0.0</td>\n",
              "      <td>0.0</td>\n",
              "      <td>0.0</td>\n",
              "      <td>0.0</td>\n",
              "      <td>0.0</td>\n",
              "      <td>0.0</td>\n",
              "      <td>0.0</td>\n",
              "      <td>0.0</td>\n",
              "      <td>0.0</td>\n",
              "      <td>0.0</td>\n",
              "      <td>0.0</td>\n",
              "      <td>0.0</td>\n",
              "      <td>0.0</td>\n",
              "      <td>0.0</td>\n",
              "      <td>0.0</td>\n",
              "      <td>0.0</td>\n",
              "      <td>0.0</td>\n",
              "      <td>0.0</td>\n",
              "      <td>0.0</td>\n",
              "      <td>0.0</td>\n",
              "      <td>0.0</td>\n",
              "      <td>0.0</td>\n",
              "      <td>0.0</td>\n",
              "      <td>0.0</td>\n",
              "      <td>0.0</td>\n",
              "      <td>0.0</td>\n",
              "      <td>0.0</td>\n",
              "    </tr>\n",
              "    <tr>\n",
              "      <th>2</th>\n",
              "      <td>0.0</td>\n",
              "      <td>0.0</td>\n",
              "      <td>0.0</td>\n",
              "      <td>0.0</td>\n",
              "      <td>0.0</td>\n",
              "      <td>0.0</td>\n",
              "      <td>0.0</td>\n",
              "      <td>0.0</td>\n",
              "      <td>0.0</td>\n",
              "      <td>0.0</td>\n",
              "      <td>0.0</td>\n",
              "      <td>0.0</td>\n",
              "      <td>0.0</td>\n",
              "      <td>0.0</td>\n",
              "      <td>0.0</td>\n",
              "      <td>0.0</td>\n",
              "      <td>0.0</td>\n",
              "      <td>0.0</td>\n",
              "      <td>0.0</td>\n",
              "      <td>0.0</td>\n",
              "      <td>0.0</td>\n",
              "      <td>0.0</td>\n",
              "      <td>0.0</td>\n",
              "      <td>0.0</td>\n",
              "      <td>0.0</td>\n",
              "      <td>0.0</td>\n",
              "      <td>0.0</td>\n",
              "      <td>0.0</td>\n",
              "      <td>0.0</td>\n",
              "      <td>0.0</td>\n",
              "      <td>0.0</td>\n",
              "      <td>0.0</td>\n",
              "      <td>0.0</td>\n",
              "      <td>0.0</td>\n",
              "      <td>0.0</td>\n",
              "      <td>0.0</td>\n",
              "      <td>0.0</td>\n",
              "      <td>0.0</td>\n",
              "      <td>0.0</td>\n",
              "      <td>0.0</td>\n",
              "      <td>...</td>\n",
              "      <td>0.0</td>\n",
              "      <td>0.0</td>\n",
              "      <td>0.0</td>\n",
              "      <td>0.0</td>\n",
              "      <td>0.0</td>\n",
              "      <td>0.0</td>\n",
              "      <td>0.0</td>\n",
              "      <td>0.0</td>\n",
              "      <td>0.0</td>\n",
              "      <td>0.0</td>\n",
              "      <td>0.0</td>\n",
              "      <td>0.0</td>\n",
              "      <td>0.0</td>\n",
              "      <td>0.0</td>\n",
              "      <td>0.0</td>\n",
              "      <td>0.0</td>\n",
              "      <td>0.0</td>\n",
              "      <td>0.0</td>\n",
              "      <td>0.0</td>\n",
              "      <td>0.0</td>\n",
              "      <td>0.0</td>\n",
              "      <td>0.0</td>\n",
              "      <td>0.0</td>\n",
              "      <td>0.0</td>\n",
              "      <td>0.0</td>\n",
              "      <td>0.0</td>\n",
              "      <td>0.0</td>\n",
              "      <td>0.0</td>\n",
              "      <td>0.0</td>\n",
              "      <td>0.0</td>\n",
              "      <td>0.0</td>\n",
              "      <td>0.0</td>\n",
              "      <td>0.0</td>\n",
              "      <td>0.0</td>\n",
              "      <td>0.0</td>\n",
              "      <td>0.0</td>\n",
              "      <td>0.0</td>\n",
              "      <td>0.0</td>\n",
              "      <td>0.0</td>\n",
              "      <td>0.0</td>\n",
              "    </tr>\n",
              "    <tr>\n",
              "      <th>3</th>\n",
              "      <td>0.0</td>\n",
              "      <td>0.0</td>\n",
              "      <td>0.0</td>\n",
              "      <td>0.0</td>\n",
              "      <td>0.0</td>\n",
              "      <td>0.0</td>\n",
              "      <td>0.0</td>\n",
              "      <td>0.0</td>\n",
              "      <td>0.0</td>\n",
              "      <td>0.0</td>\n",
              "      <td>0.0</td>\n",
              "      <td>0.0</td>\n",
              "      <td>0.0</td>\n",
              "      <td>0.0</td>\n",
              "      <td>0.0</td>\n",
              "      <td>0.0</td>\n",
              "      <td>0.0</td>\n",
              "      <td>0.0</td>\n",
              "      <td>0.0</td>\n",
              "      <td>0.0</td>\n",
              "      <td>0.0</td>\n",
              "      <td>0.0</td>\n",
              "      <td>0.0</td>\n",
              "      <td>0.0</td>\n",
              "      <td>0.0</td>\n",
              "      <td>0.0</td>\n",
              "      <td>0.0</td>\n",
              "      <td>0.0</td>\n",
              "      <td>0.0</td>\n",
              "      <td>0.0</td>\n",
              "      <td>0.0</td>\n",
              "      <td>0.0</td>\n",
              "      <td>0.0</td>\n",
              "      <td>0.0</td>\n",
              "      <td>0.0</td>\n",
              "      <td>0.0</td>\n",
              "      <td>0.0</td>\n",
              "      <td>0.0</td>\n",
              "      <td>0.0</td>\n",
              "      <td>0.0</td>\n",
              "      <td>...</td>\n",
              "      <td>0.0</td>\n",
              "      <td>0.0</td>\n",
              "      <td>0.0</td>\n",
              "      <td>0.0</td>\n",
              "      <td>0.0</td>\n",
              "      <td>0.0</td>\n",
              "      <td>0.0</td>\n",
              "      <td>0.0</td>\n",
              "      <td>0.0</td>\n",
              "      <td>0.0</td>\n",
              "      <td>0.0</td>\n",
              "      <td>0.0</td>\n",
              "      <td>0.0</td>\n",
              "      <td>0.0</td>\n",
              "      <td>0.0</td>\n",
              "      <td>0.0</td>\n",
              "      <td>0.0</td>\n",
              "      <td>0.0</td>\n",
              "      <td>0.0</td>\n",
              "      <td>0.0</td>\n",
              "      <td>0.0</td>\n",
              "      <td>0.0</td>\n",
              "      <td>0.0</td>\n",
              "      <td>0.0</td>\n",
              "      <td>0.0</td>\n",
              "      <td>0.0</td>\n",
              "      <td>0.0</td>\n",
              "      <td>0.0</td>\n",
              "      <td>0.0</td>\n",
              "      <td>0.0</td>\n",
              "      <td>0.0</td>\n",
              "      <td>0.0</td>\n",
              "      <td>0.0</td>\n",
              "      <td>0.0</td>\n",
              "      <td>0.0</td>\n",
              "      <td>0.0</td>\n",
              "      <td>0.0</td>\n",
              "      <td>0.0</td>\n",
              "      <td>0.0</td>\n",
              "      <td>0.0</td>\n",
              "    </tr>\n",
              "    <tr>\n",
              "      <th>4</th>\n",
              "      <td>0.0</td>\n",
              "      <td>0.0</td>\n",
              "      <td>0.0</td>\n",
              "      <td>0.0</td>\n",
              "      <td>0.0</td>\n",
              "      <td>0.0</td>\n",
              "      <td>0.0</td>\n",
              "      <td>0.0</td>\n",
              "      <td>0.0</td>\n",
              "      <td>0.0</td>\n",
              "      <td>0.0</td>\n",
              "      <td>0.0</td>\n",
              "      <td>0.0</td>\n",
              "      <td>0.0</td>\n",
              "      <td>0.0</td>\n",
              "      <td>0.0</td>\n",
              "      <td>0.0</td>\n",
              "      <td>0.0</td>\n",
              "      <td>0.0</td>\n",
              "      <td>0.0</td>\n",
              "      <td>0.0</td>\n",
              "      <td>0.0</td>\n",
              "      <td>0.0</td>\n",
              "      <td>0.0</td>\n",
              "      <td>0.0</td>\n",
              "      <td>0.0</td>\n",
              "      <td>0.0</td>\n",
              "      <td>0.0</td>\n",
              "      <td>0.0</td>\n",
              "      <td>0.0</td>\n",
              "      <td>0.0</td>\n",
              "      <td>0.0</td>\n",
              "      <td>0.0</td>\n",
              "      <td>0.0</td>\n",
              "      <td>0.0</td>\n",
              "      <td>0.0</td>\n",
              "      <td>0.0</td>\n",
              "      <td>0.0</td>\n",
              "      <td>0.0</td>\n",
              "      <td>0.0</td>\n",
              "      <td>...</td>\n",
              "      <td>0.0</td>\n",
              "      <td>0.0</td>\n",
              "      <td>0.0</td>\n",
              "      <td>0.0</td>\n",
              "      <td>0.0</td>\n",
              "      <td>0.0</td>\n",
              "      <td>0.0</td>\n",
              "      <td>0.0</td>\n",
              "      <td>0.0</td>\n",
              "      <td>0.0</td>\n",
              "      <td>0.0</td>\n",
              "      <td>0.0</td>\n",
              "      <td>0.0</td>\n",
              "      <td>0.0</td>\n",
              "      <td>0.0</td>\n",
              "      <td>0.0</td>\n",
              "      <td>0.0</td>\n",
              "      <td>0.0</td>\n",
              "      <td>0.0</td>\n",
              "      <td>0.0</td>\n",
              "      <td>0.0</td>\n",
              "      <td>0.0</td>\n",
              "      <td>0.0</td>\n",
              "      <td>0.0</td>\n",
              "      <td>0.0</td>\n",
              "      <td>0.0</td>\n",
              "      <td>0.0</td>\n",
              "      <td>0.0</td>\n",
              "      <td>0.0</td>\n",
              "      <td>0.0</td>\n",
              "      <td>0.0</td>\n",
              "      <td>0.0</td>\n",
              "      <td>0.0</td>\n",
              "      <td>0.0</td>\n",
              "      <td>0.0</td>\n",
              "      <td>0.0</td>\n",
              "      <td>0.0</td>\n",
              "      <td>0.0</td>\n",
              "      <td>0.0</td>\n",
              "      <td>0.0</td>\n",
              "    </tr>\n",
              "  </tbody>\n",
              "</table>\n",
              "<p>5 rows × 25622 columns</p>\n",
              "</div>"
            ],
            "text/plain": [
              "   aacomtr  aacomtrdalam  aacomtrpbb  aaditya  ...  zurbuchen  zurich  zweli  zynga\n",
              "0      0.0           0.0         0.0      0.0  ...        0.0     0.0    0.0    0.0\n",
              "1      0.0           0.0         0.0      0.0  ...        0.0     0.0    0.0    0.0\n",
              "2      0.0           0.0         0.0      0.0  ...        0.0     0.0    0.0    0.0\n",
              "3      0.0           0.0         0.0      0.0  ...        0.0     0.0    0.0    0.0\n",
              "4      0.0           0.0         0.0      0.0  ...        0.0     0.0    0.0    0.0\n",
              "\n",
              "[5 rows x 25622 columns]"
            ]
          },
          "metadata": {
            "tags": []
          },
          "execution_count": 64
        }
      ]
    },
    {
      "cell_type": "markdown",
      "metadata": {
        "id": "jPCHXQ1t-scv"
      },
      "source": [
        "**Membuat baris baru yang berada di paling bawah dataframe dfngram dengan value adalah jumlah bobot per kolom atau per token atau per kata.**"
      ]
    },
    {
      "cell_type": "code",
      "metadata": {
        "colab": {
          "base_uri": "https://localhost:8080/",
          "height": 426
        },
        "id": "eQHzKSFG9SbF",
        "outputId": "6cc2fc61-40d3-40ff-933f-9a8741b22864"
      },
      "source": [
        "dfngram.loc['Total',:] = dfngram.sum(axis=0)\n",
        "dfngram.iloc[:, np.argsort(dfngram.loc['Total'])]"
      ],
      "execution_count": null,
      "outputs": [
        {
          "output_type": "execute_result",
          "data": {
            "text/html": [
              "<div>\n",
              "<style scoped>\n",
              "    .dataframe tbody tr th:only-of-type {\n",
              "        vertical-align: middle;\n",
              "    }\n",
              "\n",
              "    .dataframe tbody tr th {\n",
              "        vertical-align: top;\n",
              "    }\n",
              "\n",
              "    .dataframe thead th {\n",
              "        text-align: right;\n",
              "    }\n",
              "</style>\n",
              "<table border=\"1\" class=\"dataframe\">\n",
              "  <thead>\n",
              "    <tr style=\"text-align: right;\">\n",
              "      <th></th>\n",
              "      <th>cskaiid</th>\n",
              "      <th>keretaapikita</th>\n",
              "      <th>kaiid</th>\n",
              "      <th>paledangsebanyak</th>\n",
              "      <th>pesannamun</th>\n",
              "      <th>umumpemberhentian</th>\n",
              "      <th>ptun</th>\n",
              "      <th>pkedkpp</th>\n",
              "      <th>konstitusionalitas</th>\n",
              "      <th>phpudprdprdxviidalam</th>\n",
              "      <th>normatifputusan</th>\n",
              "      <th>lppladmriviii</th>\n",
              "      <th>persidanganpengadu</th>\n",
              "      <th>etikputusan</th>\n",
              "      <th>terampunidkpp</th>\n",
              "      <th>hukummk</th>\n",
              "      <th>mengikatsesungguhnya</th>\n",
              "      <th>dkpptafsiran</th>\n",
              "      <th>dolardry</th>\n",
              "      <th>dmtturun</th>\n",
              "      <th>laterithematitmagnetit</th>\n",
              "      <th>metalbesaran</th>\n",
              "      <th>februarilaman</th>\n",
              "      <th>corrective</th>\n",
              "      <th>payable</th>\n",
              "      <th>dolardmt</th>\n",
              "      <th>acuanhma</th>\n",
              "      <th>acuanhba</th>\n",
              "      <th>dmthma</th>\n",
              "      <th>berkurangharga</th>\n",
              "      <th>export</th>\n",
              "      <th>icdx</th>\n",
              "      <th>icdxantara</th>\n",
              "      <th>ici</th>\n",
              "      <th>tonkepala</th>\n",
              "      <th>titanium</th>\n",
              "      <th>ilmenit</th>\n",
              "      <th>hma</th>\n",
              "      <th>veseelnilai</th>\n",
              "      <th>derivatives</th>\n",
              "      <th>...</th>\n",
              "      <th>tular</th>\n",
              "      <th>masker</th>\n",
              "      <th>rp</th>\n",
              "      <th>sosial</th>\n",
              "      <th>daerah</th>\n",
              "      <th>milik</th>\n",
              "      <th>tugas</th>\n",
              "      <th>mei</th>\n",
              "      <th>infeksi</th>\n",
              "      <th>wabah</th>\n",
              "      <th>batas</th>\n",
              "      <th>usaha</th>\n",
              "      <th>persen</th>\n",
              "      <th>dki</th>\n",
              "      <th>kerja</th>\n",
              "      <th>warga</th>\n",
              "      <th>pandemi</th>\n",
              "      <th>tinggal</th>\n",
              "      <th>jalan</th>\n",
              "      <th>negara</th>\n",
              "      <th>bantu</th>\n",
              "      <th>april</th>\n",
              "      <th>sebar</th>\n",
              "      <th>menteri</th>\n",
              "      <th>kota</th>\n",
              "      <th>tangan</th>\n",
              "      <th>maret</th>\n",
              "      <th>indonesia</th>\n",
              "      <th>positif</th>\n",
              "      <th>masyarakat</th>\n",
              "      <th>jakarta</th>\n",
              "      <th>sakit</th>\n",
              "      <th>sehat</th>\n",
              "      <th>perintah</th>\n",
              "      <th>rumah</th>\n",
              "      <th>covid</th>\n",
              "      <th>corona</th>\n",
              "      <th>pasien</th>\n",
              "      <th>orang</th>\n",
              "      <th>virus</th>\n",
              "    </tr>\n",
              "  </thead>\n",
              "  <tbody>\n",
              "    <tr>\n",
              "      <th>0</th>\n",
              "      <td>0.000000</td>\n",
              "      <td>0.000000</td>\n",
              "      <td>0.000000</td>\n",
              "      <td>0.000000</td>\n",
              "      <td>0.000000</td>\n",
              "      <td>0.000000</td>\n",
              "      <td>0.000000</td>\n",
              "      <td>0.000000</td>\n",
              "      <td>0.000000</td>\n",
              "      <td>0.000000</td>\n",
              "      <td>0.000000</td>\n",
              "      <td>0.000000</td>\n",
              "      <td>0.000000</td>\n",
              "      <td>0.000000</td>\n",
              "      <td>0.000000</td>\n",
              "      <td>0.000000</td>\n",
              "      <td>0.000000</td>\n",
              "      <td>0.000000</td>\n",
              "      <td>0.000000</td>\n",
              "      <td>0.000000</td>\n",
              "      <td>0.000000</td>\n",
              "      <td>0.000000</td>\n",
              "      <td>0.000000</td>\n",
              "      <td>0.000000</td>\n",
              "      <td>0.000000</td>\n",
              "      <td>0.000000</td>\n",
              "      <td>0.000000</td>\n",
              "      <td>0.000000</td>\n",
              "      <td>0.000000</td>\n",
              "      <td>0.000000</td>\n",
              "      <td>0.000000</td>\n",
              "      <td>0.000000</td>\n",
              "      <td>0.000000</td>\n",
              "      <td>0.000000</td>\n",
              "      <td>0.000000</td>\n",
              "      <td>0.000000</td>\n",
              "      <td>0.000000</td>\n",
              "      <td>0.000000</td>\n",
              "      <td>0.000000</td>\n",
              "      <td>0.000000</td>\n",
              "      <td>...</td>\n",
              "      <td>0.000000</td>\n",
              "      <td>0.000000</td>\n",
              "      <td>0.000000</td>\n",
              "      <td>0.000000</td>\n",
              "      <td>0.000000</td>\n",
              "      <td>0.000000</td>\n",
              "      <td>0.000000</td>\n",
              "      <td>0.025755</td>\n",
              "      <td>0.000000</td>\n",
              "      <td>0.000000</td>\n",
              "      <td>0.000000</td>\n",
              "      <td>0.027440</td>\n",
              "      <td>0.204817</td>\n",
              "      <td>0.000000</td>\n",
              "      <td>0.000000</td>\n",
              "      <td>0.000000</td>\n",
              "      <td>0.022037</td>\n",
              "      <td>0.024745</td>\n",
              "      <td>0.022349</td>\n",
              "      <td>0.000000</td>\n",
              "      <td>0.000000</td>\n",
              "      <td>0.021267</td>\n",
              "      <td>0.000000</td>\n",
              "      <td>0.000000</td>\n",
              "      <td>0.000000</td>\n",
              "      <td>0.000000</td>\n",
              "      <td>0.000000</td>\n",
              "      <td>0.000000</td>\n",
              "      <td>0.000000</td>\n",
              "      <td>0.000000</td>\n",
              "      <td>0.000000</td>\n",
              "      <td>0.022231</td>\n",
              "      <td>0.000000</td>\n",
              "      <td>0.000000</td>\n",
              "      <td>0.019512</td>\n",
              "      <td>0.058174</td>\n",
              "      <td>0.000000</td>\n",
              "      <td>0.194198</td>\n",
              "      <td>0.000000</td>\n",
              "      <td>0.000000</td>\n",
              "    </tr>\n",
              "    <tr>\n",
              "      <th>1</th>\n",
              "      <td>0.000000</td>\n",
              "      <td>0.000000</td>\n",
              "      <td>0.000000</td>\n",
              "      <td>0.000000</td>\n",
              "      <td>0.000000</td>\n",
              "      <td>0.000000</td>\n",
              "      <td>0.000000</td>\n",
              "      <td>0.000000</td>\n",
              "      <td>0.000000</td>\n",
              "      <td>0.000000</td>\n",
              "      <td>0.000000</td>\n",
              "      <td>0.000000</td>\n",
              "      <td>0.000000</td>\n",
              "      <td>0.000000</td>\n",
              "      <td>0.000000</td>\n",
              "      <td>0.000000</td>\n",
              "      <td>0.000000</td>\n",
              "      <td>0.000000</td>\n",
              "      <td>0.000000</td>\n",
              "      <td>0.000000</td>\n",
              "      <td>0.000000</td>\n",
              "      <td>0.000000</td>\n",
              "      <td>0.000000</td>\n",
              "      <td>0.000000</td>\n",
              "      <td>0.000000</td>\n",
              "      <td>0.000000</td>\n",
              "      <td>0.000000</td>\n",
              "      <td>0.000000</td>\n",
              "      <td>0.000000</td>\n",
              "      <td>0.000000</td>\n",
              "      <td>0.000000</td>\n",
              "      <td>0.000000</td>\n",
              "      <td>0.000000</td>\n",
              "      <td>0.000000</td>\n",
              "      <td>0.000000</td>\n",
              "      <td>0.000000</td>\n",
              "      <td>0.000000</td>\n",
              "      <td>0.000000</td>\n",
              "      <td>0.000000</td>\n",
              "      <td>0.000000</td>\n",
              "      <td>...</td>\n",
              "      <td>0.000000</td>\n",
              "      <td>0.043866</td>\n",
              "      <td>0.000000</td>\n",
              "      <td>0.000000</td>\n",
              "      <td>0.000000</td>\n",
              "      <td>0.000000</td>\n",
              "      <td>0.000000</td>\n",
              "      <td>0.034127</td>\n",
              "      <td>0.000000</td>\n",
              "      <td>0.030728</td>\n",
              "      <td>0.000000</td>\n",
              "      <td>0.000000</td>\n",
              "      <td>0.000000</td>\n",
              "      <td>0.000000</td>\n",
              "      <td>0.000000</td>\n",
              "      <td>0.000000</td>\n",
              "      <td>0.029200</td>\n",
              "      <td>0.065576</td>\n",
              "      <td>0.000000</td>\n",
              "      <td>0.000000</td>\n",
              "      <td>0.000000</td>\n",
              "      <td>0.000000</td>\n",
              "      <td>0.000000</td>\n",
              "      <td>0.000000</td>\n",
              "      <td>0.143174</td>\n",
              "      <td>0.000000</td>\n",
              "      <td>0.000000</td>\n",
              "      <td>0.000000</td>\n",
              "      <td>0.000000</td>\n",
              "      <td>0.000000</td>\n",
              "      <td>0.000000</td>\n",
              "      <td>0.000000</td>\n",
              "      <td>0.000000</td>\n",
              "      <td>0.071687</td>\n",
              "      <td>0.025854</td>\n",
              "      <td>0.038542</td>\n",
              "      <td>0.019780</td>\n",
              "      <td>0.032165</td>\n",
              "      <td>0.000000</td>\n",
              "      <td>0.038049</td>\n",
              "    </tr>\n",
              "    <tr>\n",
              "      <th>2</th>\n",
              "      <td>0.000000</td>\n",
              "      <td>0.000000</td>\n",
              "      <td>0.000000</td>\n",
              "      <td>0.000000</td>\n",
              "      <td>0.000000</td>\n",
              "      <td>0.000000</td>\n",
              "      <td>0.000000</td>\n",
              "      <td>0.000000</td>\n",
              "      <td>0.000000</td>\n",
              "      <td>0.000000</td>\n",
              "      <td>0.000000</td>\n",
              "      <td>0.000000</td>\n",
              "      <td>0.000000</td>\n",
              "      <td>0.000000</td>\n",
              "      <td>0.000000</td>\n",
              "      <td>0.000000</td>\n",
              "      <td>0.000000</td>\n",
              "      <td>0.000000</td>\n",
              "      <td>0.000000</td>\n",
              "      <td>0.000000</td>\n",
              "      <td>0.000000</td>\n",
              "      <td>0.000000</td>\n",
              "      <td>0.000000</td>\n",
              "      <td>0.000000</td>\n",
              "      <td>0.000000</td>\n",
              "      <td>0.000000</td>\n",
              "      <td>0.000000</td>\n",
              "      <td>0.000000</td>\n",
              "      <td>0.000000</td>\n",
              "      <td>0.000000</td>\n",
              "      <td>0.000000</td>\n",
              "      <td>0.000000</td>\n",
              "      <td>0.000000</td>\n",
              "      <td>0.000000</td>\n",
              "      <td>0.000000</td>\n",
              "      <td>0.000000</td>\n",
              "      <td>0.000000</td>\n",
              "      <td>0.000000</td>\n",
              "      <td>0.000000</td>\n",
              "      <td>0.000000</td>\n",
              "      <td>...</td>\n",
              "      <td>0.000000</td>\n",
              "      <td>0.000000</td>\n",
              "      <td>0.000000</td>\n",
              "      <td>0.000000</td>\n",
              "      <td>0.000000</td>\n",
              "      <td>0.000000</td>\n",
              "      <td>0.000000</td>\n",
              "      <td>0.027046</td>\n",
              "      <td>0.000000</td>\n",
              "      <td>0.000000</td>\n",
              "      <td>0.000000</td>\n",
              "      <td>0.000000</td>\n",
              "      <td>0.030726</td>\n",
              "      <td>0.000000</td>\n",
              "      <td>0.000000</td>\n",
              "      <td>0.000000</td>\n",
              "      <td>0.069423</td>\n",
              "      <td>0.000000</td>\n",
              "      <td>0.000000</td>\n",
              "      <td>0.000000</td>\n",
              "      <td>0.054843</td>\n",
              "      <td>0.000000</td>\n",
              "      <td>0.000000</td>\n",
              "      <td>0.050120</td>\n",
              "      <td>0.000000</td>\n",
              "      <td>0.000000</td>\n",
              "      <td>0.000000</td>\n",
              "      <td>0.023318</td>\n",
              "      <td>0.000000</td>\n",
              "      <td>0.092663</td>\n",
              "      <td>0.000000</td>\n",
              "      <td>0.000000</td>\n",
              "      <td>0.000000</td>\n",
              "      <td>0.000000</td>\n",
              "      <td>0.000000</td>\n",
              "      <td>0.030545</td>\n",
              "      <td>0.015676</td>\n",
              "      <td>0.000000</td>\n",
              "      <td>0.000000</td>\n",
              "      <td>0.015077</td>\n",
              "    </tr>\n",
              "    <tr>\n",
              "      <th>3</th>\n",
              "      <td>0.000000</td>\n",
              "      <td>0.000000</td>\n",
              "      <td>0.000000</td>\n",
              "      <td>0.000000</td>\n",
              "      <td>0.000000</td>\n",
              "      <td>0.000000</td>\n",
              "      <td>0.000000</td>\n",
              "      <td>0.000000</td>\n",
              "      <td>0.000000</td>\n",
              "      <td>0.000000</td>\n",
              "      <td>0.000000</td>\n",
              "      <td>0.000000</td>\n",
              "      <td>0.000000</td>\n",
              "      <td>0.000000</td>\n",
              "      <td>0.000000</td>\n",
              "      <td>0.000000</td>\n",
              "      <td>0.000000</td>\n",
              "      <td>0.000000</td>\n",
              "      <td>0.000000</td>\n",
              "      <td>0.000000</td>\n",
              "      <td>0.000000</td>\n",
              "      <td>0.000000</td>\n",
              "      <td>0.000000</td>\n",
              "      <td>0.000000</td>\n",
              "      <td>0.000000</td>\n",
              "      <td>0.000000</td>\n",
              "      <td>0.000000</td>\n",
              "      <td>0.000000</td>\n",
              "      <td>0.000000</td>\n",
              "      <td>0.000000</td>\n",
              "      <td>0.000000</td>\n",
              "      <td>0.000000</td>\n",
              "      <td>0.000000</td>\n",
              "      <td>0.000000</td>\n",
              "      <td>0.000000</td>\n",
              "      <td>0.000000</td>\n",
              "      <td>0.000000</td>\n",
              "      <td>0.000000</td>\n",
              "      <td>0.000000</td>\n",
              "      <td>0.000000</td>\n",
              "      <td>...</td>\n",
              "      <td>0.000000</td>\n",
              "      <td>0.051798</td>\n",
              "      <td>0.000000</td>\n",
              "      <td>0.000000</td>\n",
              "      <td>0.133199</td>\n",
              "      <td>0.000000</td>\n",
              "      <td>0.083325</td>\n",
              "      <td>0.080596</td>\n",
              "      <td>0.000000</td>\n",
              "      <td>0.036284</td>\n",
              "      <td>0.000000</td>\n",
              "      <td>0.000000</td>\n",
              "      <td>0.000000</td>\n",
              "      <td>0.000000</td>\n",
              "      <td>0.000000</td>\n",
              "      <td>0.000000</td>\n",
              "      <td>0.034479</td>\n",
              "      <td>0.038716</td>\n",
              "      <td>0.069936</td>\n",
              "      <td>0.000000</td>\n",
              "      <td>0.000000</td>\n",
              "      <td>0.000000</td>\n",
              "      <td>0.032817</td>\n",
              "      <td>0.000000</td>\n",
              "      <td>0.042265</td>\n",
              "      <td>0.034337</td>\n",
              "      <td>0.000000</td>\n",
              "      <td>0.000000</td>\n",
              "      <td>0.037657</td>\n",
              "      <td>0.103548</td>\n",
              "      <td>0.000000</td>\n",
              "      <td>0.034784</td>\n",
              "      <td>0.029703</td>\n",
              "      <td>0.000000</td>\n",
              "      <td>0.030528</td>\n",
              "      <td>0.113776</td>\n",
              "      <td>0.023357</td>\n",
              "      <td>0.189906</td>\n",
              "      <td>0.144858</td>\n",
              "      <td>0.022464</td>\n",
              "    </tr>\n",
              "    <tr>\n",
              "      <th>4</th>\n",
              "      <td>0.000000</td>\n",
              "      <td>0.000000</td>\n",
              "      <td>0.000000</td>\n",
              "      <td>0.000000</td>\n",
              "      <td>0.000000</td>\n",
              "      <td>0.000000</td>\n",
              "      <td>0.000000</td>\n",
              "      <td>0.000000</td>\n",
              "      <td>0.000000</td>\n",
              "      <td>0.000000</td>\n",
              "      <td>0.000000</td>\n",
              "      <td>0.000000</td>\n",
              "      <td>0.000000</td>\n",
              "      <td>0.000000</td>\n",
              "      <td>0.000000</td>\n",
              "      <td>0.000000</td>\n",
              "      <td>0.000000</td>\n",
              "      <td>0.000000</td>\n",
              "      <td>0.000000</td>\n",
              "      <td>0.000000</td>\n",
              "      <td>0.000000</td>\n",
              "      <td>0.000000</td>\n",
              "      <td>0.000000</td>\n",
              "      <td>0.000000</td>\n",
              "      <td>0.000000</td>\n",
              "      <td>0.000000</td>\n",
              "      <td>0.000000</td>\n",
              "      <td>0.000000</td>\n",
              "      <td>0.000000</td>\n",
              "      <td>0.000000</td>\n",
              "      <td>0.000000</td>\n",
              "      <td>0.000000</td>\n",
              "      <td>0.000000</td>\n",
              "      <td>0.000000</td>\n",
              "      <td>0.000000</td>\n",
              "      <td>0.000000</td>\n",
              "      <td>0.000000</td>\n",
              "      <td>0.000000</td>\n",
              "      <td>0.000000</td>\n",
              "      <td>0.000000</td>\n",
              "      <td>...</td>\n",
              "      <td>0.000000</td>\n",
              "      <td>0.000000</td>\n",
              "      <td>0.000000</td>\n",
              "      <td>0.032937</td>\n",
              "      <td>0.070173</td>\n",
              "      <td>0.000000</td>\n",
              "      <td>0.032923</td>\n",
              "      <td>0.031845</td>\n",
              "      <td>0.000000</td>\n",
              "      <td>0.000000</td>\n",
              "      <td>0.061447</td>\n",
              "      <td>0.000000</td>\n",
              "      <td>0.000000</td>\n",
              "      <td>0.000000</td>\n",
              "      <td>0.000000</td>\n",
              "      <td>0.000000</td>\n",
              "      <td>0.000000</td>\n",
              "      <td>0.000000</td>\n",
              "      <td>0.000000</td>\n",
              "      <td>0.000000</td>\n",
              "      <td>0.000000</td>\n",
              "      <td>0.000000</td>\n",
              "      <td>0.000000</td>\n",
              "      <td>0.088520</td>\n",
              "      <td>0.000000</td>\n",
              "      <td>0.027134</td>\n",
              "      <td>0.000000</td>\n",
              "      <td>0.000000</td>\n",
              "      <td>0.000000</td>\n",
              "      <td>0.000000</td>\n",
              "      <td>0.026618</td>\n",
              "      <td>0.000000</td>\n",
              "      <td>0.046945</td>\n",
              "      <td>0.044595</td>\n",
              "      <td>0.000000</td>\n",
              "      <td>0.000000</td>\n",
              "      <td>0.000000</td>\n",
              "      <td>0.000000</td>\n",
              "      <td>0.000000</td>\n",
              "      <td>0.000000</td>\n",
              "    </tr>\n",
              "    <tr>\n",
              "      <th>...</th>\n",
              "      <td>...</td>\n",
              "      <td>...</td>\n",
              "      <td>...</td>\n",
              "      <td>...</td>\n",
              "      <td>...</td>\n",
              "      <td>...</td>\n",
              "      <td>...</td>\n",
              "      <td>...</td>\n",
              "      <td>...</td>\n",
              "      <td>...</td>\n",
              "      <td>...</td>\n",
              "      <td>...</td>\n",
              "      <td>...</td>\n",
              "      <td>...</td>\n",
              "      <td>...</td>\n",
              "      <td>...</td>\n",
              "      <td>...</td>\n",
              "      <td>...</td>\n",
              "      <td>...</td>\n",
              "      <td>...</td>\n",
              "      <td>...</td>\n",
              "      <td>...</td>\n",
              "      <td>...</td>\n",
              "      <td>...</td>\n",
              "      <td>...</td>\n",
              "      <td>...</td>\n",
              "      <td>...</td>\n",
              "      <td>...</td>\n",
              "      <td>...</td>\n",
              "      <td>...</td>\n",
              "      <td>...</td>\n",
              "      <td>...</td>\n",
              "      <td>...</td>\n",
              "      <td>...</td>\n",
              "      <td>...</td>\n",
              "      <td>...</td>\n",
              "      <td>...</td>\n",
              "      <td>...</td>\n",
              "      <td>...</td>\n",
              "      <td>...</td>\n",
              "      <td>...</td>\n",
              "      <td>...</td>\n",
              "      <td>...</td>\n",
              "      <td>...</td>\n",
              "      <td>...</td>\n",
              "      <td>...</td>\n",
              "      <td>...</td>\n",
              "      <td>...</td>\n",
              "      <td>...</td>\n",
              "      <td>...</td>\n",
              "      <td>...</td>\n",
              "      <td>...</td>\n",
              "      <td>...</td>\n",
              "      <td>...</td>\n",
              "      <td>...</td>\n",
              "      <td>...</td>\n",
              "      <td>...</td>\n",
              "      <td>...</td>\n",
              "      <td>...</td>\n",
              "      <td>...</td>\n",
              "      <td>...</td>\n",
              "      <td>...</td>\n",
              "      <td>...</td>\n",
              "      <td>...</td>\n",
              "      <td>...</td>\n",
              "      <td>...</td>\n",
              "      <td>...</td>\n",
              "      <td>...</td>\n",
              "      <td>...</td>\n",
              "      <td>...</td>\n",
              "      <td>...</td>\n",
              "      <td>...</td>\n",
              "      <td>...</td>\n",
              "      <td>...</td>\n",
              "      <td>...</td>\n",
              "      <td>...</td>\n",
              "      <td>...</td>\n",
              "      <td>...</td>\n",
              "      <td>...</td>\n",
              "      <td>...</td>\n",
              "      <td>...</td>\n",
              "    </tr>\n",
              "    <tr>\n",
              "      <th>13402</th>\n",
              "      <td>0.000000</td>\n",
              "      <td>0.000000</td>\n",
              "      <td>0.000000</td>\n",
              "      <td>0.000000</td>\n",
              "      <td>0.000000</td>\n",
              "      <td>0.000000</td>\n",
              "      <td>0.000000</td>\n",
              "      <td>0.000000</td>\n",
              "      <td>0.000000</td>\n",
              "      <td>0.000000</td>\n",
              "      <td>0.000000</td>\n",
              "      <td>0.000000</td>\n",
              "      <td>0.000000</td>\n",
              "      <td>0.000000</td>\n",
              "      <td>0.000000</td>\n",
              "      <td>0.000000</td>\n",
              "      <td>0.000000</td>\n",
              "      <td>0.000000</td>\n",
              "      <td>0.000000</td>\n",
              "      <td>0.000000</td>\n",
              "      <td>0.000000</td>\n",
              "      <td>0.000000</td>\n",
              "      <td>0.000000</td>\n",
              "      <td>0.000000</td>\n",
              "      <td>0.000000</td>\n",
              "      <td>0.000000</td>\n",
              "      <td>0.000000</td>\n",
              "      <td>0.000000</td>\n",
              "      <td>0.000000</td>\n",
              "      <td>0.000000</td>\n",
              "      <td>0.000000</td>\n",
              "      <td>0.000000</td>\n",
              "      <td>0.000000</td>\n",
              "      <td>0.000000</td>\n",
              "      <td>0.000000</td>\n",
              "      <td>0.000000</td>\n",
              "      <td>0.000000</td>\n",
              "      <td>0.000000</td>\n",
              "      <td>0.000000</td>\n",
              "      <td>0.000000</td>\n",
              "      <td>...</td>\n",
              "      <td>0.075604</td>\n",
              "      <td>0.090846</td>\n",
              "      <td>0.000000</td>\n",
              "      <td>0.000000</td>\n",
              "      <td>0.000000</td>\n",
              "      <td>0.000000</td>\n",
              "      <td>0.000000</td>\n",
              "      <td>0.000000</td>\n",
              "      <td>0.115141</td>\n",
              "      <td>0.000000</td>\n",
              "      <td>0.000000</td>\n",
              "      <td>0.000000</td>\n",
              "      <td>0.000000</td>\n",
              "      <td>0.090883</td>\n",
              "      <td>0.000000</td>\n",
              "      <td>0.075139</td>\n",
              "      <td>0.000000</td>\n",
              "      <td>0.000000</td>\n",
              "      <td>0.000000</td>\n",
              "      <td>0.000000</td>\n",
              "      <td>0.000000</td>\n",
              "      <td>0.000000</td>\n",
              "      <td>0.086334</td>\n",
              "      <td>0.000000</td>\n",
              "      <td>0.037064</td>\n",
              "      <td>0.120443</td>\n",
              "      <td>0.000000</td>\n",
              "      <td>0.000000</td>\n",
              "      <td>0.000000</td>\n",
              "      <td>0.000000</td>\n",
              "      <td>0.118150</td>\n",
              "      <td>0.213519</td>\n",
              "      <td>0.078142</td>\n",
              "      <td>0.024744</td>\n",
              "      <td>0.053543</td>\n",
              "      <td>0.000000</td>\n",
              "      <td>0.061447</td>\n",
              "      <td>0.099921</td>\n",
              "      <td>0.025406</td>\n",
              "      <td>0.118198</td>\n",
              "    </tr>\n",
              "    <tr>\n",
              "      <th>13403</th>\n",
              "      <td>0.000000</td>\n",
              "      <td>0.000000</td>\n",
              "      <td>0.000000</td>\n",
              "      <td>0.000000</td>\n",
              "      <td>0.000000</td>\n",
              "      <td>0.000000</td>\n",
              "      <td>0.000000</td>\n",
              "      <td>0.000000</td>\n",
              "      <td>0.000000</td>\n",
              "      <td>0.000000</td>\n",
              "      <td>0.000000</td>\n",
              "      <td>0.000000</td>\n",
              "      <td>0.000000</td>\n",
              "      <td>0.000000</td>\n",
              "      <td>0.000000</td>\n",
              "      <td>0.000000</td>\n",
              "      <td>0.000000</td>\n",
              "      <td>0.000000</td>\n",
              "      <td>0.000000</td>\n",
              "      <td>0.000000</td>\n",
              "      <td>0.000000</td>\n",
              "      <td>0.000000</td>\n",
              "      <td>0.000000</td>\n",
              "      <td>0.000000</td>\n",
              "      <td>0.000000</td>\n",
              "      <td>0.000000</td>\n",
              "      <td>0.000000</td>\n",
              "      <td>0.000000</td>\n",
              "      <td>0.000000</td>\n",
              "      <td>0.000000</td>\n",
              "      <td>0.000000</td>\n",
              "      <td>0.000000</td>\n",
              "      <td>0.000000</td>\n",
              "      <td>0.000000</td>\n",
              "      <td>0.000000</td>\n",
              "      <td>0.000000</td>\n",
              "      <td>0.000000</td>\n",
              "      <td>0.000000</td>\n",
              "      <td>0.000000</td>\n",
              "      <td>0.000000</td>\n",
              "      <td>...</td>\n",
              "      <td>0.016912</td>\n",
              "      <td>0.040643</td>\n",
              "      <td>0.000000</td>\n",
              "      <td>0.000000</td>\n",
              "      <td>0.000000</td>\n",
              "      <td>0.057232</td>\n",
              "      <td>0.000000</td>\n",
              "      <td>0.000000</td>\n",
              "      <td>0.103023</td>\n",
              "      <td>0.000000</td>\n",
              "      <td>0.000000</td>\n",
              "      <td>0.050532</td>\n",
              "      <td>0.000000</td>\n",
              "      <td>0.040659</td>\n",
              "      <td>0.016191</td>\n",
              "      <td>0.050424</td>\n",
              "      <td>0.000000</td>\n",
              "      <td>0.000000</td>\n",
              "      <td>0.000000</td>\n",
              "      <td>0.044638</td>\n",
              "      <td>0.000000</td>\n",
              "      <td>0.000000</td>\n",
              "      <td>0.077248</td>\n",
              "      <td>0.014649</td>\n",
              "      <td>0.033163</td>\n",
              "      <td>0.053884</td>\n",
              "      <td>0.000000</td>\n",
              "      <td>0.013630</td>\n",
              "      <td>0.000000</td>\n",
              "      <td>0.000000</td>\n",
              "      <td>0.052858</td>\n",
              "      <td>0.150109</td>\n",
              "      <td>0.069918</td>\n",
              "      <td>0.000000</td>\n",
              "      <td>0.071862</td>\n",
              "      <td>0.000000</td>\n",
              "      <td>0.100797</td>\n",
              "      <td>0.119207</td>\n",
              "      <td>0.022732</td>\n",
              "      <td>0.202704</td>\n",
              "    </tr>\n",
              "    <tr>\n",
              "      <th>13404</th>\n",
              "      <td>0.000000</td>\n",
              "      <td>0.000000</td>\n",
              "      <td>0.000000</td>\n",
              "      <td>0.000000</td>\n",
              "      <td>0.000000</td>\n",
              "      <td>0.000000</td>\n",
              "      <td>0.000000</td>\n",
              "      <td>0.000000</td>\n",
              "      <td>0.000000</td>\n",
              "      <td>0.000000</td>\n",
              "      <td>0.000000</td>\n",
              "      <td>0.000000</td>\n",
              "      <td>0.000000</td>\n",
              "      <td>0.000000</td>\n",
              "      <td>0.000000</td>\n",
              "      <td>0.000000</td>\n",
              "      <td>0.000000</td>\n",
              "      <td>0.000000</td>\n",
              "      <td>0.000000</td>\n",
              "      <td>0.000000</td>\n",
              "      <td>0.000000</td>\n",
              "      <td>0.000000</td>\n",
              "      <td>0.000000</td>\n",
              "      <td>0.000000</td>\n",
              "      <td>0.000000</td>\n",
              "      <td>0.000000</td>\n",
              "      <td>0.000000</td>\n",
              "      <td>0.000000</td>\n",
              "      <td>0.000000</td>\n",
              "      <td>0.000000</td>\n",
              "      <td>0.000000</td>\n",
              "      <td>0.000000</td>\n",
              "      <td>0.000000</td>\n",
              "      <td>0.000000</td>\n",
              "      <td>0.000000</td>\n",
              "      <td>0.000000</td>\n",
              "      <td>0.000000</td>\n",
              "      <td>0.000000</td>\n",
              "      <td>0.000000</td>\n",
              "      <td>0.000000</td>\n",
              "      <td>...</td>\n",
              "      <td>0.000000</td>\n",
              "      <td>0.000000</td>\n",
              "      <td>0.000000</td>\n",
              "      <td>0.000000</td>\n",
              "      <td>0.000000</td>\n",
              "      <td>0.000000</td>\n",
              "      <td>0.000000</td>\n",
              "      <td>0.000000</td>\n",
              "      <td>0.176667</td>\n",
              "      <td>0.000000</td>\n",
              "      <td>0.000000</td>\n",
              "      <td>0.000000</td>\n",
              "      <td>0.000000</td>\n",
              "      <td>0.000000</td>\n",
              "      <td>0.000000</td>\n",
              "      <td>0.043234</td>\n",
              "      <td>0.000000</td>\n",
              "      <td>0.000000</td>\n",
              "      <td>0.070575</td>\n",
              "      <td>0.038273</td>\n",
              "      <td>0.000000</td>\n",
              "      <td>0.000000</td>\n",
              "      <td>0.033117</td>\n",
              "      <td>0.075360</td>\n",
              "      <td>0.000000</td>\n",
              "      <td>0.000000</td>\n",
              "      <td>0.000000</td>\n",
              "      <td>0.000000</td>\n",
              "      <td>0.000000</td>\n",
              "      <td>0.000000</td>\n",
              "      <td>0.000000</td>\n",
              "      <td>0.105304</td>\n",
              "      <td>0.119897</td>\n",
              "      <td>0.000000</td>\n",
              "      <td>0.092423</td>\n",
              "      <td>0.000000</td>\n",
              "      <td>0.023570</td>\n",
              "      <td>0.153314</td>\n",
              "      <td>0.058473</td>\n",
              "      <td>0.045339</td>\n",
              "    </tr>\n",
              "    <tr>\n",
              "      <th>13405</th>\n",
              "      <td>0.000000</td>\n",
              "      <td>0.000000</td>\n",
              "      <td>0.000000</td>\n",
              "      <td>0.000000</td>\n",
              "      <td>0.000000</td>\n",
              "      <td>0.000000</td>\n",
              "      <td>0.000000</td>\n",
              "      <td>0.000000</td>\n",
              "      <td>0.000000</td>\n",
              "      <td>0.000000</td>\n",
              "      <td>0.000000</td>\n",
              "      <td>0.000000</td>\n",
              "      <td>0.000000</td>\n",
              "      <td>0.000000</td>\n",
              "      <td>0.000000</td>\n",
              "      <td>0.000000</td>\n",
              "      <td>0.000000</td>\n",
              "      <td>0.000000</td>\n",
              "      <td>0.000000</td>\n",
              "      <td>0.000000</td>\n",
              "      <td>0.000000</td>\n",
              "      <td>0.000000</td>\n",
              "      <td>0.000000</td>\n",
              "      <td>0.000000</td>\n",
              "      <td>0.000000</td>\n",
              "      <td>0.000000</td>\n",
              "      <td>0.000000</td>\n",
              "      <td>0.000000</td>\n",
              "      <td>0.000000</td>\n",
              "      <td>0.000000</td>\n",
              "      <td>0.000000</td>\n",
              "      <td>0.000000</td>\n",
              "      <td>0.000000</td>\n",
              "      <td>0.000000</td>\n",
              "      <td>0.000000</td>\n",
              "      <td>0.000000</td>\n",
              "      <td>0.000000</td>\n",
              "      <td>0.000000</td>\n",
              "      <td>0.000000</td>\n",
              "      <td>0.000000</td>\n",
              "      <td>...</td>\n",
              "      <td>0.048574</td>\n",
              "      <td>0.000000</td>\n",
              "      <td>0.000000</td>\n",
              "      <td>0.000000</td>\n",
              "      <td>0.000000</td>\n",
              "      <td>0.000000</td>\n",
              "      <td>0.000000</td>\n",
              "      <td>0.000000</td>\n",
              "      <td>0.098635</td>\n",
              "      <td>0.040886</td>\n",
              "      <td>0.000000</td>\n",
              "      <td>0.000000</td>\n",
              "      <td>0.000000</td>\n",
              "      <td>0.000000</td>\n",
              "      <td>0.000000</td>\n",
              "      <td>0.000000</td>\n",
              "      <td>0.000000</td>\n",
              "      <td>0.000000</td>\n",
              "      <td>0.000000</td>\n",
              "      <td>0.000000</td>\n",
              "      <td>0.000000</td>\n",
              "      <td>0.000000</td>\n",
              "      <td>0.036979</td>\n",
              "      <td>0.042074</td>\n",
              "      <td>0.047626</td>\n",
              "      <td>0.000000</td>\n",
              "      <td>0.000000</td>\n",
              "      <td>0.000000</td>\n",
              "      <td>0.000000</td>\n",
              "      <td>0.000000</td>\n",
              "      <td>0.000000</td>\n",
              "      <td>0.117585</td>\n",
              "      <td>0.033470</td>\n",
              "      <td>0.000000</td>\n",
              "      <td>0.068801</td>\n",
              "      <td>0.000000</td>\n",
              "      <td>0.052638</td>\n",
              "      <td>0.042798</td>\n",
              "      <td>0.000000</td>\n",
              "      <td>0.151880</td>\n",
              "    </tr>\n",
              "    <tr>\n",
              "      <th>Total</th>\n",
              "      <td>0.025197</td>\n",
              "      <td>0.025197</td>\n",
              "      <td>0.025197</td>\n",
              "      <td>0.025197</td>\n",
              "      <td>0.025197</td>\n",
              "      <td>0.032934</td>\n",
              "      <td>0.032934</td>\n",
              "      <td>0.032934</td>\n",
              "      <td>0.032934</td>\n",
              "      <td>0.032934</td>\n",
              "      <td>0.032934</td>\n",
              "      <td>0.032934</td>\n",
              "      <td>0.032934</td>\n",
              "      <td>0.032934</td>\n",
              "      <td>0.032934</td>\n",
              "      <td>0.032934</td>\n",
              "      <td>0.032934</td>\n",
              "      <td>0.032934</td>\n",
              "      <td>0.035016</td>\n",
              "      <td>0.035016</td>\n",
              "      <td>0.035016</td>\n",
              "      <td>0.035016</td>\n",
              "      <td>0.035016</td>\n",
              "      <td>0.035016</td>\n",
              "      <td>0.035016</td>\n",
              "      <td>0.035016</td>\n",
              "      <td>0.035016</td>\n",
              "      <td>0.035016</td>\n",
              "      <td>0.035016</td>\n",
              "      <td>0.035016</td>\n",
              "      <td>0.035016</td>\n",
              "      <td>0.035016</td>\n",
              "      <td>0.035016</td>\n",
              "      <td>0.035016</td>\n",
              "      <td>0.035016</td>\n",
              "      <td>0.035016</td>\n",
              "      <td>0.035016</td>\n",
              "      <td>0.035016</td>\n",
              "      <td>0.035016</td>\n",
              "      <td>0.035016</td>\n",
              "      <td>...</td>\n",
              "      <td>158.652328</td>\n",
              "      <td>160.675196</td>\n",
              "      <td>162.462314</td>\n",
              "      <td>163.210051</td>\n",
              "      <td>163.465099</td>\n",
              "      <td>165.126476</td>\n",
              "      <td>168.282256</td>\n",
              "      <td>172.755116</td>\n",
              "      <td>180.442519</td>\n",
              "      <td>182.193105</td>\n",
              "      <td>182.196946</td>\n",
              "      <td>183.417714</td>\n",
              "      <td>189.786179</td>\n",
              "      <td>190.877771</td>\n",
              "      <td>192.559118</td>\n",
              "      <td>196.037070</td>\n",
              "      <td>196.147635</td>\n",
              "      <td>202.755458</td>\n",
              "      <td>206.733889</td>\n",
              "      <td>207.941911</td>\n",
              "      <td>210.033275</td>\n",
              "      <td>215.645223</td>\n",
              "      <td>223.478952</td>\n",
              "      <td>227.713031</td>\n",
              "      <td>228.698409</td>\n",
              "      <td>237.565795</td>\n",
              "      <td>245.333777</td>\n",
              "      <td>247.005399</td>\n",
              "      <td>263.389347</td>\n",
              "      <td>265.382255</td>\n",
              "      <td>298.583846</td>\n",
              "      <td>300.172241</td>\n",
              "      <td>307.701428</td>\n",
              "      <td>334.700388</td>\n",
              "      <td>337.907128</td>\n",
              "      <td>384.814145</td>\n",
              "      <td>395.122638</td>\n",
              "      <td>409.511663</td>\n",
              "      <td>451.869832</td>\n",
              "      <td>458.113200</td>\n",
              "    </tr>\n",
              "  </tbody>\n",
              "</table>\n",
              "<p>13407 rows × 25622 columns</p>\n",
              "</div>"
            ],
            "text/plain": [
              "        cskaiid  keretaapikita     kaiid  ...      pasien       orang       virus\n",
              "0      0.000000       0.000000  0.000000  ...    0.194198    0.000000    0.000000\n",
              "1      0.000000       0.000000  0.000000  ...    0.032165    0.000000    0.038049\n",
              "2      0.000000       0.000000  0.000000  ...    0.000000    0.000000    0.015077\n",
              "3      0.000000       0.000000  0.000000  ...    0.189906    0.144858    0.022464\n",
              "4      0.000000       0.000000  0.000000  ...    0.000000    0.000000    0.000000\n",
              "...         ...            ...       ...  ...         ...         ...         ...\n",
              "13402  0.000000       0.000000  0.000000  ...    0.099921    0.025406    0.118198\n",
              "13403  0.000000       0.000000  0.000000  ...    0.119207    0.022732    0.202704\n",
              "13404  0.000000       0.000000  0.000000  ...    0.153314    0.058473    0.045339\n",
              "13405  0.000000       0.000000  0.000000  ...    0.042798    0.000000    0.151880\n",
              "Total  0.025197       0.025197  0.025197  ...  409.511663  451.869832  458.113200\n",
              "\n",
              "[13407 rows x 25622 columns]"
            ]
          },
          "metadata": {
            "tags": []
          },
          "execution_count": 66
        }
      ]
    },
    {
      "cell_type": "code",
      "metadata": {
        "id": "j4js2aq998Lc"
      },
      "source": [
        "total = dfngram.loc['Total'].sort_values(ascending = False)"
      ],
      "execution_count": null,
      "outputs": []
    },
    {
      "cell_type": "code",
      "metadata": {
        "colab": {
          "base_uri": "https://localhost:8080/",
          "height": 732
        },
        "id": "kyS34per-Dmv",
        "outputId": "febf92f9-eb95-48d4-9d1f-6592a6abd9d1"
      },
      "source": [
        "f, ax = plt.subplots(1, 1, figsize = (30, 20))\n",
        "plt.bar(total[:20].index, total[:20])\n",
        "plt.rc('xtick', labelsize = 15)\n",
        "plt.rc('ytick', labelsize = 15)\n",
        "plt.show()"
      ],
      "execution_count": null,
      "outputs": [
        {
          "output_type": "display_data",
          "data": {
            "image/png": "[encoded data removed]",
            "text/plain": [
              "<Figure size 2160x1440 with 1 Axes>"
            ]
          },
          "metadata": {
            "tags": []
          }
        }
      ]
    },
    {
      "cell_type": "markdown",
      "metadata": {
        "id": "0cRpJnuL-KVA"
      },
      "source": [
        "**Dapat terlihat visualisasi per kata atau per satu kata berdasarkan bobot TF IDF terbesar**"
      ]
    },
    {
      "cell_type": "code",
      "metadata": {
        "colab": {
          "base_uri": "https://localhost:8080/",
          "height": 246
        },
        "id": "ZJ4XiVS9__cs",
        "outputId": "549fe8bf-d548-4a21-b0f0-bdefa599913d"
      },
      "source": [
        "dfngram.head()"
      ],
      "execution_count": null,
      "outputs": [
        {
          "output_type": "execute_result",
          "data": {
            "text/html": [
              "<div>\n",
              "<style scoped>\n",
              "    .dataframe tbody tr th:only-of-type {\n",
              "        vertical-align: middle;\n",
              "    }\n",
              "\n",
              "    .dataframe tbody tr th {\n",
              "        vertical-align: top;\n",
              "    }\n",
              "\n",
              "    .dataframe thead th {\n",
              "        text-align: right;\n",
              "    }\n",
              "</style>\n",
              "<table border=\"1\" class=\"dataframe\">\n",
              "  <thead>\n",
              "    <tr style=\"text-align: right;\">\n",
              "      <th></th>\n",
              "      <th>aacomtr</th>\n",
              "      <th>aacomtrdalam</th>\n",
              "      <th>aacomtrpbb</th>\n",
              "      <th>aaditya</th>\n",
              "      <th>aakar</th>\n",
              "      <th>aakarabyasa</th>\n",
              "      <th>aam</th>\n",
              "      <th>aan</th>\n",
              "      <th>aao</th>\n",
              "      <th>aaron</th>\n",
              "      <th>ababa</th>\n",
              "      <th>abad</th>\n",
              "      <th>abadi</th>\n",
              "      <th>abai</th>\n",
              "      <th>abang</th>\n",
              "      <th>abar</th>\n",
              "      <th>abbas</th>\n",
              "      <th>abbott</th>\n",
              "      <th>abc</th>\n",
              "      <th>abdelaziz</th>\n",
              "      <th>abdellatif</th>\n",
              "      <th>abdi</th>\n",
              "      <th>abdillah</th>\n",
              "      <th>abdul</th>\n",
              "      <th>abdulaziz</th>\n",
              "      <th>abduldata</th>\n",
              "      <th>abdulkadir</th>\n",
              "      <th>abdullah</th>\n",
              "      <th>abdullatif</th>\n",
              "      <th>abdulmadjid</th>\n",
              "      <th>abdulwahab</th>\n",
              "      <th>abdurahman</th>\n",
              "      <th>abdurrahman</th>\n",
              "      <th>abe</th>\n",
              "      <th>aberdeenshire</th>\n",
              "      <th>abi</th>\n",
              "      <th>abidin</th>\n",
              "      <th>abigail</th>\n",
              "      <th>abipraya</th>\n",
              "      <th>abk</th>\n",
              "      <th>...</th>\n",
              "      <th>zikir</th>\n",
              "      <th>zimbabwe</th>\n",
              "      <th>zinc</th>\n",
              "      <th>zipse</th>\n",
              "      <th>zita</th>\n",
              "      <th>zlatan</th>\n",
              "      <th>zlatko</th>\n",
              "      <th>zock</th>\n",
              "      <th>zoe</th>\n",
              "      <th>zoelkifli</th>\n",
              "      <th>zohri</th>\n",
              "      <th>zombi</th>\n",
              "      <th>zombiada</th>\n",
              "      <th>zombie</th>\n",
              "      <th>zona</th>\n",
              "      <th>zonapada</th>\n",
              "      <th>zonapertama</th>\n",
              "      <th>zonazona</th>\n",
              "      <th>zone</th>\n",
              "      <th>zoologi</th>\n",
              "      <th>zoom</th>\n",
              "      <th>zoomov</th>\n",
              "      <th>zoomsaat</th>\n",
              "      <th>zoonosis</th>\n",
              "      <th>zoonotik</th>\n",
              "      <th>zorabots</th>\n",
              "      <th>zorreguieta</th>\n",
              "      <th>zssedangkan</th>\n",
              "      <th>zuckerberg</th>\n",
              "      <th>zuhur</th>\n",
              "      <th>zulfikar</th>\n",
              "      <th>zulfikri</th>\n",
              "      <th>zulkarnaen</th>\n",
              "      <th>zulkieflimansyah</th>\n",
              "      <th>zulkifli</th>\n",
              "      <th>zumba</th>\n",
              "      <th>zurbuchen</th>\n",
              "      <th>zurich</th>\n",
              "      <th>zweli</th>\n",
              "      <th>zynga</th>\n",
              "    </tr>\n",
              "  </thead>\n",
              "  <tbody>\n",
              "    <tr>\n",
              "      <th>0</th>\n",
              "      <td>0.0</td>\n",
              "      <td>0.0</td>\n",
              "      <td>0.0</td>\n",
              "      <td>0.0</td>\n",
              "      <td>0.0</td>\n",
              "      <td>0.0</td>\n",
              "      <td>0.0</td>\n",
              "      <td>0.0</td>\n",
              "      <td>0.0</td>\n",
              "      <td>0.0</td>\n",
              "      <td>0.0</td>\n",
              "      <td>0.0</td>\n",
              "      <td>0.0</td>\n",
              "      <td>0.0</td>\n",
              "      <td>0.0</td>\n",
              "      <td>0.0</td>\n",
              "      <td>0.0</td>\n",
              "      <td>0.0</td>\n",
              "      <td>0.0</td>\n",
              "      <td>0.0</td>\n",
              "      <td>0.0</td>\n",
              "      <td>0.0</td>\n",
              "      <td>0.0</td>\n",
              "      <td>0.0</td>\n",
              "      <td>0.0</td>\n",
              "      <td>0.0</td>\n",
              "      <td>0.0</td>\n",
              "      <td>0.0</td>\n",
              "      <td>0.0</td>\n",
              "      <td>0.0</td>\n",
              "      <td>0.0</td>\n",
              "      <td>0.0</td>\n",
              "      <td>0.0</td>\n",
              "      <td>0.0</td>\n",
              "      <td>0.0</td>\n",
              "      <td>0.0</td>\n",
              "      <td>0.0</td>\n",
              "      <td>0.0</td>\n",
              "      <td>0.0</td>\n",
              "      <td>0.0</td>\n",
              "      <td>...</td>\n",
              "      <td>0.0</td>\n",
              "      <td>0.0</td>\n",
              "      <td>0.0</td>\n",
              "      <td>0.0</td>\n",
              "      <td>0.0</td>\n",
              "      <td>0.0</td>\n",
              "      <td>0.0</td>\n",
              "      <td>0.0</td>\n",
              "      <td>0.0</td>\n",
              "      <td>0.0</td>\n",
              "      <td>0.0</td>\n",
              "      <td>0.0</td>\n",
              "      <td>0.0</td>\n",
              "      <td>0.0</td>\n",
              "      <td>0.0</td>\n",
              "      <td>0.0</td>\n",
              "      <td>0.0</td>\n",
              "      <td>0.0</td>\n",
              "      <td>0.0</td>\n",
              "      <td>0.0</td>\n",
              "      <td>0.0</td>\n",
              "      <td>0.0</td>\n",
              "      <td>0.0</td>\n",
              "      <td>0.0</td>\n",
              "      <td>0.0</td>\n",
              "      <td>0.0</td>\n",
              "      <td>0.0</td>\n",
              "      <td>0.0</td>\n",
              "      <td>0.0</td>\n",
              "      <td>0.0</td>\n",
              "      <td>0.0</td>\n",
              "      <td>0.0</td>\n",
              "      <td>0.0</td>\n",
              "      <td>0.0</td>\n",
              "      <td>0.0</td>\n",
              "      <td>0.0</td>\n",
              "      <td>0.0</td>\n",
              "      <td>0.0</td>\n",
              "      <td>0.0</td>\n",
              "      <td>0.0</td>\n",
              "    </tr>\n",
              "    <tr>\n",
              "      <th>1</th>\n",
              "      <td>0.0</td>\n",
              "      <td>0.0</td>\n",
              "      <td>0.0</td>\n",
              "      <td>0.0</td>\n",
              "      <td>0.0</td>\n",
              "      <td>0.0</td>\n",
              "      <td>0.0</td>\n",
              "      <td>0.0</td>\n",
              "      <td>0.0</td>\n",
              "      <td>0.0</td>\n",
              "      <td>0.0</td>\n",
              "      <td>0.0</td>\n",
              "      <td>0.0</td>\n",
              "      <td>0.0</td>\n",
              "      <td>0.0</td>\n",
              "      <td>0.0</td>\n",
              "      <td>0.0</td>\n",
              "      <td>0.0</td>\n",
              "      <td>0.0</td>\n",
              "      <td>0.0</td>\n",
              "      <td>0.0</td>\n",
              "      <td>0.0</td>\n",
              "      <td>0.0</td>\n",
              "      <td>0.0</td>\n",
              "      <td>0.0</td>\n",
              "      <td>0.0</td>\n",
              "      <td>0.0</td>\n",
              "      <td>0.0</td>\n",
              "      <td>0.0</td>\n",
              "      <td>0.0</td>\n",
              "      <td>0.0</td>\n",
              "      <td>0.0</td>\n",
              "      <td>0.0</td>\n",
              "      <td>0.0</td>\n",
              "      <td>0.0</td>\n",
              "      <td>0.0</td>\n",
              "      <td>0.0</td>\n",
              "      <td>0.0</td>\n",
              "      <td>0.0</td>\n",
              "      <td>0.0</td>\n",
              "      <td>...</td>\n",
              "      <td>0.0</td>\n",
              "      <td>0.0</td>\n",
              "      <td>0.0</td>\n",
              "      <td>0.0</td>\n",
              "      <td>0.0</td>\n",
              "      <td>0.0</td>\n",
              "      <td>0.0</td>\n",
              "      <td>0.0</td>\n",
              "      <td>0.0</td>\n",
              "      <td>0.0</td>\n",
              "      <td>0.0</td>\n",
              "      <td>0.0</td>\n",
              "      <td>0.0</td>\n",
              "      <td>0.0</td>\n",
              "      <td>0.0</td>\n",
              "      <td>0.0</td>\n",
              "      <td>0.0</td>\n",
              "      <td>0.0</td>\n",
              "      <td>0.0</td>\n",
              "      <td>0.0</td>\n",
              "      <td>0.0</td>\n",
              "      <td>0.0</td>\n",
              "      <td>0.0</td>\n",
              "      <td>0.0</td>\n",
              "      <td>0.0</td>\n",
              "      <td>0.0</td>\n",
              "      <td>0.0</td>\n",
              "      <td>0.0</td>\n",
              "      <td>0.0</td>\n",
              "      <td>0.0</td>\n",
              "      <td>0.0</td>\n",
              "      <td>0.0</td>\n",
              "      <td>0.0</td>\n",
              "      <td>0.0</td>\n",
              "      <td>0.0</td>\n",
              "      <td>0.0</td>\n",
              "      <td>0.0</td>\n",
              "      <td>0.0</td>\n",
              "      <td>0.0</td>\n",
              "      <td>0.0</td>\n",
              "    </tr>\n",
              "    <tr>\n",
              "      <th>2</th>\n",
              "      <td>0.0</td>\n",
              "      <td>0.0</td>\n",
              "      <td>0.0</td>\n",
              "      <td>0.0</td>\n",
              "      <td>0.0</td>\n",
              "      <td>0.0</td>\n",
              "      <td>0.0</td>\n",
              "      <td>0.0</td>\n",
              "      <td>0.0</td>\n",
              "      <td>0.0</td>\n",
              "      <td>0.0</td>\n",
              "      <td>0.0</td>\n",
              "      <td>0.0</td>\n",
              "      <td>0.0</td>\n",
              "      <td>0.0</td>\n",
              "      <td>0.0</td>\n",
              "      <td>0.0</td>\n",
              "      <td>0.0</td>\n",
              "      <td>0.0</td>\n",
              "      <td>0.0</td>\n",
              "      <td>0.0</td>\n",
              "      <td>0.0</td>\n",
              "      <td>0.0</td>\n",
              "      <td>0.0</td>\n",
              "      <td>0.0</td>\n",
              "      <td>0.0</td>\n",
              "      <td>0.0</td>\n",
              "      <td>0.0</td>\n",
              "      <td>0.0</td>\n",
              "      <td>0.0</td>\n",
              "      <td>0.0</td>\n",
              "      <td>0.0</td>\n",
              "      <td>0.0</td>\n",
              "      <td>0.0</td>\n",
              "      <td>0.0</td>\n",
              "      <td>0.0</td>\n",
              "      <td>0.0</td>\n",
              "      <td>0.0</td>\n",
              "      <td>0.0</td>\n",
              "      <td>0.0</td>\n",
              "      <td>...</td>\n",
              "      <td>0.0</td>\n",
              "      <td>0.0</td>\n",
              "      <td>0.0</td>\n",
              "      <td>0.0</td>\n",
              "      <td>0.0</td>\n",
              "      <td>0.0</td>\n",
              "      <td>0.0</td>\n",
              "      <td>0.0</td>\n",
              "      <td>0.0</td>\n",
              "      <td>0.0</td>\n",
              "      <td>0.0</td>\n",
              "      <td>0.0</td>\n",
              "      <td>0.0</td>\n",
              "      <td>0.0</td>\n",
              "      <td>0.0</td>\n",
              "      <td>0.0</td>\n",
              "      <td>0.0</td>\n",
              "      <td>0.0</td>\n",
              "      <td>0.0</td>\n",
              "      <td>0.0</td>\n",
              "      <td>0.0</td>\n",
              "      <td>0.0</td>\n",
              "      <td>0.0</td>\n",
              "      <td>0.0</td>\n",
              "      <td>0.0</td>\n",
              "      <td>0.0</td>\n",
              "      <td>0.0</td>\n",
              "      <td>0.0</td>\n",
              "      <td>0.0</td>\n",
              "      <td>0.0</td>\n",
              "      <td>0.0</td>\n",
              "      <td>0.0</td>\n",
              "      <td>0.0</td>\n",
              "      <td>0.0</td>\n",
              "      <td>0.0</td>\n",
              "      <td>0.0</td>\n",
              "      <td>0.0</td>\n",
              "      <td>0.0</td>\n",
              "      <td>0.0</td>\n",
              "      <td>0.0</td>\n",
              "    </tr>\n",
              "    <tr>\n",
              "      <th>3</th>\n",
              "      <td>0.0</td>\n",
              "      <td>0.0</td>\n",
              "      <td>0.0</td>\n",
              "      <td>0.0</td>\n",
              "      <td>0.0</td>\n",
              "      <td>0.0</td>\n",
              "      <td>0.0</td>\n",
              "      <td>0.0</td>\n",
              "      <td>0.0</td>\n",
              "      <td>0.0</td>\n",
              "      <td>0.0</td>\n",
              "      <td>0.0</td>\n",
              "      <td>0.0</td>\n",
              "      <td>0.0</td>\n",
              "      <td>0.0</td>\n",
              "      <td>0.0</td>\n",
              "      <td>0.0</td>\n",
              "      <td>0.0</td>\n",
              "      <td>0.0</td>\n",
              "      <td>0.0</td>\n",
              "      <td>0.0</td>\n",
              "      <td>0.0</td>\n",
              "      <td>0.0</td>\n",
              "      <td>0.0</td>\n",
              "      <td>0.0</td>\n",
              "      <td>0.0</td>\n",
              "      <td>0.0</td>\n",
              "      <td>0.0</td>\n",
              "      <td>0.0</td>\n",
              "      <td>0.0</td>\n",
              "      <td>0.0</td>\n",
              "      <td>0.0</td>\n",
              "      <td>0.0</td>\n",
              "      <td>0.0</td>\n",
              "      <td>0.0</td>\n",
              "      <td>0.0</td>\n",
              "      <td>0.0</td>\n",
              "      <td>0.0</td>\n",
              "      <td>0.0</td>\n",
              "      <td>0.0</td>\n",
              "      <td>...</td>\n",
              "      <td>0.0</td>\n",
              "      <td>0.0</td>\n",
              "      <td>0.0</td>\n",
              "      <td>0.0</td>\n",
              "      <td>0.0</td>\n",
              "      <td>0.0</td>\n",
              "      <td>0.0</td>\n",
              "      <td>0.0</td>\n",
              "      <td>0.0</td>\n",
              "      <td>0.0</td>\n",
              "      <td>0.0</td>\n",
              "      <td>0.0</td>\n",
              "      <td>0.0</td>\n",
              "      <td>0.0</td>\n",
              "      <td>0.0</td>\n",
              "      <td>0.0</td>\n",
              "      <td>0.0</td>\n",
              "      <td>0.0</td>\n",
              "      <td>0.0</td>\n",
              "      <td>0.0</td>\n",
              "      <td>0.0</td>\n",
              "      <td>0.0</td>\n",
              "      <td>0.0</td>\n",
              "      <td>0.0</td>\n",
              "      <td>0.0</td>\n",
              "      <td>0.0</td>\n",
              "      <td>0.0</td>\n",
              "      <td>0.0</td>\n",
              "      <td>0.0</td>\n",
              "      <td>0.0</td>\n",
              "      <td>0.0</td>\n",
              "      <td>0.0</td>\n",
              "      <td>0.0</td>\n",
              "      <td>0.0</td>\n",
              "      <td>0.0</td>\n",
              "      <td>0.0</td>\n",
              "      <td>0.0</td>\n",
              "      <td>0.0</td>\n",
              "      <td>0.0</td>\n",
              "      <td>0.0</td>\n",
              "    </tr>\n",
              "    <tr>\n",
              "      <th>4</th>\n",
              "      <td>0.0</td>\n",
              "      <td>0.0</td>\n",
              "      <td>0.0</td>\n",
              "      <td>0.0</td>\n",
              "      <td>0.0</td>\n",
              "      <td>0.0</td>\n",
              "      <td>0.0</td>\n",
              "      <td>0.0</td>\n",
              "      <td>0.0</td>\n",
              "      <td>0.0</td>\n",
              "      <td>0.0</td>\n",
              "      <td>0.0</td>\n",
              "      <td>0.0</td>\n",
              "      <td>0.0</td>\n",
              "      <td>0.0</td>\n",
              "      <td>0.0</td>\n",
              "      <td>0.0</td>\n",
              "      <td>0.0</td>\n",
              "      <td>0.0</td>\n",
              "      <td>0.0</td>\n",
              "      <td>0.0</td>\n",
              "      <td>0.0</td>\n",
              "      <td>0.0</td>\n",
              "      <td>0.0</td>\n",
              "      <td>0.0</td>\n",
              "      <td>0.0</td>\n",
              "      <td>0.0</td>\n",
              "      <td>0.0</td>\n",
              "      <td>0.0</td>\n",
              "      <td>0.0</td>\n",
              "      <td>0.0</td>\n",
              "      <td>0.0</td>\n",
              "      <td>0.0</td>\n",
              "      <td>0.0</td>\n",
              "      <td>0.0</td>\n",
              "      <td>0.0</td>\n",
              "      <td>0.0</td>\n",
              "      <td>0.0</td>\n",
              "      <td>0.0</td>\n",
              "      <td>0.0</td>\n",
              "      <td>...</td>\n",
              "      <td>0.0</td>\n",
              "      <td>0.0</td>\n",
              "      <td>0.0</td>\n",
              "      <td>0.0</td>\n",
              "      <td>0.0</td>\n",
              "      <td>0.0</td>\n",
              "      <td>0.0</td>\n",
              "      <td>0.0</td>\n",
              "      <td>0.0</td>\n",
              "      <td>0.0</td>\n",
              "      <td>0.0</td>\n",
              "      <td>0.0</td>\n",
              "      <td>0.0</td>\n",
              "      <td>0.0</td>\n",
              "      <td>0.0</td>\n",
              "      <td>0.0</td>\n",
              "      <td>0.0</td>\n",
              "      <td>0.0</td>\n",
              "      <td>0.0</td>\n",
              "      <td>0.0</td>\n",
              "      <td>0.0</td>\n",
              "      <td>0.0</td>\n",
              "      <td>0.0</td>\n",
              "      <td>0.0</td>\n",
              "      <td>0.0</td>\n",
              "      <td>0.0</td>\n",
              "      <td>0.0</td>\n",
              "      <td>0.0</td>\n",
              "      <td>0.0</td>\n",
              "      <td>0.0</td>\n",
              "      <td>0.0</td>\n",
              "      <td>0.0</td>\n",
              "      <td>0.0</td>\n",
              "      <td>0.0</td>\n",
              "      <td>0.0</td>\n",
              "      <td>0.0</td>\n",
              "      <td>0.0</td>\n",
              "      <td>0.0</td>\n",
              "      <td>0.0</td>\n",
              "      <td>0.0</td>\n",
              "    </tr>\n",
              "  </tbody>\n",
              "</table>\n",
              "<p>5 rows × 25622 columns</p>\n",
              "</div>"
            ],
            "text/plain": [
              "   aacomtr  aacomtrdalam  aacomtrpbb  aaditya  ...  zurbuchen  zurich  zweli  zynga\n",
              "0      0.0           0.0         0.0      0.0  ...        0.0     0.0    0.0    0.0\n",
              "1      0.0           0.0         0.0      0.0  ...        0.0     0.0    0.0    0.0\n",
              "2      0.0           0.0         0.0      0.0  ...        0.0     0.0    0.0    0.0\n",
              "3      0.0           0.0         0.0      0.0  ...        0.0     0.0    0.0    0.0\n",
              "4      0.0           0.0         0.0      0.0  ...        0.0     0.0    0.0    0.0\n",
              "\n",
              "[5 rows x 25622 columns]"
            ]
          },
          "metadata": {
            "tags": []
          },
          "execution_count": 72
        }
      ]
    },
    {
      "cell_type": "code",
      "metadata": {
        "colab": {
          "base_uri": "https://localhost:8080/",
          "height": 197
        },
        "id": "waou28xFAZjw",
        "outputId": "8c2774c7-5211-450f-d60b-10fdf50ecc79"
      },
      "source": [
        "#dftext = pd.DataFrame(content_clean_fin)\n",
        "dftext = pd.DataFrame(content_clean2)\n",
        "dftext.head()"
      ],
      "execution_count": null,
      "outputs": [
        {
          "output_type": "execute_result",
          "data": {
            "text/html": [
              "<div>\n",
              "<style scoped>\n",
              "    .dataframe tbody tr th:only-of-type {\n",
              "        vertical-align: middle;\n",
              "    }\n",
              "\n",
              "    .dataframe tbody tr th {\n",
              "        vertical-align: top;\n",
              "    }\n",
              "\n",
              "    .dataframe thead th {\n",
              "        text-align: right;\n",
              "    }\n",
              "</style>\n",
              "<table border=\"1\" class=\"dataframe\">\n",
              "  <thead>\n",
              "    <tr style=\"text-align: right;\">\n",
              "      <th></th>\n",
              "      <th>content</th>\n",
              "    </tr>\n",
              "  </thead>\n",
              "  <tbody>\n",
              "    <tr>\n",
              "      <th>0</th>\n",
              "      <td>gilead sciences inc publikasi hasil uji baru g...</td>\n",
              "    </tr>\n",
              "    <tr>\n",
              "      <th>1</th>\n",
              "      <td>wali kota peru purapura korban tinggal covid b...</td>\n",
              "    </tr>\n",
              "    <tr>\n",
              "      <th>2</th>\n",
              "      <td>menteri komunikasi informatika kominfo guna ti...</td>\n",
              "    </tr>\n",
              "    <tr>\n",
              "      <th>3</th>\n",
              "      <td>plt gubernur pulau riau kepri isdianto daerah ...</td>\n",
              "    </tr>\n",
              "    <tr>\n",
              "      <th>4</th>\n",
              "      <td>menteri dagang mendag agus suparmanto buka mal...</td>\n",
              "    </tr>\n",
              "  </tbody>\n",
              "</table>\n",
              "</div>"
            ],
            "text/plain": [
              "                                             content\n",
              "0  gilead sciences inc publikasi hasil uji baru g...\n",
              "1  wali kota peru purapura korban tinggal covid b...\n",
              "2  menteri komunikasi informatika kominfo guna ti...\n",
              "3  plt gubernur pulau riau kepri isdianto daerah ...\n",
              "4  menteri dagang mendag agus suparmanto buka mal..."
            ]
          },
          "metadata": {
            "tags": []
          },
          "execution_count": 73
        }
      ]
    },
    {
      "cell_type": "code",
      "metadata": {
        "id": "9GHYV7zX6DoZ"
      },
      "source": [
        "from sklearn.feature_extraction.text import CountVectorizer\n",
        "\n",
        "# untuk 2 kata\n",
        "vectorizer2 = CountVectorizer(ngram_range =(2,2), min_df = 1)\n",
        "doc_matrixn2 = vectorizer2.fit_transform(dftext.apply(lambda x: np.str_(x)))\n",
        "# untuk 3 kata\n",
        "vectorizer3 = CountVectorizer(ngram_range =(3,3), min_df = 1)\n",
        "doc_matrixn3 = vectorizer3.fit_transform(dftext.apply(lambda x: np.str_(x)))\n",
        "\n",
        "doc_matrixn2 = doc_matrixn2.toarray()\n",
        "doc_matrixn3 = doc_matrixn3.toarray()"
      ],
      "execution_count": null,
      "outputs": []
    },
    {
      "cell_type": "code",
      "metadata": {
        "colab": {
          "background_save": true
        },
        "id": "1C6vHfngNARx"
      },
      "source": [
        "from sklearn.feature_extraction.text import CountVectorizer\n",
        "\n",
        "# untuk 2 kata\n",
        "vectorizer2 = CountVectorizer(ngram_range =(2,2), min_df = 1)\n",
        "doc_matrixn2 = vectorizer2.fit_transform(dfngram.apply(lambda x: np.str_(x)))\n",
        "# untuk 3 kata\n",
        "vectorizer3 = CountVectorizer(ngram_range =(3,3), min_df = 1)\n",
        "doc_matrixn3 = vectorizer3.fit_transform(dfngram.apply(lambda x: np.str_(x)))\n",
        "\n",
        "doc_matrixn2 = doc_matrixn2.toarray()\n",
        "doc_matrixn3 = doc_matrixn3.toarray()"
      ],
      "execution_count": null,
      "outputs": []
    },
    {
      "cell_type": "code",
      "metadata": {
        "colab": {
          "base_uri": "https://localhost:8080/",
          "height": 208
        },
        "id": "xoXZmMEi-rwc",
        "outputId": "ea366ec8-3445-4065-9fd9-fc6575ac51fc"
      },
      "source": [
        "# 2 kata\n",
        "doc_dfn2 = pd.DataFrame(data = doc_matrixn2)\n",
        "doc_dfn2.columns = vectorizer2.get_feature_names()\n",
        "display(doc_dfn2.head())\n",
        "\n",
        "# 3 kata\n",
        "doc_dfn3 = pd.DataFrame(data = doc_matrixn3)\n",
        "doc_dfn3.columns = vectorizer3.get_feature_names()\n",
        "display(doc_dfn3.head())"
      ],
      "execution_count": null,
      "outputs": [
        {
          "output_type": "display_data",
          "data": {
            "text/html": [
              "<div>\n",
              "<style scoped>\n",
              "    .dataframe tbody tr th:only-of-type {\n",
              "        vertical-align: middle;\n",
              "    }\n",
              "\n",
              "    .dataframe tbody tr th {\n",
              "        vertical-align: top;\n",
              "    }\n",
              "\n",
              "    .dataframe thead th {\n",
              "        text-align: right;\n",
              "    }\n",
              "</style>\n",
              "<table border=\"1\" class=\"dataframe\">\n",
              "  <thead>\n",
              "    <tr style=\"text-align: right;\">\n",
              "      <th></th>\n",
              "      <th>13401 dinas</th>\n",
              "      <th>13402 antisipasi</th>\n",
              "      <th>13403 gedung</th>\n",
              "      <th>13404 malaysia</th>\n",
              "      <th>13405 cina</th>\n",
              "      <th>13406 dtype</th>\n",
              "      <th>agus suparmanto</th>\n",
              "      <th>ahli cegah</th>\n",
              "      <th>ahmad 13405</th>\n",
              "      <th>antisipasi sebar</th>\n",
              "      <th>baru wali</th>\n",
              "      <th>bendung hilir</th>\n",
              "      <th>bentuk tim</th>\n",
              "      <th>bri ii</th>\n",
              "      <th>buka mal</th>\n",
              "      <th>cegah kend</th>\n",
              "      <th>cina bentuk</th>\n",
              "      <th>content length</th>\n",
              "      <th>covid menteri</th>\n",
              "      <th>daerah menteri</th>\n",
              "      <th>dagang mendag</th>\n",
              "      <th>dinas sehat</th>\n",
              "      <th>dinkes dki</th>\n",
              "      <th>dki jakarta</th>\n",
              "      <th>dtype object</th>\n",
              "      <th>gedung bri</th>\n",
              "      <th>gilead sciences</th>\n",
              "      <th>gubernur pulau</th>\n",
              "      <th>guna ti</th>\n",
              "      <th>hasil uji</th>\n",
              "      <th>hilir jakarta</th>\n",
              "      <th>ii kawasan</th>\n",
              "      <th>imbau 13403</th>\n",
              "      <th>inc publikasi</th>\n",
              "      <th>informatika kominfo</th>\n",
              "      <th>isdianto daerah</th>\n",
              "      <th>jakarta imbau</th>\n",
              "      <th>jakarta obat</th>\n",
              "      <th>jakarta pu</th>\n",
              "      <th>kawasan bendung</th>\n",
              "      <th>kend name</th>\n",
              "      <th>kepri isdianto</th>\n",
              "      <th>khusus vak</th>\n",
              "      <th>kominfo guna</th>\n",
              "      <th>komunikasi informatika</th>\n",
              "      <th>konfirmasi sehat</th>\n",
              "      <th>korban tinggal</th>\n",
              "      <th>kota peru</th>\n",
              "      <th>length 13406</th>\n",
              "      <th>mal 13401</th>\n",
              "      <th>malaysia ahmad</th>\n",
              "      <th>malaysia konfirmasi</th>\n",
              "      <th>mendag agus</th>\n",
              "      <th>menteri dagang</th>\n",
              "      <th>menteri komunikasi</th>\n",
              "      <th>name content</th>\n",
              "      <th>nasional ahli</th>\n",
              "      <th>obat khusus</th>\n",
              "      <th>peru purapura</th>\n",
              "      <th>plt gubernur</th>\n",
              "      <th>pu 13404</th>\n",
              "      <th>publikasi hasil</th>\n",
              "      <th>pulau riau</th>\n",
              "      <th>purapura korban</th>\n",
              "      <th>riau kepri</th>\n",
              "      <th>riset nasional</th>\n",
              "      <th>sciences inc</th>\n",
              "      <th>sebar dinas</th>\n",
              "      <th>sehat dinkes</th>\n",
              "      <th>sehat dki</th>\n",
              "      <th>sehat malaysia</th>\n",
              "      <th>suparmanto buka</th>\n",
              "      <th>ti plt</th>\n",
              "      <th>tim riset</th>\n",
              "      <th>tinggal covid</th>\n",
              "      <th>uji baru</th>\n",
              "      <th>vak 13402</th>\n",
              "      <th>wali kota</th>\n",
              "    </tr>\n",
              "  </thead>\n",
              "  <tbody>\n",
              "    <tr>\n",
              "      <th>0</th>\n",
              "      <td>1</td>\n",
              "      <td>1</td>\n",
              "      <td>1</td>\n",
              "      <td>1</td>\n",
              "      <td>1</td>\n",
              "      <td>1</td>\n",
              "      <td>1</td>\n",
              "      <td>1</td>\n",
              "      <td>1</td>\n",
              "      <td>1</td>\n",
              "      <td>1</td>\n",
              "      <td>1</td>\n",
              "      <td>1</td>\n",
              "      <td>1</td>\n",
              "      <td>1</td>\n",
              "      <td>1</td>\n",
              "      <td>1</td>\n",
              "      <td>1</td>\n",
              "      <td>1</td>\n",
              "      <td>1</td>\n",
              "      <td>1</td>\n",
              "      <td>2</td>\n",
              "      <td>1</td>\n",
              "      <td>2</td>\n",
              "      <td>1</td>\n",
              "      <td>1</td>\n",
              "      <td>1</td>\n",
              "      <td>1</td>\n",
              "      <td>1</td>\n",
              "      <td>1</td>\n",
              "      <td>1</td>\n",
              "      <td>1</td>\n",
              "      <td>1</td>\n",
              "      <td>1</td>\n",
              "      <td>1</td>\n",
              "      <td>1</td>\n",
              "      <td>1</td>\n",
              "      <td>1</td>\n",
              "      <td>1</td>\n",
              "      <td>1</td>\n",
              "      <td>1</td>\n",
              "      <td>1</td>\n",
              "      <td>1</td>\n",
              "      <td>1</td>\n",
              "      <td>1</td>\n",
              "      <td>1</td>\n",
              "      <td>1</td>\n",
              "      <td>1</td>\n",
              "      <td>1</td>\n",
              "      <td>1</td>\n",
              "      <td>1</td>\n",
              "      <td>1</td>\n",
              "      <td>1</td>\n",
              "      <td>1</td>\n",
              "      <td>1</td>\n",
              "      <td>1</td>\n",
              "      <td>1</td>\n",
              "      <td>1</td>\n",
              "      <td>1</td>\n",
              "      <td>1</td>\n",
              "      <td>1</td>\n",
              "      <td>1</td>\n",
              "      <td>1</td>\n",
              "      <td>1</td>\n",
              "      <td>1</td>\n",
              "      <td>1</td>\n",
              "      <td>1</td>\n",
              "      <td>1</td>\n",
              "      <td>1</td>\n",
              "      <td>1</td>\n",
              "      <td>1</td>\n",
              "      <td>1</td>\n",
              "      <td>1</td>\n",
              "      <td>1</td>\n",
              "      <td>1</td>\n",
              "      <td>1</td>\n",
              "      <td>1</td>\n",
              "      <td>1</td>\n",
              "    </tr>\n",
              "  </tbody>\n",
              "</table>\n",
              "</div>"
            ],
            "text/plain": [
              "   13401 dinas  13402 antisipasi  13403 gedung  ...  uji baru  vak 13402  wali kota\n",
              "0            1                 1             1  ...         1          1          1\n",
              "\n",
              "[1 rows x 78 columns]"
            ]
          },
          "metadata": {
            "tags": []
          }
        },
        {
          "output_type": "display_data",
          "data": {
            "text/html": [
              "<div>\n",
              "<style scoped>\n",
              "    .dataframe tbody tr th:only-of-type {\n",
              "        vertical-align: middle;\n",
              "    }\n",
              "\n",
              "    .dataframe tbody tr th {\n",
              "        vertical-align: top;\n",
              "    }\n",
              "\n",
              "    .dataframe thead th {\n",
              "        text-align: right;\n",
              "    }\n",
              "</style>\n",
              "<table border=\"1\" class=\"dataframe\">\n",
              "  <thead>\n",
              "    <tr style=\"text-align: right;\">\n",
              "      <th></th>\n",
              "      <th>13401 dinas sehat</th>\n",
              "      <th>13402 antisipasi sebar</th>\n",
              "      <th>13403 gedung bri</th>\n",
              "      <th>13404 malaysia konfirmasi</th>\n",
              "      <th>13405 cina bentuk</th>\n",
              "      <th>13406 dtype object</th>\n",
              "      <th>agus suparmanto buka</th>\n",
              "      <th>ahli cegah kend</th>\n",
              "      <th>ahmad 13405 cina</th>\n",
              "      <th>antisipasi sebar dinas</th>\n",
              "      <th>baru wali kota</th>\n",
              "      <th>bendung hilir jakarta</th>\n",
              "      <th>bentuk tim riset</th>\n",
              "      <th>bri ii kawasan</th>\n",
              "      <th>buka mal 13401</th>\n",
              "      <th>cegah kend name</th>\n",
              "      <th>cina bentuk tim</th>\n",
              "      <th>content length 13406</th>\n",
              "      <th>covid menteri komunikasi</th>\n",
              "      <th>daerah menteri dagang</th>\n",
              "      <th>dagang mendag agus</th>\n",
              "      <th>dinas sehat dinkes</th>\n",
              "      <th>dinas sehat dki</th>\n",
              "      <th>dinkes dki jakarta</th>\n",
              "      <th>dki jakarta imbau</th>\n",
              "      <th>dki jakarta obat</th>\n",
              "      <th>gedung bri ii</th>\n",
              "      <th>gilead sciences inc</th>\n",
              "      <th>gubernur pulau riau</th>\n",
              "      <th>guna ti plt</th>\n",
              "      <th>hasil uji baru</th>\n",
              "      <th>hilir jakarta pu</th>\n",
              "      <th>ii kawasan bendung</th>\n",
              "      <th>imbau 13403 gedung</th>\n",
              "      <th>inc publikasi hasil</th>\n",
              "      <th>informatika kominfo guna</th>\n",
              "      <th>isdianto daerah menteri</th>\n",
              "      <th>jakarta imbau 13403</th>\n",
              "      <th>jakarta obat khusus</th>\n",
              "      <th>jakarta pu 13404</th>\n",
              "      <th>kawasan bendung hilir</th>\n",
              "      <th>kend name content</th>\n",
              "      <th>kepri isdianto daerah</th>\n",
              "      <th>khusus vak 13402</th>\n",
              "      <th>kominfo guna ti</th>\n",
              "      <th>komunikasi informatika kominfo</th>\n",
              "      <th>konfirmasi sehat malaysia</th>\n",
              "      <th>korban tinggal covid</th>\n",
              "      <th>kota peru purapura</th>\n",
              "      <th>length 13406 dtype</th>\n",
              "      <th>mal 13401 dinas</th>\n",
              "      <th>malaysia ahmad 13405</th>\n",
              "      <th>malaysia konfirmasi sehat</th>\n",
              "      <th>mendag agus suparmanto</th>\n",
              "      <th>menteri dagang mendag</th>\n",
              "      <th>menteri komunikasi informatika</th>\n",
              "      <th>name content length</th>\n",
              "      <th>nasional ahli cegah</th>\n",
              "      <th>obat khusus vak</th>\n",
              "      <th>peru purapura korban</th>\n",
              "      <th>plt gubernur pulau</th>\n",
              "      <th>pu 13404 malaysia</th>\n",
              "      <th>publikasi hasil uji</th>\n",
              "      <th>pulau riau kepri</th>\n",
              "      <th>purapura korban tinggal</th>\n",
              "      <th>riau kepri isdianto</th>\n",
              "      <th>riset nasional ahli</th>\n",
              "      <th>sciences inc publikasi</th>\n",
              "      <th>sebar dinas sehat</th>\n",
              "      <th>sehat dinkes dki</th>\n",
              "      <th>sehat dki jakarta</th>\n",
              "      <th>sehat malaysia ahmad</th>\n",
              "      <th>suparmanto buka mal</th>\n",
              "      <th>ti plt gubernur</th>\n",
              "      <th>tim riset nasional</th>\n",
              "      <th>tinggal covid menteri</th>\n",
              "      <th>uji baru wali</th>\n",
              "      <th>vak 13402 antisipasi</th>\n",
              "      <th>wali kota peru</th>\n",
              "    </tr>\n",
              "  </thead>\n",
              "  <tbody>\n",
              "    <tr>\n",
              "      <th>0</th>\n",
              "      <td>1</td>\n",
              "      <td>1</td>\n",
              "      <td>1</td>\n",
              "      <td>1</td>\n",
              "      <td>1</td>\n",
              "      <td>1</td>\n",
              "      <td>1</td>\n",
              "      <td>1</td>\n",
              "      <td>1</td>\n",
              "      <td>1</td>\n",
              "      <td>1</td>\n",
              "      <td>1</td>\n",
              "      <td>1</td>\n",
              "      <td>1</td>\n",
              "      <td>1</td>\n",
              "      <td>1</td>\n",
              "      <td>1</td>\n",
              "      <td>1</td>\n",
              "      <td>1</td>\n",
              "      <td>1</td>\n",
              "      <td>1</td>\n",
              "      <td>1</td>\n",
              "      <td>1</td>\n",
              "      <td>1</td>\n",
              "      <td>1</td>\n",
              "      <td>1</td>\n",
              "      <td>1</td>\n",
              "      <td>1</td>\n",
              "      <td>1</td>\n",
              "      <td>1</td>\n",
              "      <td>1</td>\n",
              "      <td>1</td>\n",
              "      <td>1</td>\n",
              "      <td>1</td>\n",
              "      <td>1</td>\n",
              "      <td>1</td>\n",
              "      <td>1</td>\n",
              "      <td>1</td>\n",
              "      <td>1</td>\n",
              "      <td>1</td>\n",
              "      <td>1</td>\n",
              "      <td>1</td>\n",
              "      <td>1</td>\n",
              "      <td>1</td>\n",
              "      <td>1</td>\n",
              "      <td>1</td>\n",
              "      <td>1</td>\n",
              "      <td>1</td>\n",
              "      <td>1</td>\n",
              "      <td>1</td>\n",
              "      <td>1</td>\n",
              "      <td>1</td>\n",
              "      <td>1</td>\n",
              "      <td>1</td>\n",
              "      <td>1</td>\n",
              "      <td>1</td>\n",
              "      <td>1</td>\n",
              "      <td>1</td>\n",
              "      <td>1</td>\n",
              "      <td>1</td>\n",
              "      <td>1</td>\n",
              "      <td>1</td>\n",
              "      <td>1</td>\n",
              "      <td>1</td>\n",
              "      <td>1</td>\n",
              "      <td>1</td>\n",
              "      <td>1</td>\n",
              "      <td>1</td>\n",
              "      <td>1</td>\n",
              "      <td>1</td>\n",
              "      <td>1</td>\n",
              "      <td>1</td>\n",
              "      <td>1</td>\n",
              "      <td>1</td>\n",
              "      <td>1</td>\n",
              "      <td>1</td>\n",
              "      <td>1</td>\n",
              "      <td>1</td>\n",
              "      <td>1</td>\n",
              "    </tr>\n",
              "  </tbody>\n",
              "</table>\n",
              "</div>"
            ],
            "text/plain": [
              "   13401 dinas sehat  ...  wali kota peru\n",
              "0                  1  ...               1\n",
              "\n",
              "[1 rows x 79 columns]"
            ]
          },
          "metadata": {
            "tags": []
          }
        }
      ]
    },
    {
      "cell_type": "code",
      "metadata": {
        "colab": {
          "base_uri": "https://localhost:8080/"
        },
        "id": "9_0zfXdCL0dh",
        "outputId": "6b0e7786-550a-4916-db4a-c504c4d29277"
      },
      "source": [
        "# 2 kata\n",
        "doc_dfn2.loc['Total',:] = doc_dfn2.sum(axis=0)\n",
        "doc_dfn2.loc['Total'].head()\n",
        "\n",
        "# 3 kata\n",
        "doc_dfn3.loc['Total',:] = doc_dfn3.sum(axis=0)\n",
        "doc_dfn3.loc['Total'].head()"
      ],
      "execution_count": null,
      "outputs": [
        {
          "output_type": "execute_result",
          "data": {
            "text/plain": [
              "13401 dinas sehat            1.0\n",
              "13402 antisipasi sebar       1.0\n",
              "13403 gedung bri             1.0\n",
              "13404 malaysia konfirmasi    1.0\n",
              "13405 cina bentuk            1.0\n",
              "Name: Total, dtype: float64"
            ]
          },
          "metadata": {
            "tags": []
          },
          "execution_count": 78
        }
      ]
    },
    {
      "cell_type": "code",
      "metadata": {
        "colab": {
          "base_uri": "https://localhost:8080/",
          "height": 161
        },
        "id": "P-RPiHViL5bV",
        "outputId": "5fbecf4e-bfc9-450b-d69e-d188dbc40861"
      },
      "source": [
        "# 2 kata\n",
        "doc_dfn2.iloc[:, np.argsort(doc_dfn2.loc['Total'])]\n",
        " \n",
        "# 3 kata\n",
        "doc_dfn3.iloc[:, np.argsort(doc_dfn3.loc['Total'])]"
      ],
      "execution_count": null,
      "outputs": [
        {
          "output_type": "execute_result",
          "data": {
            "text/html": [
              "<div>\n",
              "<style scoped>\n",
              "    .dataframe tbody tr th:only-of-type {\n",
              "        vertical-align: middle;\n",
              "    }\n",
              "\n",
              "    .dataframe tbody tr th {\n",
              "        vertical-align: top;\n",
              "    }\n",
              "\n",
              "    .dataframe thead th {\n",
              "        text-align: right;\n",
              "    }\n",
              "</style>\n",
              "<table border=\"1\" class=\"dataframe\">\n",
              "  <thead>\n",
              "    <tr style=\"text-align: right;\">\n",
              "      <th></th>\n",
              "      <th>13401 dinas sehat</th>\n",
              "      <th>name content length</th>\n",
              "      <th>menteri komunikasi informatika</th>\n",
              "      <th>menteri dagang mendag</th>\n",
              "      <th>mendag agus suparmanto</th>\n",
              "      <th>malaysia konfirmasi sehat</th>\n",
              "      <th>malaysia ahmad 13405</th>\n",
              "      <th>mal 13401 dinas</th>\n",
              "      <th>nasional ahli cegah</th>\n",
              "      <th>length 13406 dtype</th>\n",
              "      <th>korban tinggal covid</th>\n",
              "      <th>konfirmasi sehat malaysia</th>\n",
              "      <th>komunikasi informatika kominfo</th>\n",
              "      <th>kominfo guna ti</th>\n",
              "      <th>khusus vak 13402</th>\n",
              "      <th>kepri isdianto daerah</th>\n",
              "      <th>kend name content</th>\n",
              "      <th>kota peru purapura</th>\n",
              "      <th>kawasan bendung hilir</th>\n",
              "      <th>obat khusus vak</th>\n",
              "      <th>plt gubernur pulau</th>\n",
              "      <th>uji baru wali</th>\n",
              "      <th>tinggal covid menteri</th>\n",
              "      <th>tim riset nasional</th>\n",
              "      <th>ti plt gubernur</th>\n",
              "      <th>suparmanto buka mal</th>\n",
              "      <th>sehat malaysia ahmad</th>\n",
              "      <th>sehat dki jakarta</th>\n",
              "      <th>peru purapura korban</th>\n",
              "      <th>sehat dinkes dki</th>\n",
              "      <th>sciences inc publikasi</th>\n",
              "      <th>riset nasional ahli</th>\n",
              "      <th>riau kepri isdianto</th>\n",
              "      <th>purapura korban tinggal</th>\n",
              "      <th>pulau riau kepri</th>\n",
              "      <th>publikasi hasil uji</th>\n",
              "      <th>pu 13404 malaysia</th>\n",
              "      <th>sebar dinas sehat</th>\n",
              "      <th>vak 13402 antisipasi</th>\n",
              "      <th>jakarta pu 13404</th>\n",
              "      <th>jakarta imbau 13403</th>\n",
              "      <th>cina bentuk tim</th>\n",
              "      <th>cegah kend name</th>\n",
              "      <th>buka mal 13401</th>\n",
              "      <th>bri ii kawasan</th>\n",
              "      <th>bentuk tim riset</th>\n",
              "      <th>bendung hilir jakarta</th>\n",
              "      <th>baru wali kota</th>\n",
              "      <th>content length 13406</th>\n",
              "      <th>antisipasi sebar dinas</th>\n",
              "      <th>ahli cegah kend</th>\n",
              "      <th>agus suparmanto buka</th>\n",
              "      <th>13406 dtype object</th>\n",
              "      <th>13405 cina bentuk</th>\n",
              "      <th>13404 malaysia konfirmasi</th>\n",
              "      <th>13403 gedung bri</th>\n",
              "      <th>13402 antisipasi sebar</th>\n",
              "      <th>ahmad 13405 cina</th>\n",
              "      <th>jakarta obat khusus</th>\n",
              "      <th>covid menteri komunikasi</th>\n",
              "      <th>dagang mendag agus</th>\n",
              "      <th>isdianto daerah menteri</th>\n",
              "      <th>informatika kominfo guna</th>\n",
              "      <th>inc publikasi hasil</th>\n",
              "      <th>imbau 13403 gedung</th>\n",
              "      <th>ii kawasan bendung</th>\n",
              "      <th>hilir jakarta pu</th>\n",
              "      <th>hasil uji baru</th>\n",
              "      <th>daerah menteri dagang</th>\n",
              "      <th>guna ti plt</th>\n",
              "      <th>gilead sciences inc</th>\n",
              "      <th>gedung bri ii</th>\n",
              "      <th>dki jakarta obat</th>\n",
              "      <th>dki jakarta imbau</th>\n",
              "      <th>dinkes dki jakarta</th>\n",
              "      <th>dinas sehat dki</th>\n",
              "      <th>dinas sehat dinkes</th>\n",
              "      <th>gubernur pulau riau</th>\n",
              "      <th>wali kota peru</th>\n",
              "    </tr>\n",
              "  </thead>\n",
              "  <tbody>\n",
              "    <tr>\n",
              "      <th>0</th>\n",
              "      <td>1.0</td>\n",
              "      <td>1.0</td>\n",
              "      <td>1.0</td>\n",
              "      <td>1.0</td>\n",
              "      <td>1.0</td>\n",
              "      <td>1.0</td>\n",
              "      <td>1.0</td>\n",
              "      <td>1.0</td>\n",
              "      <td>1.0</td>\n",
              "      <td>1.0</td>\n",
              "      <td>1.0</td>\n",
              "      <td>1.0</td>\n",
              "      <td>1.0</td>\n",
              "      <td>1.0</td>\n",
              "      <td>1.0</td>\n",
              "      <td>1.0</td>\n",
              "      <td>1.0</td>\n",
              "      <td>1.0</td>\n",
              "      <td>1.0</td>\n",
              "      <td>1.0</td>\n",
              "      <td>1.0</td>\n",
              "      <td>1.0</td>\n",
              "      <td>1.0</td>\n",
              "      <td>1.0</td>\n",
              "      <td>1.0</td>\n",
              "      <td>1.0</td>\n",
              "      <td>1.0</td>\n",
              "      <td>1.0</td>\n",
              "      <td>1.0</td>\n",
              "      <td>1.0</td>\n",
              "      <td>1.0</td>\n",
              "      <td>1.0</td>\n",
              "      <td>1.0</td>\n",
              "      <td>1.0</td>\n",
              "      <td>1.0</td>\n",
              "      <td>1.0</td>\n",
              "      <td>1.0</td>\n",
              "      <td>1.0</td>\n",
              "      <td>1.0</td>\n",
              "      <td>1.0</td>\n",
              "      <td>1.0</td>\n",
              "      <td>1.0</td>\n",
              "      <td>1.0</td>\n",
              "      <td>1.0</td>\n",
              "      <td>1.0</td>\n",
              "      <td>1.0</td>\n",
              "      <td>1.0</td>\n",
              "      <td>1.0</td>\n",
              "      <td>1.0</td>\n",
              "      <td>1.0</td>\n",
              "      <td>1.0</td>\n",
              "      <td>1.0</td>\n",
              "      <td>1.0</td>\n",
              "      <td>1.0</td>\n",
              "      <td>1.0</td>\n",
              "      <td>1.0</td>\n",
              "      <td>1.0</td>\n",
              "      <td>1.0</td>\n",
              "      <td>1.0</td>\n",
              "      <td>1.0</td>\n",
              "      <td>1.0</td>\n",
              "      <td>1.0</td>\n",
              "      <td>1.0</td>\n",
              "      <td>1.0</td>\n",
              "      <td>1.0</td>\n",
              "      <td>1.0</td>\n",
              "      <td>1.0</td>\n",
              "      <td>1.0</td>\n",
              "      <td>1.0</td>\n",
              "      <td>1.0</td>\n",
              "      <td>1.0</td>\n",
              "      <td>1.0</td>\n",
              "      <td>1.0</td>\n",
              "      <td>1.0</td>\n",
              "      <td>1.0</td>\n",
              "      <td>1.0</td>\n",
              "      <td>1.0</td>\n",
              "      <td>1.0</td>\n",
              "      <td>1.0</td>\n",
              "    </tr>\n",
              "    <tr>\n",
              "      <th>Total</th>\n",
              "      <td>1.0</td>\n",
              "      <td>1.0</td>\n",
              "      <td>1.0</td>\n",
              "      <td>1.0</td>\n",
              "      <td>1.0</td>\n",
              "      <td>1.0</td>\n",
              "      <td>1.0</td>\n",
              "      <td>1.0</td>\n",
              "      <td>1.0</td>\n",
              "      <td>1.0</td>\n",
              "      <td>1.0</td>\n",
              "      <td>1.0</td>\n",
              "      <td>1.0</td>\n",
              "      <td>1.0</td>\n",
              "      <td>1.0</td>\n",
              "      <td>1.0</td>\n",
              "      <td>1.0</td>\n",
              "      <td>1.0</td>\n",
              "      <td>1.0</td>\n",
              "      <td>1.0</td>\n",
              "      <td>1.0</td>\n",
              "      <td>1.0</td>\n",
              "      <td>1.0</td>\n",
              "      <td>1.0</td>\n",
              "      <td>1.0</td>\n",
              "      <td>1.0</td>\n",
              "      <td>1.0</td>\n",
              "      <td>1.0</td>\n",
              "      <td>1.0</td>\n",
              "      <td>1.0</td>\n",
              "      <td>1.0</td>\n",
              "      <td>1.0</td>\n",
              "      <td>1.0</td>\n",
              "      <td>1.0</td>\n",
              "      <td>1.0</td>\n",
              "      <td>1.0</td>\n",
              "      <td>1.0</td>\n",
              "      <td>1.0</td>\n",
              "      <td>1.0</td>\n",
              "      <td>1.0</td>\n",
              "      <td>1.0</td>\n",
              "      <td>1.0</td>\n",
              "      <td>1.0</td>\n",
              "      <td>1.0</td>\n",
              "      <td>1.0</td>\n",
              "      <td>1.0</td>\n",
              "      <td>1.0</td>\n",
              "      <td>1.0</td>\n",
              "      <td>1.0</td>\n",
              "      <td>1.0</td>\n",
              "      <td>1.0</td>\n",
              "      <td>1.0</td>\n",
              "      <td>1.0</td>\n",
              "      <td>1.0</td>\n",
              "      <td>1.0</td>\n",
              "      <td>1.0</td>\n",
              "      <td>1.0</td>\n",
              "      <td>1.0</td>\n",
              "      <td>1.0</td>\n",
              "      <td>1.0</td>\n",
              "      <td>1.0</td>\n",
              "      <td>1.0</td>\n",
              "      <td>1.0</td>\n",
              "      <td>1.0</td>\n",
              "      <td>1.0</td>\n",
              "      <td>1.0</td>\n",
              "      <td>1.0</td>\n",
              "      <td>1.0</td>\n",
              "      <td>1.0</td>\n",
              "      <td>1.0</td>\n",
              "      <td>1.0</td>\n",
              "      <td>1.0</td>\n",
              "      <td>1.0</td>\n",
              "      <td>1.0</td>\n",
              "      <td>1.0</td>\n",
              "      <td>1.0</td>\n",
              "      <td>1.0</td>\n",
              "      <td>1.0</td>\n",
              "      <td>1.0</td>\n",
              "    </tr>\n",
              "  </tbody>\n",
              "</table>\n",
              "</div>"
            ],
            "text/plain": [
              "       13401 dinas sehat  ...  wali kota peru\n",
              "0                    1.0  ...             1.0\n",
              "Total                1.0  ...             1.0\n",
              "\n",
              "[2 rows x 79 columns]"
            ]
          },
          "metadata": {
            "tags": []
          },
          "execution_count": 79
        }
      ]
    },
    {
      "cell_type": "code",
      "metadata": {
        "colab": {
          "base_uri": "https://localhost:8080/"
        },
        "id": "r5-rrzKHL9sp",
        "outputId": "80e23339-8fec-4bfb-839f-31f160bb7312"
      },
      "source": [
        "ngram2 = doc_dfn2.loc['Total'].sort_values(ascending = False)\n",
        "ngram2[:20]"
      ],
      "execution_count": null,
      "outputs": [
        {
          "output_type": "execute_result",
          "data": {
            "text/plain": [
              "dinas sehat            2.0\n",
              "dki jakarta            2.0\n",
              "wali kota              1.0\n",
              "guna ti                1.0\n",
              "dinkes dki             1.0\n",
              "dtype object           1.0\n",
              "gedung bri             1.0\n",
              "gilead sciences        1.0\n",
              "gubernur pulau         1.0\n",
              "hasil uji              1.0\n",
              "daerah menteri         1.0\n",
              "hilir jakarta          1.0\n",
              "ii kawasan             1.0\n",
              "imbau 13403            1.0\n",
              "inc publikasi          1.0\n",
              "informatika kominfo    1.0\n",
              "isdianto daerah        1.0\n",
              "jakarta imbau          1.0\n",
              "dagang mendag          1.0\n",
              "covid menteri          1.0\n",
              "Name: Total, dtype: float64"
            ]
          },
          "metadata": {
            "tags": []
          },
          "execution_count": 80
        }
      ]
    },
    {
      "cell_type": "code",
      "metadata": {
        "colab": {
          "base_uri": "https://localhost:8080/"
        },
        "id": "SZx6aWGaME_I",
        "outputId": "c52ab00e-7fe7-4bba-ccff-5feb0f44b899"
      },
      "source": [
        "ngram3 = doc_dfn3.loc['Total'].sort_values(ascending = False)\n",
        "ngram3[:20]"
      ],
      "execution_count": null,
      "outputs": [
        {
          "output_type": "execute_result",
          "data": {
            "text/plain": [
              "wali kota peru              1.0\n",
              "gubernur pulau riau         1.0\n",
              "dinas sehat dinkes          1.0\n",
              "dinas sehat dki             1.0\n",
              "dinkes dki jakarta          1.0\n",
              "dki jakarta imbau           1.0\n",
              "dki jakarta obat            1.0\n",
              "gedung bri ii               1.0\n",
              "gilead sciences inc         1.0\n",
              "guna ti plt                 1.0\n",
              "daerah menteri dagang       1.0\n",
              "hasil uji baru              1.0\n",
              "hilir jakarta pu            1.0\n",
              "ii kawasan bendung          1.0\n",
              "imbau 13403 gedung          1.0\n",
              "inc publikasi hasil         1.0\n",
              "informatika kominfo guna    1.0\n",
              "isdianto daerah menteri     1.0\n",
              "dagang mendag agus          1.0\n",
              "covid menteri komunikasi    1.0\n",
              "Name: Total, dtype: float64"
            ]
          },
          "metadata": {
            "tags": []
          },
          "execution_count": 81
        }
      ]
    },
    {
      "cell_type": "markdown",
      "metadata": {
        "id": "udgDQzDVInvD"
      },
      "source": [
        "## **K-Means**"
      ]
    },
    {
      "cell_type": "markdown",
      "metadata": {
        "id": "fbUPBJqbIxSc"
      },
      "source": [
        "**Memilih Jumlah Cluster Optimum dengan `MiniBatchKMeans`**"
      ]
    },
    {
      "cell_type": "code",
      "metadata": {
        "id": "TDUHyi6AHisP"
      },
      "source": [
        "from sklearn.cluster import MiniBatchKMeans\n",
        "kmeans = MiniBatchKMeans()"
      ],
      "execution_count": null,
      "outputs": []
    },
    {
      "cell_type": "code",
      "metadata": {
        "colab": {
          "base_uri": "https://localhost:8080/"
        },
        "id": "ZPHIHoYwk-vm",
        "outputId": "1a52f97b-9396-4db2-e5d6-60790b6daa6a"
      },
      "source": [
        "!pip install yellowbrick"
      ],
      "execution_count": null,
      "outputs": [
        {
          "output_type": "stream",
          "text": [
            "Requirement already satisfied: yellowbrick in /usr/local/lib/python3.7/dist-packages (0.9.1)\n",
            "Requirement already satisfied: numpy>=1.13.0 in /usr/local/lib/python3.7/dist-packages (from yellowbrick) (1.19.5)\n",
            "Requirement already satisfied: scipy>=1.0.0 in /usr/local/lib/python3.7/dist-packages (from yellowbrick) (1.4.1)\n",
            "Requirement already satisfied: matplotlib!=3.0.0,>=1.5.1 in /usr/local/lib/python3.7/dist-packages (from yellowbrick) (3.2.2)\n",
            "Requirement already satisfied: cycler>=0.10.0 in /usr/local/lib/python3.7/dist-packages (from yellowbrick) (0.10.0)\n",
            "Requirement already satisfied: scikit-learn>=0.20 in /usr/local/lib/python3.7/dist-packages (from yellowbrick) (0.22.2.post1)\n",
            "Requirement already satisfied: kiwisolver>=1.0.1 in /usr/local/lib/python3.7/dist-packages (from matplotlib!=3.0.0,>=1.5.1->yellowbrick) (1.3.1)\n",
            "Requirement already satisfied: python-dateutil>=2.1 in /usr/local/lib/python3.7/dist-packages (from matplotlib!=3.0.0,>=1.5.1->yellowbrick) (2.8.1)\n",
            "Requirement already satisfied: pyparsing!=2.0.4,!=2.1.2,!=2.1.6,>=2.0.1 in /usr/local/lib/python3.7/dist-packages (from matplotlib!=3.0.0,>=1.5.1->yellowbrick) (2.4.7)\n",
            "Requirement already satisfied: six in /usr/local/lib/python3.7/dist-packages (from cycler>=0.10.0->yellowbrick) (1.15.0)\n",
            "Requirement already satisfied: joblib>=0.11 in /usr/local/lib/python3.7/dist-packages (from scikit-learn>=0.20->yellowbrick) (1.0.1)\n"
          ],
          "name": "stdout"
        }
      ]
    },
    {
      "cell_type": "code",
      "metadata": {
        "colab": {
          "base_uri": "https://localhost:8080/",
          "height": 677
        },
        "id": "yXiwcMcnHipA",
        "outputId": "219aad37-64f5-46ce-a2e6-032111c2ab04"
      },
      "source": [
        "from yellowbrick.cluster import KElbowVisualizer\n",
        "\n",
        "# Silhouette\n",
        "kmeans_vis_sil = KElbowVisualizer(kmeans, k=(2,12),metric=\"silhouette\")\n",
        "kmeans_vis_sil.fit(tf_idf_result)        # Fit the data to the visualizer\n",
        "kmeans_vis_sil.show()        # Finalize and render the figure"
      ],
      "execution_count": null,
      "outputs": [
        {
          "output_type": "stream",
          "text": [
            "\u001b[2m\u001b[36m(pid=4595)\u001b[0m /usr/local/lib/python3.7/dist-packages/sklearn/utils/validation.py:760: DataConversionWarning: A column-vector y was passed when a 1d array was expected. Please change the shape of y to (n_samples, ), for example using ravel().\n",
            "\u001b[2m\u001b[36m(pid=4595)\u001b[0m   y = column_or_1d(y, warn=True)\n"
          ],
          "name": "stderr"
        },
        {
          "output_type": "error",
          "ename": "AttributeError",
          "evalue": "ignored",
          "traceback": [
            "\u001b[0;31m---------------------------------------------------------------------------\u001b[0m",
            "\u001b[0;31mAttributeError\u001b[0m                            Traceback (most recent call last)",
            "\u001b[0;32m<ipython-input-134-fe40455babde>\u001b[0m in \u001b[0;36m<module>\u001b[0;34m()\u001b[0m\n\u001b[1;32m      5\u001b[0m \u001b[0;34m\u001b[0m\u001b[0m\n\u001b[1;32m      6\u001b[0m \u001b[0mkmeans_vis_sil\u001b[0m\u001b[0;34m.\u001b[0m\u001b[0mfit\u001b[0m\u001b[0;34m(\u001b[0m\u001b[0mtf_idf_result\u001b[0m\u001b[0;34m)\u001b[0m        \u001b[0;31m# Fit the data to the visualizer\u001b[0m\u001b[0;34m\u001b[0m\u001b[0;34m\u001b[0m\u001b[0m\n\u001b[0;32m----> 7\u001b[0;31m \u001b[0mkmeans_vis_sil\u001b[0m\u001b[0;34m.\u001b[0m\u001b[0mshow\u001b[0m\u001b[0;34m(\u001b[0m\u001b[0;34m)\u001b[0m        \u001b[0;31m# Finalize and render the figure\u001b[0m\u001b[0;34m\u001b[0m\u001b[0;34m\u001b[0m\u001b[0m\n\u001b[0m",
            "\u001b[0;32m/usr/local/lib/python3.7/dist-packages/yellowbrick/utils/wrapper.py\u001b[0m in \u001b[0;36m__getattr__\u001b[0;34m(self, attr)\u001b[0m\n\u001b[1;32m     40\u001b[0m     \u001b[0;32mdef\u001b[0m \u001b[0m__getattr__\u001b[0m\u001b[0;34m(\u001b[0m\u001b[0mself\u001b[0m\u001b[0;34m,\u001b[0m \u001b[0mattr\u001b[0m\u001b[0;34m)\u001b[0m\u001b[0;34m:\u001b[0m\u001b[0;34m\u001b[0m\u001b[0;34m\u001b[0m\u001b[0m\n\u001b[1;32m     41\u001b[0m         \u001b[0;31m# proxy to the wrapped object\u001b[0m\u001b[0;34m\u001b[0m\u001b[0;34m\u001b[0m\u001b[0;34m\u001b[0m\u001b[0m\n\u001b[0;32m---> 42\u001b[0;31m         \u001b[0;32mreturn\u001b[0m \u001b[0mgetattr\u001b[0m\u001b[0;34m(\u001b[0m\u001b[0mself\u001b[0m\u001b[0;34m.\u001b[0m\u001b[0m_wrapped\u001b[0m\u001b[0;34m,\u001b[0m \u001b[0mattr\u001b[0m\u001b[0;34m)\u001b[0m\u001b[0;34m\u001b[0m\u001b[0;34m\u001b[0m\u001b[0m\n\u001b[0m",
            "\u001b[0;31mAttributeError\u001b[0m: 'MiniBatchKMeans' object has no attribute 'show'"
          ]
        },
        {
          "output_type": "display_data",
          "data": {
            "image/png": "[encoded data removed]",
            "text/plain": [
              "<Figure size 576x396 with 2 Axes>"
            ]
          },
          "metadata": {
            "tags": []
          }
        }
      ]
    },
    {
      "cell_type": "markdown",
      "metadata": {
        "id": "2iolm7h5bDnD"
      },
      "source": [
        "Pada Tahap ini digunakan k-Means MiniBatchKMeans. \n",
        "Dengan Langkah pertama mencari terlebih dahulu Jumlah Cluster Optimum\n",
        "\n",
        "Terlihat Gambar disamping\n",
        "**Maka Jumlah cluster optimum adalah 3 **"
      ]
    },
    {
      "cell_type": "markdown",
      "metadata": {
        "id": "4Qaxdv7fT4cv"
      },
      "source": [
        "**Memilih Jumlah Cluster Optimum dengan `KMeans`**"
      ]
    },
    {
      "cell_type": "code",
      "metadata": {
        "colab": {
          "background_save": true
        },
        "id": "LVFxf5IBnhcC",
        "outputId": "57f99cc3-6b87-43fa-dadd-8c2086419bf6"
      },
      "source": [
        "from yellowbrick.cluster import KElbowVisualizer\n",
        "from sklearn.cluster import KMeans\n",
        "kmeans = KMeans()\n",
        "\n",
        "# Silhouette\n",
        "kmeans_vis_sil = KElbowVisualizer(kmeans, k=(2,12),metric=\"silhouette\")\n",
        "kmeans_vis_sil.fit(tf_idf_result)        # Fit the data to the visualizer\n",
        "kmeans_vis_sil.show()        # Finalize and render the figure"
      ],
      "execution_count": null,
      "outputs": [
        {
          "output_type": "error",
          "ename": "AttributeError",
          "evalue": "ignored",
          "traceback": [
            "\u001b[0;31m---------------------------------------------------------------------------\u001b[0m",
            "\u001b[0;31mAttributeError\u001b[0m                            Traceback (most recent call last)",
            "\u001b[0;32m<ipython-input-136-fe40455babde>\u001b[0m in \u001b[0;36m<module>\u001b[0;34m()\u001b[0m\n\u001b[1;32m      5\u001b[0m \u001b[0;34m\u001b[0m\u001b[0m\n\u001b[1;32m      6\u001b[0m \u001b[0mkmeans_vis_sil\u001b[0m\u001b[0;34m.\u001b[0m\u001b[0mfit\u001b[0m\u001b[0;34m(\u001b[0m\u001b[0mtf_idf_result\u001b[0m\u001b[0;34m)\u001b[0m        \u001b[0;31m# Fit the data to the visualizer\u001b[0m\u001b[0;34m\u001b[0m\u001b[0;34m\u001b[0m\u001b[0m\n\u001b[0;32m----> 7\u001b[0;31m \u001b[0mkmeans_vis_sil\u001b[0m\u001b[0;34m.\u001b[0m\u001b[0mshow\u001b[0m\u001b[0;34m(\u001b[0m\u001b[0;34m)\u001b[0m        \u001b[0;31m# Finalize and render the figure\u001b[0m\u001b[0;34m\u001b[0m\u001b[0;34m\u001b[0m\u001b[0m\n\u001b[0m",
            "\u001b[0;32m/usr/local/lib/python3.7/dist-packages/yellowbrick/utils/wrapper.py\u001b[0m in \u001b[0;36m__getattr__\u001b[0;34m(self, attr)\u001b[0m\n\u001b[1;32m     40\u001b[0m     \u001b[0;32mdef\u001b[0m \u001b[0m__getattr__\u001b[0m\u001b[0;34m(\u001b[0m\u001b[0mself\u001b[0m\u001b[0;34m,\u001b[0m \u001b[0mattr\u001b[0m\u001b[0;34m)\u001b[0m\u001b[0;34m:\u001b[0m\u001b[0;34m\u001b[0m\u001b[0;34m\u001b[0m\u001b[0m\n\u001b[1;32m     41\u001b[0m         \u001b[0;31m# proxy to the wrapped object\u001b[0m\u001b[0;34m\u001b[0m\u001b[0;34m\u001b[0m\u001b[0;34m\u001b[0m\u001b[0m\n\u001b[0;32m---> 42\u001b[0;31m         \u001b[0;32mreturn\u001b[0m \u001b[0mgetattr\u001b[0m\u001b[0;34m(\u001b[0m\u001b[0mself\u001b[0m\u001b[0;34m.\u001b[0m\u001b[0m_wrapped\u001b[0m\u001b[0;34m,\u001b[0m \u001b[0mattr\u001b[0m\u001b[0;34m)\u001b[0m\u001b[0;34m\u001b[0m\u001b[0;34m\u001b[0m\u001b[0m\n\u001b[0m",
            "\u001b[0;31mAttributeError\u001b[0m: 'KMeans' object has no attribute 'show'"
          ]
        },
        {
          "output_type": "display_data",
          "data": {
            "image/png": "[encoded data removed]",
            "text/plain": [
              "<Figure size 576x396 with 2 Axes>"
            ]
          },
          "metadata": {
            "tags": []
          }
        }
      ]
    },
    {
      "cell_type": "markdown",
      "metadata": {
        "id": "AuDkOCuEbKQr"
      },
      "source": [
        "Pada Tahap ini digunakan k-Means KMeans. \n",
        "Dengan Langkah pertama mencari terlebih dahulu Jumlah Cluster Optimum\n",
        "\n",
        "Terlihat Gambar disamping\n",
        "Maka *Jumlah cluster optimum adalah 4*"
      ]
    },
    {
      "cell_type": "markdown",
      "metadata": {
        "id": "9khFvZ8DK13y"
      },
      "source": [
        "**Menerapkan Model Cluster (k=4)**"
      ]
    },
    {
      "cell_type": "code",
      "metadata": {
        "colab": {
          "base_uri": "https://localhost:8080/"
        },
        "id": "bmiuV_mEHilz",
        "outputId": "11ea7235-fbb4-4830-f672-df9c8fe621ca"
      },
      "source": [
        "kmeans = MiniBatchKMeans(n_clusters=4)\n",
        "kmeans.fit(tf_idf_result)"
      ],
      "execution_count": null,
      "outputs": [
        {
          "output_type": "execute_result",
          "data": {
            "text/plain": [
              "MiniBatchKMeans(batch_size=100, compute_labels=True, init='k-means++',\n",
              "                init_size=None, max_iter=100, max_no_improvement=10,\n",
              "                n_clusters=4, n_init=3, random_state=None,\n",
              "                reassignment_ratio=0.01, tol=0.0, verbose=0)"
            ]
          },
          "metadata": {
            "tags": []
          },
          "execution_count": 49
        }
      ]
    },
    {
      "cell_type": "markdown",
      "metadata": {
        "id": "HJyd7LN5LGma"
      },
      "source": [
        "**Interpretasi Hasil Cluster**"
      ]
    },
    {
      "cell_type": "code",
      "metadata": {
        "id": "EWb1Q5QBLNJQ"
      },
      "source": [
        "# extract cluster's label\n",
        "cluster_label = pd.DataFrame(kmeans.predict(tf_idf_result),columns=[\"cluster\"])"
      ],
      "execution_count": null,
      "outputs": []
    },
    {
      "cell_type": "code",
      "metadata": {
        "id": "0aNI8Y6BLSIb"
      },
      "source": [
        "tf_idf_df_lab = pd.concat([tf_idf_result_df,cluster_label],axis=1)"
      ],
      "execution_count": null,
      "outputs": []
    },
    {
      "cell_type": "code",
      "metadata": {
        "colab": {
          "base_uri": "https://localhost:8080/",
          "height": 1000
        },
        "id": "hsEqdpjBLSyh",
        "outputId": "db964ab1-bc0c-4048-e9fe-3aecb5827bc5"
      },
      "source": [
        "import numpy as np\n",
        "import seaborn as sns\n",
        "\n",
        "for i in range(4):\n",
        "    cluster_df = tf_idf_df_lab.groupby(\"cluster\").sum().T.sort_values(ascending=False,by=i).head(10)[i].to_frame().reset_index()\n",
        "    cluster_df.columns = [\"words\",\"TF_IDF\"]\n",
        "    sns.barplot(x=\"TF_IDF\",y=\"words\",data=cluster_df).set_title('Cluster '+str(i))\n",
        "    plt.show()"
      ],
      "execution_count": null,
      "outputs": [
        {
          "output_type": "display_data",
          "data": {
            "image/png": "[encoded data removed]",
            "text/plain": [
              "<Figure size 576x396 with 1 Axes>"
            ]
          },
          "metadata": {
            "tags": []
          }
        },
        {
          "output_type": "display_data",
          "data": {
            "image/png": "[encoded data removed]",
            "text/plain": [
              "<Figure size 576x396 with 1 Axes>"
            ]
          },
          "metadata": {
            "tags": []
          }
        },
        {
          "output_type": "display_data",
          "data": {
            "image/png": "[encoded data removed]",
            "text/plain": [
              "<Figure size 576x396 with 1 Axes>"
            ]
          },
          "metadata": {
            "tags": []
          }
        },
        {
          "output_type": "display_data",
          "data": {
            "image/png": "[encoded data removed]",
            "text/plain": [
              "<Figure size 576x396 with 1 Axes>"
            ]
          },
          "metadata": {
            "tags": []
          }
        }
      ]
    },
    {
      "cell_type": "markdown",
      "metadata": {
        "id": "F-k5FgUvgRD7"
      },
      "source": [
        "\n",
        "\n",
        "> Berdasarkan Cluster diatas dapat di kelompokkan menjadi\n",
        "\n",
        "1.   Cluster 0 = Berita Sepak Bola\n",
        "2.   Cluster 1 = Berita Kebijakan Pemerintah Perilaku Hidup Sehat\n",
        "\n",
        "3.   Cluster 2 = Berita Perintah Tinggal dirumah\n",
        "4.   Cluster 3 = Berita Dampak Ekonomi\n",
        "\n",
        "\n",
        "\n",
        "\n",
        "\n"
      ]
    },
    {
      "cell_type": "markdown",
      "metadata": {
        "id": "SYLoNwwjbovE"
      },
      "source": [
        "Terdapat  4 Cluster dari model yang ditentukan yakni Berita Sepak Bola, Kebijakan Pemerintah Pusat terkait Covid-19 baik pola Hidup Sehat, Perintah Tinggal di rumah, dan dampak covid terhadap pertumbuhan ekonomi yang terus turun.\n",
        "\n",
        "Interpretasi Hasil Cluster menggunakan 10 kata-kata dengan frekuensi tertinggi dari masing-masing kluster. Kata-kata ini diukur dengan nilai TF-IDF dimana semakin besar nilainya maka semakin penting kata tersebut.\n",
        "\n",
        "\n",
        "***Cluster 0 = Berita Sepak Bola***\n",
        "\n",
        "Mengapa muncul cluster 0 yang merupakan olahraga khususnya Bola? Karena kabar tersebut sangat menjadi perbincangan hangat baik di dalam negeri maupun luar negeri. Berdasarkan Bobot TF IDF juga banyak perbincangan mengenai Kompetisi, Liga, Pemain, Pelatih, Klub, Pertandingan. Secara berita memang ada kontroversi tetap berjalan atau di pending.\n",
        "Cluster ini merupakan cluster dengan konten berita paling banyak yang membahas tentang sepak bola, dimana berita-berita di dalam kluster tersebut lebih banyak membahas pada kompetisi atau pertandingan antar club atau tim sepak bola pada liga-liga tertentu. Mengapa sepak bola? Sepak bola banyak diminati dan sebagaimana yang diketahui bahwa pada tahun 2020 adalah tahun awal pandemi sehingga akan banyak turnamen atau pertandingan yang ditangguhkan dan menjadi bahan pemberitaan.\n",
        "\n",
        "***Cluster 1 = Berita Kebijakan Pemerintah Perilaku Hidup Sehat***\n",
        "\n",
        "Mengapa muncul cluster 1 yang merupakan kebijakan Pemerintah untuk Hidup sehat? Kota paling banyak tersebut adalah Jakarta. Berita-berita pada cluster ini merupakan konten-konten berita terkait kebijakan untuk hidup sehat kepada masyarakat sesuai dengan anjuran Menteri Kesehatan.\n",
        "\n",
        "***Cluster 2 = Berita Kebijakan untuk Tinggal di rumah***\n",
        "\n",
        "Mengapa muncul cluster 2 yang merupakan Perintah untuk dirumah saja? Hal ini berkaitan untuk mengurangi penyebaran covid-19. Selain itu konten berita pada cluster ini juga berkaitan tentang perkembangan jumlah orang yang terinfeksi atau pasien covid-19.\n",
        "\n",
        "***Cluster 3 =  Berita Dampak Ekonomi***\n",
        "\n",
        "Mengapa muncul cluster 3 yang merupakan Dampak covid-19 terhadap perekonomian. Pandemi covid-19 menyebabkan penurunan di sektor ekonomi dimana para pelaku usaha mengalami penurunan hingga triliunan rupiah dikarenakan penurunan penjualan di beberapa sektor usaha tertentu.\n",
        "\n"
      ]
    },
    {
      "cell_type": "markdown",
      "metadata": {
        "id": "ud7SBOkPUELC"
      },
      "source": [
        "**Menerapkan Model Cluster (k=3)**"
      ]
    },
    {
      "cell_type": "code",
      "metadata": {
        "colab": {
          "base_uri": "https://localhost:8080/"
        },
        "id": "UaYjTd_37c1v",
        "outputId": "fc727554-3691-409b-8354-9c3e1baf72c0"
      },
      "source": [
        "from yellowbrick.cluster import KElbowVisualizer\n",
        "kmeans = MiniBatchKMeans(n_clusters=3)\n",
        "kmeans.fit(tf_idf_result)"
      ],
      "execution_count": null,
      "outputs": [
        {
          "output_type": "execute_result",
          "data": {
            "text/plain": [
              "MiniBatchKMeans(batch_size=100, compute_labels=True, init='k-means++',\n",
              "                init_size=None, max_iter=100, max_no_improvement=10,\n",
              "                n_clusters=3, n_init=3, random_state=None,\n",
              "                reassignment_ratio=0.01, tol=0.0, verbose=0)"
            ]
          },
          "metadata": {
            "tags": []
          },
          "execution_count": 52
        }
      ]
    },
    {
      "cell_type": "code",
      "metadata": {
        "id": "meiu1TbK8DjB"
      },
      "source": [
        "# extract cluster's label\n",
        "cluster_label = pd.DataFrame(kmeans.predict(tf_idf_result),columns=[\"cluster\"])"
      ],
      "execution_count": null,
      "outputs": []
    },
    {
      "cell_type": "code",
      "metadata": {
        "id": "bDmWdqBu8H8R"
      },
      "source": [
        "tf_idf_df_lab = pd.concat([tf_idf_result_df,cluster_label],axis=1)"
      ],
      "execution_count": null,
      "outputs": []
    },
    {
      "cell_type": "code",
      "metadata": {
        "colab": {
          "base_uri": "https://localhost:8080/",
          "height": 1000
        },
        "id": "RXeEahl67iZ2",
        "outputId": "d1ddaf41-4891-48d5-b568-7e5024faa2c7"
      },
      "source": [
        "# extract cluster's label\n",
        "cluster_label = pd.DataFrame(kmeans.predict(tf_idf_result),columns=[\"cluster\"])\n",
        "\n",
        "tf_idf_df_lab = pd.concat([tf_idf_result_df,cluster_label],axis=1)\n",
        "\n",
        "import numpy as np\n",
        "import seaborn as sns\n",
        "\n",
        "for i in range(3):\n",
        "    cluster_df = tf_idf_df_lab.groupby(\"cluster\").sum().T.sort_values(ascending=False,by=i).head(10)[i].to_frame().reset_index()\n",
        "    cluster_df.columns = [\"words\",\"TF_IDF\"]\n",
        "    sns.barplot(x=\"TF_IDF\",y=\"words\",data=cluster_df).set_title('Cluster '+str(i))\n",
        "    plt.show()"
      ],
      "execution_count": null,
      "outputs": [
        {
          "output_type": "display_data",
          "data": {
            "image/png": "[encoded data removed]",
            "text/plain": [
              "<Figure size 576x396 with 1 Axes>"
            ]
          },
          "metadata": {
            "tags": []
          }
        },
        {
          "output_type": "display_data",
          "data": {
            "image/png": "[encoded data removed]",
            "text/plain": [
              "<Figure size 576x396 with 1 Axes>"
            ]
          },
          "metadata": {
            "tags": []
          }
        },
        {
          "output_type": "display_data",
          "data": {
            "image/png": "[encoded data removed]",
            "text/plain": [
              "<Figure size 576x396 with 1 Axes>"
            ]
          },
          "metadata": {
            "tags": []
          }
        }
      ]
    },
    {
      "cell_type": "markdown",
      "metadata": {
        "id": "bxAF--rHIGi1"
      },
      "source": [
        "\n",
        "> Berdasarkan Cluster diatas dapat di kelompokkan menjadi\n",
        "\n",
        "1.   Cluster 0 = Berita Sepak Bola\n",
        "2.   Cluster 1 = Berita Kebijakan Pemerintah hidup sehat dan Aktivitas dirumah\n",
        "3.   Cluster 2 = Berita Usaha pemerintah terhadap pekerja dan pelaku usaha terdampak Covid\n"
      ]
    },
    {
      "cell_type": "markdown",
      "metadata": {
        "id": "80tW-ysUapZE"
      },
      "source": [
        "Terdapat  3 Cluster dari model yang ditentukan yakni Berita Sepak Bola, Kebijakan Pemerintah Pusat terkait Covid-19 baik pola Hidup Sehat maupun Tinggal dirumah serta usaha pemerintah terhadap pekerja, dan Pelaku Usaha yang terdampak Covid-19.\n",
        "\n",
        "Interpretasi Hasil Cluster menggunakan 10 kata-kata dengan frekuensi tertinggi dari masing-masing kluster. Kata-kata ini diukur dengan nilai TF-IDF dimana semakin besar nilainya maka semakin penting kata tersebut.\n",
        "\n",
        "***Clster 0 = Berita Sepak Bola***\n",
        "\n",
        "Mengapa muncul cluster 0 yang merupakan olahraga khususnya Bola? Karena kabar tersebut sangat menjadi perbincangan hangat baik di dalam negeri maupun luar negeri. Berdasarkan Bobot TF IDF juga banyak perbincangan mengenai Kompetisi, Liga, Pemain, Pelatih, Klub, Pertandingan. Secara berita memang ada kontroversi tetap berjalan atau di pending. \n",
        "Cluster ini merupakan cluster dengan konten berita yang paling banyak yang membahas tentang sepak bola, dimana berita-berita di dalam kluster tersebut lebih banyak membahas pada kompetisi atau pertandingan antar club atau tim sepak bola pada liga-liga tertentu. Mengapa sepak bola? Sepak bola banyak diminati dan sebagaimana yang diketahui bahwa pada tahun 2020 adalah tahun awal pandemi sehingga akan banyak turnamen atau pertandingan yang ditangguhkan dan menjadi bahan pemberitaan. \n",
        "\n",
        "\n",
        "***Cluster 1 = Berita Kebijakan Pemerintah hidup sehat dan Aktivitas di rumah***\n",
        "\n",
        "Mengapa muncul cluster 1 yang merupakan berita mengenai kebijakan Pemerintah untuk Hidup sehat? \n",
        "Berita-berita pada cluster ini lebih banyak membahas terkait informasi perkembangan pandemi covid-19 seperti jumlah kasus positif covid-19 dan kebijakan-kebijakan yang ditempuh oleh pemerintah untuk menekan kasus positif dengan adanya peraturan WFH.\n",
        "\n",
        "***Cluster 2 = Berita Usaha pemerintah terhadap pekerja dan pelaku usaha terdampak Covid***\n",
        "\n",
        "Mengapa muncul cluster 2 yang merupakan usaha pemerintah terhadap pekerja dan pelaku usaha yang terdampak Covid-19?\n",
        "Kota paling banyak tersebut adalah Jakarta. Hal ini berkaitan dengan perintah untuk hidup sehat kepada masyarakat.\n",
        "Berita-berita pada cluster ini lebih banyak membahas mengenai usaha yang ditempuh pemerintah Indonesia untuk membantu pekerja dan para pelaku usaha yang terdampak pandemi agar perekonomian tetap stabil. \n",
        "\n"
      ]
    },
    {
      "cell_type": "markdown",
      "metadata": {
        "id": "dD0jbKXfUHE_"
      },
      "source": [
        "**Menerapkan Model Cluster (k=5)**"
      ]
    },
    {
      "cell_type": "code",
      "metadata": {
        "colab": {
          "base_uri": "https://localhost:8080/"
        },
        "id": "TVMK6hP3ILDH",
        "outputId": "986dfe4b-9697-4c57-db79-a5c431ff64cc"
      },
      "source": [
        "from yellowbrick.cluster import KElbowVisualizer\n",
        "kmeans = MiniBatchKMeans(n_clusters=5)\n",
        "kmeans.fit(tf_idf_result)"
      ],
      "execution_count": null,
      "outputs": [
        {
          "output_type": "execute_result",
          "data": {
            "text/plain": [
              "MiniBatchKMeans(batch_size=100, compute_labels=True, init='k-means++',\n",
              "                init_size=None, max_iter=100, max_no_improvement=10,\n",
              "                n_clusters=5, n_init=3, random_state=None,\n",
              "                reassignment_ratio=0.01, tol=0.0, verbose=0)"
            ]
          },
          "metadata": {
            "tags": []
          },
          "execution_count": 56
        }
      ]
    },
    {
      "cell_type": "code",
      "metadata": {
        "id": "EXmNxYM1ISYv"
      },
      "source": [
        "# extract cluster's label\n",
        "cluster_label = pd.DataFrame(kmeans.predict(tf_idf_result),columns=[\"cluster\"])"
      ],
      "execution_count": null,
      "outputs": []
    },
    {
      "cell_type": "code",
      "metadata": {
        "id": "5BLJcznpIVwO"
      },
      "source": [
        "tf_idf_df_lab = pd.concat([tf_idf_result_df,cluster_label],axis=1)"
      ],
      "execution_count": null,
      "outputs": []
    },
    {
      "cell_type": "code",
      "metadata": {
        "colab": {
          "base_uri": "https://localhost:8080/",
          "height": 1000
        },
        "id": "-gP_sOu2IaZo",
        "outputId": "6d8118a6-d472-4800-95cb-304d862cfdac"
      },
      "source": [
        "# extract cluster's label\n",
        "cluster_label = pd.DataFrame(kmeans.predict(tf_idf_result),columns=[\"cluster\"])\n",
        "\n",
        "tf_idf_df_lab = pd.concat([tf_idf_result_df,cluster_label],axis=1)\n",
        "\n",
        "import numpy as np\n",
        "import seaborn as sns\n",
        "\n",
        "for i in range(5):\n",
        "    cluster_df = tf_idf_df_lab.groupby(\"cluster\").sum().T.sort_values(ascending=False,by=i).head(10)[i].to_frame().reset_index()\n",
        "    cluster_df.columns = [\"words\",\"TF_IDF\"]\n",
        "    sns.barplot(x=\"TF_IDF\",y=\"words\",data=cluster_df).set_title('Cluster '+str(i))\n",
        "    plt.show()"
      ],
      "execution_count": null,
      "outputs": [
        {
          "output_type": "display_data",
          "data": {
            "image/png": "[encoded data removed]",
            "text/plain": [
              "<Figure size 576x396 with 1 Axes>"
            ]
          },
          "metadata": {
            "tags": []
          }
        },
        {
          "output_type": "display_data",
          "data": {
            "image/png": "[encoded data removed]",
            "text/plain": [
              "<Figure size 576x396 with 1 Axes>"
            ]
          },
          "metadata": {
            "tags": []
          }
        },
        {
          "output_type": "display_data",
          "data": {
            "image/png": "[encoded data removed]",
            "text/plain": [
              "<Figure size 576x396 with 1 Axes>"
            ]
          },
          "metadata": {
            "tags": []
          }
        },
        {
          "output_type": "display_data",
          "data": {
            "image/png": "[encoded data removed]",
            "text/plain": [
              "<Figure size 576x396 with 1 Axes>"
            ]
          },
          "metadata": {
            "tags": []
          }
        },
        {
          "output_type": "display_data",
          "data": {
            "image/png": "[encoded data removed]",
            "text/plain": [
              "<Figure size 576x396 with 1 Axes>"
            ]
          },
          "metadata": {
            "tags": []
          }
        }
      ]
    },
    {
      "cell_type": "markdown",
      "metadata": {
        "id": "Ia4qEO5aNhB1"
      },
      "source": [
        "\n",
        "\n",
        "> Berdasarkan Cluster diatas dapat di kelompokkan menjadi\n",
        "1.   Cluster 0 = Berita Covid-19 Mancanegara\n",
        "2.   Cluster 1 = Berita Kebijakan Tinggal di Rumah Saja\n",
        "3.   Cluster 2 = Berita Usaha pemerintah terhadap pekerja dan \n",
        "        pelaku usaha terdampak Covid\n",
        "4.   Cluster 3 = Berita Fasilitas Kesehatan Covid-19\n",
        "5.   Cluster 4 = Berita Sepak Bola"
      ]
    },
    {
      "cell_type": "markdown",
      "metadata": {
        "id": "-Lk3uJBUb8IT"
      },
      "source": [
        "Terdapat  5 Cluster dari model yang ditentukan yakni Berita Covid-19 Mancanegara, Berita Sepak Bola,  Kebijakan Tinggal di rumah, Kondisi fasilitas kesehatan Covid-19 serta usaha pemerintah terhadap pekerja dan pelaku usaha yang terdampak Covid-19.\n",
        "\n",
        "\n",
        "Interpretasi Hasil Cluster menggunakan 10 kata-kata dengan frekuensi tertinggi dari masing-masing kluster. Kata-kata penting ini diukur dengan nilai TF-IDF dimana semakin besar nilainya maka semakin penting kata tersebut.\n",
        "\n",
        "***Cluster 0 = Berita Covid-19 Mancanegara***\n",
        "\n",
        "Mengapa muncul cluster 0 yang merupakan berita kasus covid-19 di beberapa negara seperti Amerika, Cina. Berita-berita pada cluster ini memiliki konten-konten mengenai virus covid-19, Kasus kematian, Obat serta kasus orang terinfeksi.\n",
        "\n",
        "***Cluster 1 = Kebijakan Tinggal di Rumah Saja***\n",
        "\n",
        "Mengapa muncul cluster 1 yang merupakan Perintah untuk dirumah saja? Hal ini berkaitan untuk mengurangi penyebaran covid-19. Selain itu, berita-berita pada cluster ini memiliki konten mengenai perkembangan jumlah pasien kasus positif, jumlah pasien dalam pengawasan, dll yang disampaikan oleh juru bicara pemerintah untuk penanganan covid-19 Achmad Yurianto.\n",
        "\n",
        "***Cluster 2 = Berita Usaha pemerintah terhadap pekerja dan pelaku usaha terdampak Covid***\n",
        "\n",
        "Mengapa muncul cluster 2 yang merupakan usaha pemerintah terhadap pekerja dan pelaku usaha yang terdampak Covid-19. Pada cluster ini berita-berita cenderung memiliki konten-konten yang membahas tentang usaha yang ditempuh pemerintah Indonesia, khususnya pemerintah jakarta,  untuk membantu pekerja dan para pelaku usaha yang terdampak pandemi agar perekonomian di Indonesia stabil.\n",
        "\n",
        "***Cluster 3 = Berita Fasilitas Kesehatan Covid-19***\n",
        "\n",
        "Mengapa muncul cluster 3 yang merupakan kondisi Fasilitas kesehatan upaya penanganan covid-19 mulai dari Rumah Sakit dan Alat untuk mendeteksi terkonfirmasi Covid-19.\n",
        "\n",
        "***Cluster 4 = Berita Sepak Bola***\n",
        "\n",
        "Mengapa muncul cluster 4 yang merupakan olahraga khususnya Bola? Karena kabar tersebut sangat menjadi perbincangan hangat baik di dalam negeri maupun luar negeri. Berdasarkan Bobot TF IDF juga banyak perbincangan mengenai Kompetisi, Liga, Pemain, Pelatih, Klub, Pertandingan. Secara berita memang ada kontroversi tetap berjalan atau di pending\n",
        "\n",
        "\n"
      ]
    },
    {
      "cell_type": "markdown",
      "metadata": {
        "id": "WtSceKGUdbRB"
      },
      "source": [
        "**Insigh**"
      ]
    },
    {
      "cell_type": "markdown",
      "metadata": {
        "id": "V13L1oWNdj8i"
      },
      "source": [
        "Sektor yang terdampak dari adanya kasus Covid-19 disini adalah \n",
        "\n",
        "1.   Ekonomi\n",
        "2.   Kompetisi Sepak Bola\n",
        "\n",
        "Terlihat dari beberapa berita yang dominan mengangkat isu tersebut. Hal ini sangat berkorelasi dengan Kebijakan Pemerintah mulai dari Perintah untuk Hidup sehat, melakukan aktivitas dirumah saja.\n",
        "\n",
        "Hal ini menjadi pembahasan yang bisa diangkat juga oleh peneliti maupun pemangku kebijakan agar isu-isu yang hangat ini bisa dicari solusi atau menganalisa dampak lebih luas lagi. Serta mencari informasi kembali bagaimana penanganan covid-19 di berbagai negara\n"
      ]
    },
    {
      "cell_type": "markdown",
      "metadata": {
        "id": "hTodSvgLdu8b"
      },
      "source": [
        "\n",
        "\n",
        "---\n",
        "\n"
      ]
    },
    {
      "cell_type": "markdown",
      "metadata": {
        "id": "WS8n1w39eduY"
      },
      "source": [
        "**Hierarchical Clustering**"
      ]
    },
    {
      "cell_type": "code",
      "metadata": {
        "id": "yVohM9zYejRQ"
      },
      "source": [
        "from sklearn.cluster import AgglomerativeClustering\n",
        "hclust = AgglomerativeClustering()"
      ],
      "execution_count": null,
      "outputs": []
    },
    {
      "cell_type": "code",
      "metadata": {
        "id": "2db1JbI2epdh"
      },
      "source": [
        "arraytf = tf_idf_result.toarray()"
      ],
      "execution_count": null,
      "outputs": []
    },
    {
      "cell_type": "code",
      "metadata": {
        "colab": {
          "base_uri": "https://localhost:8080/"
        },
        "id": "nRKfajT7ZKjq",
        "outputId": "2a7832b7-be0f-4bf1-a415-8f6f249d3301"
      },
      "source": [
        "from yellowbrick.cluster import KElbowVisualizer"
      ],
      "execution_count": null,
      "outputs": [
        {
          "output_type": "stream",
          "text": [
            "/usr/local/lib/python3.7/dist-packages/sklearn/utils/deprecation.py:144: FutureWarning: The sklearn.metrics.classification module is  deprecated in version 0.22 and will be removed in version 0.24. The corresponding classes / functions should instead be imported from sklearn.metrics. Anything that cannot be imported from sklearn.metrics is now part of the private API.\n",
            "  warnings.warn(message, FutureWarning)\n"
          ],
          "name": "stderr"
        }
      ]
    },
    {
      "cell_type": "code",
      "metadata": {
        "colab": {
          "background_save": true
        },
        "id": "lbIlYxz-e046"
      },
      "source": [
        "# Silhouette\n",
        "hclust_vis_sil = KElbowVisualizer(hclust, k=(2,7),metric=\"silhouette\")\n",
        "arraytf = tf_idf_result.toarray()\n",
        "hclust_vis_sil.fit(arraytf)        # Fit the data to the visualizer\n",
        "hclust_vis_sil.show()        # Finalize and render the figure\n"
      ],
      "execution_count": null,
      "outputs": []
    },
    {
      "cell_type": "code",
      "metadata": {
        "id": "yBG9hLY6euTc"
      },
      "source": [
        "# Within Sum-of-Squared\n",
        "hclust_vis_wss = KElbowVisualizer(hclust, k=(2,7),metric=\"distortion\")\n",
        "arraytf = tf_idf_result.toarray()\n",
        "hclust_vis_wss.fit(arraytf)        # Fit the data to the visualizer\n",
        "hclust_vis_wss.show()        # Finalize and render the figure"
      ],
      "execution_count": null,
      "outputs": []
    },
    {
      "cell_type": "code",
      "metadata": {
        "colab": {
          "base_uri": "https://localhost:8080/"
        },
        "id": "RV_bPKRtexjd",
        "outputId": "0b19c8b0-d9ef-41c4-cb4e-79318689f4ea"
      },
      "source": [
        "hclust = AgglomerativeClustering(n_clusters=5)\n",
        "hclust.fit(arraytf)"
      ],
      "execution_count": null,
      "outputs": [
        {
          "output_type": "execute_result",
          "data": {
            "text/plain": [
              "AgglomerativeClustering(affinity='euclidean', compute_full_tree='auto',\n",
              "                        connectivity=None, distance_threshold=None,\n",
              "                        linkage='ward', memory=None, n_clusters=5)"
            ]
          },
          "metadata": {
            "tags": []
          },
          "execution_count": 115
        }
      ]
    },
    {
      "cell_type": "code",
      "metadata": {
        "colab": {
          "base_uri": "https://localhost:8080/"
        },
        "id": "VU3ogHrZljqe",
        "outputId": "7155756e-3f16-4f9c-d21f-c02269c32e34"
      },
      "source": [
        "hclust"
      ],
      "execution_count": null,
      "outputs": [
        {
          "output_type": "execute_result",
          "data": {
            "text/plain": [
              "AgglomerativeClustering(affinity='euclidean', compute_full_tree='auto',\n",
              "                        connectivity=None, distance_threshold=None,\n",
              "                        linkage='ward', memory=None, n_clusters=2)"
            ]
          },
          "metadata": {
            "tags": []
          },
          "execution_count": 124
        }
      ]
    },
    {
      "cell_type": "code",
      "metadata": {
        "id": "wf7w6cYpk18E"
      },
      "source": [
        "content_hclust = content.assign(labels = hclust.labels_)\n",
        "content_hclust.head()"
      ],
      "execution_count": null,
      "outputs": []
    },
    {
      "cell_type": "code",
      "metadata": {
        "id": "PJLjDmZrkv2C"
      },
      "source": [
        "content_hclust.groupby('labels').mean()"
      ],
      "execution_count": null,
      "outputs": []
    },
    {
      "cell_type": "code",
      "metadata": {
        "id": "0FMrcO5XmnVJ"
      },
      "source": [
        "from sklearn.metrics.pairwise import cosine_similarity\n",
        "dist = 1 - cosine_similarity(tf_idf_result)"
      ],
      "execution_count": null,
      "outputs": []
    },
    {
      "cell_type": "code",
      "metadata": {
        "id": "8QXB8YCEmiXo"
      },
      "source": [
        "from scipy.cluster.hierarchy import ward, dendrogram\n",
        "\n",
        "linkage_matrix = ward(dist) #define the linkage_matrix using ward clustering pre-computed distances\n",
        "\n",
        "fig, ax = plt.subplots(figsize=(15, 20)) # set size\n",
        "ax = dendrogram(linkage_matrix, orientation=\"right\", labels=titles);\n",
        "\n",
        "plt.tick_params(\\\n",
        "    axis= 'x',          # changes apply to the x-axis\n",
        "    which='both',      # both major and minor ticks are affected\n",
        "    bottom='off',      # ticks along the bottom edge are off\n",
        "    top='off',         # ticks along the top edge are off\n",
        "    labelbottom='off')\n",
        "\n",
        "plt.tight_layout() #show plot with tight layout\n",
        "\n",
        "#uncomment below to save figure\n",
        "plt.savefig('ward_clusters.png', dpi=200) #save figure as ward_clusters"
      ],
      "execution_count": null,
      "outputs": []
    }
  ]
}